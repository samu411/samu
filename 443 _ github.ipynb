{
  "cells": [
    {
      "cell_type": "code",
      "execution_count": null,
      "metadata": {
        "colab": {
          "base_uri": "https://localhost:8080/"
        },
        "id": "8_lvBbhkYonM",
        "outputId": "91fb0d54-7a7c-4b38-aded-452d5f3053ed"
      },
      "outputs": [
        {
          "name": "stdout",
          "output_type": "stream",
          "text": [
            "[5, 3.14, 'eds']\n"
          ]
        }
      ],
      "source": [
        " l1 =  [5,3.14,\"eds\"]\n",
        "print(l1)"
      ]
    },
    {
      "cell_type": "code",
      "execution_count": null,
      "metadata": {
        "colab": {
          "base_uri": "https://localhost:8080/"
        },
        "id": "wtSfrH1vZx2o",
        "outputId": "acbdfdf5-11e0-4c97-b552-86e0513698f7"
      },
      "outputs": [
        {
          "name": "stdout",
          "output_type": "stream",
          "text": [
            "{'eds': 10, 'son': 20, 'dt': 30}\n"
          ]
        }
      ],
      "source": [
        "d1 = {\"eds\":10,\"son\":20,\"dt\":30}\n",
        "print(d1)"
      ]
    },
    {
      "cell_type": "code",
      "execution_count": null,
      "metadata": {
        "colab": {
          "base_uri": "https://localhost:8080/"
        },
        "id": "9BKDSX9yZXD1",
        "outputId": "847a7fc2-aa6f-4f5c-fd49-3c85b332fe03"
      },
      "outputs": [
        {
          "name": "stdout",
          "output_type": "stream",
          "text": [
            "(54, 3.14, 'eds')\n"
          ]
        }
      ],
      "source": [
        "t1 = (54,3.14,\"eds\")\n",
        "print(t1)"
      ]
    },
    {
      "cell_type": "code",
      "execution_count": null,
      "metadata": {
        "colab": {
          "base_uri": "https://localhost:8080/"
        },
        "id": "TMHXVf4VbGo5",
        "outputId": "411faece-96de-4bb7-a6b0-a1a896b5682e"
      },
      "outputs": [
        {
          "name": "stdout",
          "output_type": "stream",
          "text": [
            "a as int: 54\n"
          ]
        }
      ],
      "source": [
        "a = 54\n",
        "print(\"a as int:\",a)"
      ]
    },
    {
      "attachments": {},
      "cell_type": "markdown",
      "metadata": {
        "id": "wKhcAvgXbdpn"
      },
      "source": [
        "b = 3.1416\n",
        "print(\"b as long:\",b)"
      ]
    },
    {
      "cell_type": "code",
      "execution_count": null,
      "metadata": {
        "colab": {
          "base_uri": "https://localhost:8080/"
        },
        "id": "quheO8z6b0uK",
        "outputId": "378b0632-c939-4a3f-dec1-b14dd7563fa1"
      },
      "outputs": [
        {
          "name": "stdout",
          "output_type": "stream",
          "text": [
            "c as float: 12345\n"
          ]
        }
      ],
      "source": [
        "c = 12345\n",
        "print(\"c as float:\",c)"
      ]
    },
    {
      "cell_type": "code",
      "execution_count": null,
      "metadata": {
        "colab": {
          "base_uri": "https://localhost:8080/"
        },
        "id": "ONLv4wXpcInX",
        "outputId": "1d11e7a7-0e4b-4a2f-855b-fba463f81658"
      },
      "outputs": [
        {
          "name": "stdout",
          "output_type": "stream",
          "text": [
            "this is python\n"
          ]
        }
      ],
      "source": [
        "str1 = \"this is python\"\n",
        "print(str1)"
      ]
    },
    {
      "cell_type": "code",
      "execution_count": null,
      "metadata": {
        "colab": {
          "base_uri": "https://localhost:8080/"
        },
        "id": "j6pNTLDNc4VI",
        "outputId": "af6b88f8-7815-4e93-f301-c87dc5aa6da2"
      },
      "outputs": [
        {
          "name": "stdout",
          "output_type": "stream",
          "text": [
            "22\n",
            "25\n",
            "27\n",
            "27 is greater\n"
          ]
        }
      ],
      "source": [
        "m1 = int(input())\n",
        "m2 = int(input())\n",
        "m3 = int(input())\n",
        "if m1>m2 and m1>m3 :\n",
        "  print(m1,\"is greater\")\n",
        "if m2>m1 and m2>m3 :\n",
        "  print(m2,\"is greater\")\n",
        "if m3>m1 and m3>m2 :\n",
        "  print(m3,\"is greatermb\")"
      ]
    },
    {
      "cell_type": "code",
      "execution_count": null,
      "metadata": {
        "colab": {
          "base_uri": "https://localhost:8080/"
        },
        "id": "-DRvQTffj3bI",
        "outputId": "e92a7227-07d0-42ab-bce9-d9299a0fae26"
      },
      "outputs": [
        {
          "name": "stdout",
          "output_type": "stream",
          "text": [
            "enter a number\n",
            "23\n",
            "number is odd\n"
          ]
        }
      ],
      "source": [
        "print(\"enter a number\")\n",
        "num = int(input())\n",
        "if num%2==0:\n",
        "  print(\"number is even\")\n",
        "else:\n",
        "    print(\"number is odd\")"
      ]
    },
    {
      "cell_type": "code",
      "execution_count": null,
      "metadata": {
        "colab": {
          "base_uri": "https://localhost:8080/",
          "height": 235
        },
        "id": "8qwGa1zKkoga",
        "outputId": "7feece81-457f-41b8-eb8c-51423f07e065"
      },
      "outputs": [
        {
          "ename": "NameError",
          "evalue": "ignored",
          "output_type": "error",
          "traceback": [
            "\u001b[0;31m---------------------------------------------------------------------------\u001b[0m",
            "\u001b[0;31mNameError\u001b[0m                                 Traceback (most recent call last)",
            "\u001b[0;32m<ipython-input-20-f0c93bc9b6af>\u001b[0m in \u001b[0;36m<cell line: 1>\u001b[0;34m()\u001b[0m\n\u001b[0;32m----> 1\u001b[0;31m \u001b[0;32mif\u001b[0m \u001b[0mn1\u001b[0m\u001b[0;34m>\u001b[0m\u001b[0mn2\u001b[0m\u001b[0;34m:\u001b[0m\u001b[0;34m\u001b[0m\u001b[0;34m\u001b[0m\u001b[0m\n\u001b[0m\u001b[1;32m      2\u001b[0m   \u001b[0;32mif\u001b[0m \u001b[0mn1\u001b[0m\u001b[0;34m>\u001b[0m\u001b[0mn3\u001b[0m\u001b[0;34m:\u001b[0m\u001b[0;34m\u001b[0m\u001b[0;34m\u001b[0m\u001b[0m\n\u001b[1;32m      3\u001b[0m     \u001b[0mprint\u001b[0m\u001b[0;34m(\u001b[0m\u001b[0mn1\u001b[0m\u001b[0;34m,\u001b[0m\u001b[0;34m\"is largest\"\u001b[0m\u001b[0;34m)\u001b[0m\u001b[0;34m\u001b[0m\u001b[0;34m\u001b[0m\u001b[0m\n\u001b[1;32m      4\u001b[0m \u001b[0;32mif\u001b[0m \u001b[0mn2\u001b[0m\u001b[0;34m>\u001b[0m\u001b[0mn1\u001b[0m\u001b[0;34m:\u001b[0m\u001b[0;34m\u001b[0m\u001b[0;34m\u001b[0m\u001b[0m\n\u001b[1;32m      5\u001b[0m   \u001b[0;32mif\u001b[0m \u001b[0mn2\u001b[0m\u001b[0;34m>\u001b[0m\u001b[0mn3\u001b[0m\u001b[0;34m:\u001b[0m\u001b[0;34m\u001b[0m\u001b[0;34m\u001b[0m\u001b[0m\n",
            "\u001b[0;31mNameError\u001b[0m: name 'n1' is not defined"
          ]
        }
      ],
      "source": [
        "if n1>n2:\n",
        "  if n1>n3:\n",
        "    print(n1,\"is largest\")\n",
        "if n2>n1:\n",
        "  if n2>n3:\n",
        "    print(n2,\"is largest\")\n",
        "if n3>n1:\n",
        "  if n3>n2:\n",
        "    print(n3,\"is largest\")\n",
        "print(\"main area ends\")"
      ]
    },
    {
      "cell_type": "code",
      "execution_count": null,
      "metadata": {
        "colab": {
          "base_uri": "https://localhost:8080/",
          "height": 585
        },
        "id": "CyxOqq46drVV",
        "outputId": "39adc266-d43e-4e12-c3a7-bc178a47a5a8"
      },
      "outputs": [
        {
          "data": {
            "text/html": [
              "\n",
              "  <div id=\"df-df795441-58e2-4d95-bb16-4fc0101af141\">\n",
              "    <div class=\"colab-df-container\">\n",
              "      <div>\n",
              "<style scoped>\n",
              "    .dataframe tbody tr th:only-of-type {\n",
              "        vertical-align: middle;\n",
              "    }\n",
              "\n",
              "    .dataframe tbody tr th {\n",
              "        vertical-align: top;\n",
              "    }\n",
              "\n",
              "    .dataframe thead th {\n",
              "        text-align: right;\n",
              "    }\n",
              "</style>\n",
              "<table border=\"1\" class=\"dataframe\">\n",
              "  <thead>\n",
              "    <tr style=\"text-align: right;\">\n",
              "      <th></th>\n",
              "      <th>Unnamed: 0</th>\n",
              "      <th>Unnamed: 1</th>\n",
              "      <th>Unnamed: 2</th>\n",
              "      <th>Unnamed: 3</th>\n",
              "      <th>Unnamed: 4</th>\n",
              "    </tr>\n",
              "  </thead>\n",
              "  <tbody>\n",
              "    <tr>\n",
              "      <th>0</th>\n",
              "      <td>Sr no.</td>\n",
              "      <td>Emp Name</td>\n",
              "      <td>Emp id</td>\n",
              "      <td>Date</td>\n",
              "      <td>Leaves</td>\n",
              "    </tr>\n",
              "    <tr>\n",
              "      <th>1</th>\n",
              "      <td>1</td>\n",
              "      <td>Ganesh</td>\n",
              "      <td>1001</td>\n",
              "      <td>2023-01-21 00:00:00</td>\n",
              "      <td>2</td>\n",
              "    </tr>\n",
              "    <tr>\n",
              "      <th>2</th>\n",
              "      <td>2</td>\n",
              "      <td>Kartik</td>\n",
              "      <td>1002</td>\n",
              "      <td>2023-01-22 00:00:00</td>\n",
              "      <td>4</td>\n",
              "    </tr>\n",
              "    <tr>\n",
              "      <th>3</th>\n",
              "      <td>3</td>\n",
              "      <td>Veera</td>\n",
              "      <td>1003</td>\n",
              "      <td>2023-01-23 00:00:00</td>\n",
              "      <td>8</td>\n",
              "    </tr>\n",
              "    <tr>\n",
              "      <th>4</th>\n",
              "      <td>4</td>\n",
              "      <td>Sanskruti</td>\n",
              "      <td>1004</td>\n",
              "      <td>2023-01-24 00:00:00</td>\n",
              "      <td>6</td>\n",
              "    </tr>\n",
              "    <tr>\n",
              "      <th>5</th>\n",
              "      <td>5</td>\n",
              "      <td>Archana</td>\n",
              "      <td>1005</td>\n",
              "      <td>2023-01-25 00:00:00</td>\n",
              "      <td>1</td>\n",
              "    </tr>\n",
              "    <tr>\n",
              "      <th>6</th>\n",
              "      <td>6</td>\n",
              "      <td>Aradhana</td>\n",
              "      <td>1006</td>\n",
              "      <td>2023-01-26 00:00:00</td>\n",
              "      <td>2</td>\n",
              "    </tr>\n",
              "    <tr>\n",
              "      <th>7</th>\n",
              "      <td>7</td>\n",
              "      <td>Pratham</td>\n",
              "      <td>1007</td>\n",
              "      <td>2023-01-27 00:00:00</td>\n",
              "      <td>3</td>\n",
              "    </tr>\n",
              "    <tr>\n",
              "      <th>8</th>\n",
              "      <td>8</td>\n",
              "      <td>Sayali</td>\n",
              "      <td>1008</td>\n",
              "      <td>2023-01-28 00:00:00</td>\n",
              "      <td>5</td>\n",
              "    </tr>\n",
              "    <tr>\n",
              "      <th>9</th>\n",
              "      <td>9</td>\n",
              "      <td>Smruti</td>\n",
              "      <td>1009</td>\n",
              "      <td>2023-01-29 00:00:00</td>\n",
              "      <td>9</td>\n",
              "    </tr>\n",
              "    <tr>\n",
              "      <th>10</th>\n",
              "      <td>10</td>\n",
              "      <td>Vijay</td>\n",
              "      <td>1010</td>\n",
              "      <td>2023-01-30 00:00:00</td>\n",
              "      <td>7</td>\n",
              "    </tr>\n",
              "  </tbody>\n",
              "</table>\n",
              "</div>\n",
              "      <button class=\"colab-df-convert\" onclick=\"convertToInteractive('df-df795441-58e2-4d95-bb16-4fc0101af141')\"\n",
              "              title=\"Convert this dataframe to an interactive table.\"\n",
              "              style=\"display:none;\">\n",
              "        \n",
              "  <svg xmlns=\"http://www.w3.org/2000/svg\" height=\"24px\"viewBox=\"0 0 24 24\"\n",
              "       width=\"24px\">\n",
              "    <path d=\"M0 0h24v24H0V0z\" fill=\"none\"/>\n",
              "    <path d=\"M18.56 5.44l.94 2.06.94-2.06 2.06-.94-2.06-.94-.94-2.06-.94 2.06-2.06.94zm-11 1L8.5 8.5l.94-2.06 2.06-.94-2.06-.94L8.5 2.5l-.94 2.06-2.06.94zm10 10l.94 2.06.94-2.06 2.06-.94-2.06-.94-.94-2.06-.94 2.06-2.06.94z\"/><path d=\"M17.41 7.96l-1.37-1.37c-.4-.4-.92-.59-1.43-.59-.52 0-1.04.2-1.43.59L10.3 9.45l-7.72 7.72c-.78.78-.78 2.05 0 2.83L4 21.41c.39.39.9.59 1.41.59.51 0 1.02-.2 1.41-.59l7.78-7.78 2.81-2.81c.8-.78.8-2.07 0-2.86zM5.41 20L4 18.59l7.72-7.72 1.47 1.35L5.41 20z\"/>\n",
              "  </svg>\n",
              "      </button>\n",
              "      \n",
              "  <style>\n",
              "    .colab-df-container {\n",
              "      display:flex;\n",
              "      flex-wrap:wrap;\n",
              "      gap: 12px;\n",
              "    }\n",
              "\n",
              "    .colab-df-convert {\n",
              "      background-color: #E8F0FE;\n",
              "      border: none;\n",
              "      border-radius: 50%;\n",
              "      cursor: pointer;\n",
              "      display: none;\n",
              "      fill: #1967D2;\n",
              "      height: 32px;\n",
              "      padding: 0 0 0 0;\n",
              "      width: 32px;\n",
              "    }\n",
              "\n",
              "    .colab-df-convert:hover {\n",
              "      background-color: #E2EBFA;\n",
              "      box-shadow: 0px 1px 2px rgba(60, 64, 67, 0.3), 0px 1px 3px 1px rgba(60, 64, 67, 0.15);\n",
              "      fill: #174EA6;\n",
              "    }\n",
              "\n",
              "    [theme=dark] .colab-df-convert {\n",
              "      background-color: #3B4455;\n",
              "      fill: #D2E3FC;\n",
              "    }\n",
              "\n",
              "    [theme=dark] .colab-df-convert:hover {\n",
              "      background-color: #434B5C;\n",
              "      box-shadow: 0px 1px 3px 1px rgba(0, 0, 0, 0.15);\n",
              "      filter: drop-shadow(0px 1px 2px rgba(0, 0, 0, 0.3));\n",
              "      fill: #FFFFFF;\n",
              "    }\n",
              "  </style>\n",
              "\n",
              "      <script>\n",
              "        const buttonEl =\n",
              "          document.querySelector('#df-df795441-58e2-4d95-bb16-4fc0101af141 button.colab-df-convert');\n",
              "        buttonEl.style.display =\n",
              "          google.colab.kernel.accessAllowed ? 'block' : 'none';\n",
              "\n",
              "        async function convertToInteractive(key) {\n",
              "          const element = document.querySelector('#df-df795441-58e2-4d95-bb16-4fc0101af141');\n",
              "          const dataTable =\n",
              "            await google.colab.kernel.invokeFunction('convertToInteractive',\n",
              "                                                     [key], {});\n",
              "          if (!dataTable) return;\n",
              "\n",
              "          const docLinkHtml = 'Like what you see? Visit the ' +\n",
              "            '<a target=\"_blank\" href=https://colab.research.google.com/notebooks/data_table.ipynb>data table notebook</a>'\n",
              "            + ' to learn more about interactive tables.';\n",
              "          element.innerHTML = '';\n",
              "          dataTable['output_type'] = 'display_data';\n",
              "          await google.colab.output.renderOutput(dataTable, element);\n",
              "          const docLink = document.createElement('div');\n",
              "          docLink.innerHTML = docLinkHtml;\n",
              "          element.appendChild(docLink);\n",
              "        }\n",
              "      </script>\n",
              "    </div>\n",
              "  </div>\n",
              "  "
            ],
            "text/plain": [
              "   Unnamed: 0 Unnamed: 1 Unnamed: 2           Unnamed: 3 Unnamed: 4\n",
              "0      Sr no.   Emp Name     Emp id                 Date     Leaves\n",
              "1           1    Ganesh        1001  2023-01-21 00:00:00          2\n",
              "2           2     Kartik       1002  2023-01-22 00:00:00          4\n",
              "3           3      Veera       1003  2023-01-23 00:00:00          8\n",
              "4           4  Sanskruti       1004  2023-01-24 00:00:00          6\n",
              "5           5    Archana       1005  2023-01-25 00:00:00          1\n",
              "6           6   Aradhana       1006  2023-01-26 00:00:00          2\n",
              "7           7    Pratham       1007  2023-01-27 00:00:00          3\n",
              "8           8     Sayali       1008  2023-01-28 00:00:00          5\n",
              "9           9     Smruti       1009  2023-01-29 00:00:00          9\n",
              "10         10      Vijay       1010  2023-01-30 00:00:00          7"
            ]
          },
          "metadata": {},
          "output_type": "display_data"
        },
        {
          "name": "stdout",
          "output_type": "stream",
          "text": [
            "    Emp Name  Emp id  Salary\n",
            "0    Ganesh     1001   25000\n",
            "1     Kartik    1002   40000\n",
            "2      Veera    1003   80000\n",
            "3  Sanskruti    1004   60000\n",
            "4    Archana    1005   50000\n",
            "5   Aradhana    1006   30000\n",
            "6    Pratham    1007   15000\n",
            "7     Sayali    1008   55000\n",
            "8     Smruti    1009   80000\n",
            "9      Vijay    1010  100000\n"
          ]
        }
      ],
      "source": [
        "import pandas as pd\n",
        "df = pd.read_excel('/content/Copy of EDS Excel Employe (116)(1).xlsx')\n",
        "display(df)\n",
        "df1 = pd.read_excel('/content/Copy of (116) Salary emp(1).xlsx')\n",
        "print(df1)"
      ]
    },
    {
      "cell_type": "code",
      "execution_count": null,
      "metadata": {
        "colab": {
          "base_uri": "https://localhost:8080/"
        },
        "id": "BqGbnG61eG86",
        "outputId": "b72feb57-c95d-480e-d241-92e95bac6dc5"
      },
      "outputs": [
        {
          "name": "stdout",
          "output_type": "stream",
          "text": [
            "Mounted at /content/drive\n"
          ]
        }
      ],
      "source": [
        "from google.colab import drive\n",
        "drive.mount('/content/drive')"
      ]
    },
    {
      "cell_type": "code",
      "execution_count": null,
      "metadata": {
        "colab": {
          "base_uri": "https://localhost:8080/",
          "height": 363
        },
        "id": "uziVN7NVgX5y",
        "outputId": "72d4d731-eb97-42cf-881b-ce8a78012f67"
      },
      "outputs": [
        {
          "data": {
            "text/html": [
              "\n",
              "  <div id=\"df-26e0f92b-96be-4705-beb4-bd244233f4de\">\n",
              "    <div class=\"colab-df-container\">\n",
              "      <div>\n",
              "<style scoped>\n",
              "    .dataframe tbody tr th:only-of-type {\n",
              "        vertical-align: middle;\n",
              "    }\n",
              "\n",
              "    .dataframe tbody tr th {\n",
              "        vertical-align: top;\n",
              "    }\n",
              "\n",
              "    .dataframe thead th {\n",
              "        text-align: right;\n",
              "    }\n",
              "</style>\n",
              "<table border=\"1\" class=\"dataframe\">\n",
              "  <thead>\n",
              "    <tr style=\"text-align: right;\">\n",
              "      <th></th>\n",
              "      <th>Emp Name</th>\n",
              "      <th>Emp id</th>\n",
              "      <th>Salary</th>\n",
              "    </tr>\n",
              "  </thead>\n",
              "  <tbody>\n",
              "    <tr>\n",
              "      <th>6</th>\n",
              "      <td>Pratham</td>\n",
              "      <td>1007</td>\n",
              "      <td>15000</td>\n",
              "    </tr>\n",
              "    <tr>\n",
              "      <th>0</th>\n",
              "      <td>Ganesh</td>\n",
              "      <td>1001</td>\n",
              "      <td>25000</td>\n",
              "    </tr>\n",
              "    <tr>\n",
              "      <th>5</th>\n",
              "      <td>Aradhana</td>\n",
              "      <td>1006</td>\n",
              "      <td>30000</td>\n",
              "    </tr>\n",
              "    <tr>\n",
              "      <th>1</th>\n",
              "      <td>Kartik</td>\n",
              "      <td>1002</td>\n",
              "      <td>40000</td>\n",
              "    </tr>\n",
              "    <tr>\n",
              "      <th>4</th>\n",
              "      <td>Archana</td>\n",
              "      <td>1005</td>\n",
              "      <td>50000</td>\n",
              "    </tr>\n",
              "    <tr>\n",
              "      <th>7</th>\n",
              "      <td>Sayali</td>\n",
              "      <td>1008</td>\n",
              "      <td>55000</td>\n",
              "    </tr>\n",
              "    <tr>\n",
              "      <th>3</th>\n",
              "      <td>Sanskruti</td>\n",
              "      <td>1004</td>\n",
              "      <td>60000</td>\n",
              "    </tr>\n",
              "    <tr>\n",
              "      <th>2</th>\n",
              "      <td>Veera</td>\n",
              "      <td>1003</td>\n",
              "      <td>80000</td>\n",
              "    </tr>\n",
              "    <tr>\n",
              "      <th>8</th>\n",
              "      <td>Smruti</td>\n",
              "      <td>1009</td>\n",
              "      <td>80000</td>\n",
              "    </tr>\n",
              "    <tr>\n",
              "      <th>9</th>\n",
              "      <td>Vijay</td>\n",
              "      <td>1010</td>\n",
              "      <td>100000</td>\n",
              "    </tr>\n",
              "  </tbody>\n",
              "</table>\n",
              "</div>\n",
              "      <button class=\"colab-df-convert\" onclick=\"convertToInteractive('df-26e0f92b-96be-4705-beb4-bd244233f4de')\"\n",
              "              title=\"Convert this dataframe to an interactive table.\"\n",
              "              style=\"display:none;\">\n",
              "        \n",
              "  <svg xmlns=\"http://www.w3.org/2000/svg\" height=\"24px\"viewBox=\"0 0 24 24\"\n",
              "       width=\"24px\">\n",
              "    <path d=\"M0 0h24v24H0V0z\" fill=\"none\"/>\n",
              "    <path d=\"M18.56 5.44l.94 2.06.94-2.06 2.06-.94-2.06-.94-.94-2.06-.94 2.06-2.06.94zm-11 1L8.5 8.5l.94-2.06 2.06-.94-2.06-.94L8.5 2.5l-.94 2.06-2.06.94zm10 10l.94 2.06.94-2.06 2.06-.94-2.06-.94-.94-2.06-.94 2.06-2.06.94z\"/><path d=\"M17.41 7.96l-1.37-1.37c-.4-.4-.92-.59-1.43-.59-.52 0-1.04.2-1.43.59L10.3 9.45l-7.72 7.72c-.78.78-.78 2.05 0 2.83L4 21.41c.39.39.9.59 1.41.59.51 0 1.02-.2 1.41-.59l7.78-7.78 2.81-2.81c.8-.78.8-2.07 0-2.86zM5.41 20L4 18.59l7.72-7.72 1.47 1.35L5.41 20z\"/>\n",
              "  </svg>\n",
              "      </button>\n",
              "      \n",
              "  <style>\n",
              "    .colab-df-container {\n",
              "      display:flex;\n",
              "      flex-wrap:wrap;\n",
              "      gap: 12px;\n",
              "    }\n",
              "\n",
              "    .colab-df-convert {\n",
              "      background-color: #E8F0FE;\n",
              "      border: none;\n",
              "      border-radius: 50%;\n",
              "      cursor: pointer;\n",
              "      display: none;\n",
              "      fill: #1967D2;\n",
              "      height: 32px;\n",
              "      padding: 0 0 0 0;\n",
              "      width: 32px;\n",
              "    }\n",
              "\n",
              "    .colab-df-convert:hover {\n",
              "      background-color: #E2EBFA;\n",
              "      box-shadow: 0px 1px 2px rgba(60, 64, 67, 0.3), 0px 1px 3px 1px rgba(60, 64, 67, 0.15);\n",
              "      fill: #174EA6;\n",
              "    }\n",
              "\n",
              "    [theme=dark] .colab-df-convert {\n",
              "      background-color: #3B4455;\n",
              "      fill: #D2E3FC;\n",
              "    }\n",
              "\n",
              "    [theme=dark] .colab-df-convert:hover {\n",
              "      background-color: #434B5C;\n",
              "      box-shadow: 0px 1px 3px 1px rgba(0, 0, 0, 0.15);\n",
              "      filter: drop-shadow(0px 1px 2px rgba(0, 0, 0, 0.3));\n",
              "      fill: #FFFFFF;\n",
              "    }\n",
              "  </style>\n",
              "\n",
              "      <script>\n",
              "        const buttonEl =\n",
              "          document.querySelector('#df-26e0f92b-96be-4705-beb4-bd244233f4de button.colab-df-convert');\n",
              "        buttonEl.style.display =\n",
              "          google.colab.kernel.accessAllowed ? 'block' : 'none';\n",
              "\n",
              "        async function convertToInteractive(key) {\n",
              "          const element = document.querySelector('#df-26e0f92b-96be-4705-beb4-bd244233f4de');\n",
              "          const dataTable =\n",
              "            await google.colab.kernel.invokeFunction('convertToInteractive',\n",
              "                                                     [key], {});\n",
              "          if (!dataTable) return;\n",
              "\n",
              "          const docLinkHtml = 'Like what you see? Visit the ' +\n",
              "            '<a target=\"_blank\" href=https://colab.research.google.com/notebooks/data_table.ipynb>data table notebook</a>'\n",
              "            + ' to learn more about interactive tables.';\n",
              "          element.innerHTML = '';\n",
              "          dataTable['output_type'] = 'display_data';\n",
              "          await google.colab.output.renderOutput(dataTable, element);\n",
              "          const docLink = document.createElement('div');\n",
              "          docLink.innerHTML = docLinkHtml;\n",
              "          element.appendChild(docLink);\n",
              "        }\n",
              "      </script>\n",
              "    </div>\n",
              "  </div>\n",
              "  "
            ],
            "text/plain": [
              "    Emp Name  Emp id  Salary\n",
              "6    Pratham    1007   15000\n",
              "0    Ganesh     1001   25000\n",
              "5   Aradhana    1006   30000\n",
              "1     Kartik    1002   40000\n",
              "4    Archana    1005   50000\n",
              "7     Sayali    1008   55000\n",
              "3  Sanskruti    1004   60000\n",
              "2      Veera    1003   80000\n",
              "8     Smruti    1009   80000\n",
              "9      Vijay    1010  100000"
            ]
          },
          "execution_count": 14,
          "metadata": {},
          "output_type": "execute_result"
        }
      ],
      "source": [
        "import pandas as pd\n",
        "df1.sort_values(by=['Salary'])"
      ]
    },
    {
      "cell_type": "code",
      "execution_count": null,
      "metadata": {
        "colab": {
          "base_uri": "https://localhost:8080/",
          "height": 363
        },
        "id": "0V1BwJ3uiHAV",
        "outputId": "e9b107bf-bbe9-4728-eb18-d070ba1a884c"
      },
      "outputs": [
        {
          "data": {
            "text/html": [
              "\n",
              "  <div id=\"df-64d3e2fa-9c59-4397-88e7-3d8cfb25607d\">\n",
              "    <div class=\"colab-df-container\">\n",
              "      <div>\n",
              "<style scoped>\n",
              "    .dataframe tbody tr th:only-of-type {\n",
              "        vertical-align: middle;\n",
              "    }\n",
              "\n",
              "    .dataframe tbody tr th {\n",
              "        vertical-align: top;\n",
              "    }\n",
              "\n",
              "    .dataframe thead th {\n",
              "        text-align: right;\n",
              "    }\n",
              "</style>\n",
              "<table border=\"1\" class=\"dataframe\">\n",
              "  <thead>\n",
              "    <tr style=\"text-align: right;\">\n",
              "      <th></th>\n",
              "      <th>Emp Name</th>\n",
              "      <th>Emp id</th>\n",
              "      <th>Salary</th>\n",
              "    </tr>\n",
              "  </thead>\n",
              "  <tbody>\n",
              "    <tr>\n",
              "      <th>9</th>\n",
              "      <td>Vijay</td>\n",
              "      <td>1010</td>\n",
              "      <td>100000</td>\n",
              "    </tr>\n",
              "    <tr>\n",
              "      <th>2</th>\n",
              "      <td>Veera</td>\n",
              "      <td>1003</td>\n",
              "      <td>80000</td>\n",
              "    </tr>\n",
              "    <tr>\n",
              "      <th>8</th>\n",
              "      <td>Smruti</td>\n",
              "      <td>1009</td>\n",
              "      <td>80000</td>\n",
              "    </tr>\n",
              "    <tr>\n",
              "      <th>3</th>\n",
              "      <td>Sanskruti</td>\n",
              "      <td>1004</td>\n",
              "      <td>60000</td>\n",
              "    </tr>\n",
              "    <tr>\n",
              "      <th>7</th>\n",
              "      <td>Sayali</td>\n",
              "      <td>1008</td>\n",
              "      <td>55000</td>\n",
              "    </tr>\n",
              "    <tr>\n",
              "      <th>4</th>\n",
              "      <td>Archana</td>\n",
              "      <td>1005</td>\n",
              "      <td>50000</td>\n",
              "    </tr>\n",
              "    <tr>\n",
              "      <th>1</th>\n",
              "      <td>Kartik</td>\n",
              "      <td>1002</td>\n",
              "      <td>40000</td>\n",
              "    </tr>\n",
              "    <tr>\n",
              "      <th>5</th>\n",
              "      <td>Aradhana</td>\n",
              "      <td>1006</td>\n",
              "      <td>30000</td>\n",
              "    </tr>\n",
              "    <tr>\n",
              "      <th>0</th>\n",
              "      <td>Ganesh</td>\n",
              "      <td>1001</td>\n",
              "      <td>25000</td>\n",
              "    </tr>\n",
              "    <tr>\n",
              "      <th>6</th>\n",
              "      <td>Pratham</td>\n",
              "      <td>1007</td>\n",
              "      <td>15000</td>\n",
              "    </tr>\n",
              "  </tbody>\n",
              "</table>\n",
              "</div>\n",
              "      <button class=\"colab-df-convert\" onclick=\"convertToInteractive('df-64d3e2fa-9c59-4397-88e7-3d8cfb25607d')\"\n",
              "              title=\"Convert this dataframe to an interactive table.\"\n",
              "              style=\"display:none;\">\n",
              "        \n",
              "  <svg xmlns=\"http://www.w3.org/2000/svg\" height=\"24px\"viewBox=\"0 0 24 24\"\n",
              "       width=\"24px\">\n",
              "    <path d=\"M0 0h24v24H0V0z\" fill=\"none\"/>\n",
              "    <path d=\"M18.56 5.44l.94 2.06.94-2.06 2.06-.94-2.06-.94-.94-2.06-.94 2.06-2.06.94zm-11 1L8.5 8.5l.94-2.06 2.06-.94-2.06-.94L8.5 2.5l-.94 2.06-2.06.94zm10 10l.94 2.06.94-2.06 2.06-.94-2.06-.94-.94-2.06-.94 2.06-2.06.94z\"/><path d=\"M17.41 7.96l-1.37-1.37c-.4-.4-.92-.59-1.43-.59-.52 0-1.04.2-1.43.59L10.3 9.45l-7.72 7.72c-.78.78-.78 2.05 0 2.83L4 21.41c.39.39.9.59 1.41.59.51 0 1.02-.2 1.41-.59l7.78-7.78 2.81-2.81c.8-.78.8-2.07 0-2.86zM5.41 20L4 18.59l7.72-7.72 1.47 1.35L5.41 20z\"/>\n",
              "  </svg>\n",
              "      </button>\n",
              "      \n",
              "  <style>\n",
              "    .colab-df-container {\n",
              "      display:flex;\n",
              "      flex-wrap:wrap;\n",
              "      gap: 12px;\n",
              "    }\n",
              "\n",
              "    .colab-df-convert {\n",
              "      background-color: #E8F0FE;\n",
              "      border: none;\n",
              "      border-radius: 50%;\n",
              "      cursor: pointer;\n",
              "      display: none;\n",
              "      fill: #1967D2;\n",
              "      height: 32px;\n",
              "      padding: 0 0 0 0;\n",
              "      width: 32px;\n",
              "    }\n",
              "\n",
              "    .colab-df-convert:hover {\n",
              "      background-color: #E2EBFA;\n",
              "      box-shadow: 0px 1px 2px rgba(60, 64, 67, 0.3), 0px 1px 3px 1px rgba(60, 64, 67, 0.15);\n",
              "      fill: #174EA6;\n",
              "    }\n",
              "\n",
              "    [theme=dark] .colab-df-convert {\n",
              "      background-color: #3B4455;\n",
              "      fill: #D2E3FC;\n",
              "    }\n",
              "\n",
              "    [theme=dark] .colab-df-convert:hover {\n",
              "      background-color: #434B5C;\n",
              "      box-shadow: 0px 1px 3px 1px rgba(0, 0, 0, 0.15);\n",
              "      filter: drop-shadow(0px 1px 2px rgba(0, 0, 0, 0.3));\n",
              "      fill: #FFFFFF;\n",
              "    }\n",
              "  </style>\n",
              "\n",
              "      <script>\n",
              "        const buttonEl =\n",
              "          document.querySelector('#df-64d3e2fa-9c59-4397-88e7-3d8cfb25607d button.colab-df-convert');\n",
              "        buttonEl.style.display =\n",
              "          google.colab.kernel.accessAllowed ? 'block' : 'none';\n",
              "\n",
              "        async function convertToInteractive(key) {\n",
              "          const element = document.querySelector('#df-64d3e2fa-9c59-4397-88e7-3d8cfb25607d');\n",
              "          const dataTable =\n",
              "            await google.colab.kernel.invokeFunction('convertToInteractive',\n",
              "                                                     [key], {});\n",
              "          if (!dataTable) return;\n",
              "\n",
              "          const docLinkHtml = 'Like what you see? Visit the ' +\n",
              "            '<a target=\"_blank\" href=https://colab.research.google.com/notebooks/data_table.ipynb>data table notebook</a>'\n",
              "            + ' to learn more about interactive tables.';\n",
              "          element.innerHTML = '';\n",
              "          dataTable['output_type'] = 'display_data';\n",
              "          await google.colab.output.renderOutput(dataTable, element);\n",
              "          const docLink = document.createElement('div');\n",
              "          docLink.innerHTML = docLinkHtml;\n",
              "          element.appendChild(docLink);\n",
              "        }\n",
              "      </script>\n",
              "    </div>\n",
              "  </div>\n",
              "  "
            ],
            "text/plain": [
              "    Emp Name  Emp id  Salary\n",
              "9      Vijay    1010  100000\n",
              "2      Veera    1003   80000\n",
              "8     Smruti    1009   80000\n",
              "3  Sanskruti    1004   60000\n",
              "7     Sayali    1008   55000\n",
              "4    Archana    1005   50000\n",
              "1     Kartik    1002   40000\n",
              "5   Aradhana    1006   30000\n",
              "0    Ganesh     1001   25000\n",
              "6    Pratham    1007   15000"
            ]
          },
          "execution_count": 10,
          "metadata": {},
          "output_type": "execute_result"
        }
      ],
      "source": [
        "df1.sort_values(by=['Salary'],ascending=False)"
      ]
    },
    {
      "cell_type": "code",
      "execution_count": null,
      "metadata": {
        "colab": {
          "base_uri": "https://localhost:8080/",
          "height": 740
        },
        "id": "WAuph3Smkep7",
        "outputId": "0fd3f23d-ee5f-4fef-b160-c4f2c66e40b4"
      },
      "outputs": [
        {
          "data": {
            "text/html": [
              "\n",
              "  <div id=\"df-21913a03-dd41-4539-b21e-d4f80fb3036f\">\n",
              "    <div class=\"colab-df-container\">\n",
              "      <div>\n",
              "<style scoped>\n",
              "    .dataframe tbody tr th:only-of-type {\n",
              "        vertical-align: middle;\n",
              "    }\n",
              "\n",
              "    .dataframe tbody tr th {\n",
              "        vertical-align: top;\n",
              "    }\n",
              "\n",
              "    .dataframe thead th {\n",
              "        text-align: right;\n",
              "    }\n",
              "</style>\n",
              "<table border=\"1\" class=\"dataframe\">\n",
              "  <thead>\n",
              "    <tr style=\"text-align: right;\">\n",
              "      <th></th>\n",
              "      <th>Unnamed: 0</th>\n",
              "      <th>Unnamed: 1</th>\n",
              "      <th>Unnamed: 2</th>\n",
              "      <th>Unnamed: 3</th>\n",
              "      <th>Unnamed: 4</th>\n",
              "    </tr>\n",
              "  </thead>\n",
              "  <tbody>\n",
              "    <tr>\n",
              "      <th>0</th>\n",
              "      <td>Sr no.</td>\n",
              "      <td>Emp Name</td>\n",
              "      <td>Emp id</td>\n",
              "      <td>Date</td>\n",
              "      <td>Leaves</td>\n",
              "    </tr>\n",
              "    <tr>\n",
              "      <th>1</th>\n",
              "      <td>1</td>\n",
              "      <td>Ganesh</td>\n",
              "      <td>1001</td>\n",
              "      <td>2023-01-21 00:00:00</td>\n",
              "      <td>2</td>\n",
              "    </tr>\n",
              "    <tr>\n",
              "      <th>2</th>\n",
              "      <td>2</td>\n",
              "      <td>Kartik</td>\n",
              "      <td>1002</td>\n",
              "      <td>2023-01-22 00:00:00</td>\n",
              "      <td>4</td>\n",
              "    </tr>\n",
              "    <tr>\n",
              "      <th>3</th>\n",
              "      <td>3</td>\n",
              "      <td>Veera</td>\n",
              "      <td>1003</td>\n",
              "      <td>2023-01-23 00:00:00</td>\n",
              "      <td>8</td>\n",
              "    </tr>\n",
              "    <tr>\n",
              "      <th>4</th>\n",
              "      <td>4</td>\n",
              "      <td>Sanskruti</td>\n",
              "      <td>1004</td>\n",
              "      <td>2023-01-24 00:00:00</td>\n",
              "      <td>6</td>\n",
              "    </tr>\n",
              "    <tr>\n",
              "      <th>5</th>\n",
              "      <td>5</td>\n",
              "      <td>Archana</td>\n",
              "      <td>1005</td>\n",
              "      <td>2023-01-25 00:00:00</td>\n",
              "      <td>1</td>\n",
              "    </tr>\n",
              "    <tr>\n",
              "      <th>6</th>\n",
              "      <td>6</td>\n",
              "      <td>Aradhana</td>\n",
              "      <td>1006</td>\n",
              "      <td>2023-01-26 00:00:00</td>\n",
              "      <td>2</td>\n",
              "    </tr>\n",
              "    <tr>\n",
              "      <th>7</th>\n",
              "      <td>7</td>\n",
              "      <td>Pratham</td>\n",
              "      <td>1007</td>\n",
              "      <td>2023-01-27 00:00:00</td>\n",
              "      <td>3</td>\n",
              "    </tr>\n",
              "    <tr>\n",
              "      <th>8</th>\n",
              "      <td>8</td>\n",
              "      <td>Sayali</td>\n",
              "      <td>1008</td>\n",
              "      <td>2023-01-28 00:00:00</td>\n",
              "      <td>5</td>\n",
              "    </tr>\n",
              "    <tr>\n",
              "      <th>9</th>\n",
              "      <td>9</td>\n",
              "      <td>Smruti</td>\n",
              "      <td>1009</td>\n",
              "      <td>2023-01-29 00:00:00</td>\n",
              "      <td>9</td>\n",
              "    </tr>\n",
              "    <tr>\n",
              "      <th>10</th>\n",
              "      <td>10</td>\n",
              "      <td>Vijay</td>\n",
              "      <td>1010</td>\n",
              "      <td>2023-01-30 00:00:00</td>\n",
              "      <td>7</td>\n",
              "    </tr>\n",
              "  </tbody>\n",
              "</table>\n",
              "</div>\n",
              "      <button class=\"colab-df-convert\" onclick=\"convertToInteractive('df-21913a03-dd41-4539-b21e-d4f80fb3036f')\"\n",
              "              title=\"Convert this dataframe to an interactive table.\"\n",
              "              style=\"display:none;\">\n",
              "        \n",
              "  <svg xmlns=\"http://www.w3.org/2000/svg\" height=\"24px\"viewBox=\"0 0 24 24\"\n",
              "       width=\"24px\">\n",
              "    <path d=\"M0 0h24v24H0V0z\" fill=\"none\"/>\n",
              "    <path d=\"M18.56 5.44l.94 2.06.94-2.06 2.06-.94-2.06-.94-.94-2.06-.94 2.06-2.06.94zm-11 1L8.5 8.5l.94-2.06 2.06-.94-2.06-.94L8.5 2.5l-.94 2.06-2.06.94zm10 10l.94 2.06.94-2.06 2.06-.94-2.06-.94-.94-2.06-.94 2.06-2.06.94z\"/><path d=\"M17.41 7.96l-1.37-1.37c-.4-.4-.92-.59-1.43-.59-.52 0-1.04.2-1.43.59L10.3 9.45l-7.72 7.72c-.78.78-.78 2.05 0 2.83L4 21.41c.39.39.9.59 1.41.59.51 0 1.02-.2 1.41-.59l7.78-7.78 2.81-2.81c.8-.78.8-2.07 0-2.86zM5.41 20L4 18.59l7.72-7.72 1.47 1.35L5.41 20z\"/>\n",
              "  </svg>\n",
              "      </button>\n",
              "      \n",
              "  <style>\n",
              "    .colab-df-container {\n",
              "      display:flex;\n",
              "      flex-wrap:wrap;\n",
              "      gap: 12px;\n",
              "    }\n",
              "\n",
              "    .colab-df-convert {\n",
              "      background-color: #E8F0FE;\n",
              "      border: none;\n",
              "      border-radius: 50%;\n",
              "      cursor: pointer;\n",
              "      display: none;\n",
              "      fill: #1967D2;\n",
              "      height: 32px;\n",
              "      padding: 0 0 0 0;\n",
              "      width: 32px;\n",
              "    }\n",
              "\n",
              "    .colab-df-convert:hover {\n",
              "      background-color: #E2EBFA;\n",
              "      box-shadow: 0px 1px 2px rgba(60, 64, 67, 0.3), 0px 1px 3px 1px rgba(60, 64, 67, 0.15);\n",
              "      fill: #174EA6;\n",
              "    }\n",
              "\n",
              "    [theme=dark] .colab-df-convert {\n",
              "      background-color: #3B4455;\n",
              "      fill: #D2E3FC;\n",
              "    }\n",
              "\n",
              "    [theme=dark] .colab-df-convert:hover {\n",
              "      background-color: #434B5C;\n",
              "      box-shadow: 0px 1px 3px 1px rgba(0, 0, 0, 0.15);\n",
              "      filter: drop-shadow(0px 1px 2px rgba(0, 0, 0, 0.3));\n",
              "      fill: #FFFFFF;\n",
              "    }\n",
              "  </style>\n",
              "\n",
              "      <script>\n",
              "        const buttonEl =\n",
              "          document.querySelector('#df-21913a03-dd41-4539-b21e-d4f80fb3036f button.colab-df-convert');\n",
              "        buttonEl.style.display =\n",
              "          google.colab.kernel.accessAllowed ? 'block' : 'none';\n",
              "\n",
              "        async function convertToInteractive(key) {\n",
              "          const element = document.querySelector('#df-21913a03-dd41-4539-b21e-d4f80fb3036f');\n",
              "          const dataTable =\n",
              "            await google.colab.kernel.invokeFunction('convertToInteractive',\n",
              "                                                     [key], {});\n",
              "          if (!dataTable) return;\n",
              "\n",
              "          const docLinkHtml = 'Like what you see? Visit the ' +\n",
              "            '<a target=\"_blank\" href=https://colab.research.google.com/notebooks/data_table.ipynb>data table notebook</a>'\n",
              "            + ' to learn more about interactive tables.';\n",
              "          element.innerHTML = '';\n",
              "          dataTable['output_type'] = 'display_data';\n",
              "          await google.colab.output.renderOutput(dataTable, element);\n",
              "          const docLink = document.createElement('div');\n",
              "          docLink.innerHTML = docLinkHtml;\n",
              "          element.appendChild(docLink);\n",
              "        }\n",
              "      </script>\n",
              "    </div>\n",
              "  </div>\n",
              "  "
            ],
            "text/plain": [
              "   Unnamed: 0 Unnamed: 1 Unnamed: 2           Unnamed: 3 Unnamed: 4\n",
              "0      Sr no.   Emp Name     Emp id                 Date     Leaves\n",
              "1           1    Ganesh        1001  2023-01-21 00:00:00          2\n",
              "2           2     Kartik       1002  2023-01-22 00:00:00          4\n",
              "3           3      Veera       1003  2023-01-23 00:00:00          8\n",
              "4           4  Sanskruti       1004  2023-01-24 00:00:00          6\n",
              "5           5    Archana       1005  2023-01-25 00:00:00          1\n",
              "6           6   Aradhana       1006  2023-01-26 00:00:00          2\n",
              "7           7    Pratham       1007  2023-01-27 00:00:00          3\n",
              "8           8     Sayali       1008  2023-01-28 00:00:00          5\n",
              "9           9     Smruti       1009  2023-01-29 00:00:00          9\n",
              "10         10      Vijay       1010  2023-01-30 00:00:00          7"
            ]
          },
          "metadata": {},
          "output_type": "display_data"
        },
        {
          "data": {
            "text/html": [
              "\n",
              "  <div id=\"df-ca667962-c4d4-4cd7-abcb-f8e1ece005fe\">\n",
              "    <div class=\"colab-df-container\">\n",
              "      <div>\n",
              "<style scoped>\n",
              "    .dataframe tbody tr th:only-of-type {\n",
              "        vertical-align: middle;\n",
              "    }\n",
              "\n",
              "    .dataframe tbody tr th {\n",
              "        vertical-align: top;\n",
              "    }\n",
              "\n",
              "    .dataframe thead th {\n",
              "        text-align: right;\n",
              "    }\n",
              "</style>\n",
              "<table border=\"1\" class=\"dataframe\">\n",
              "  <thead>\n",
              "    <tr style=\"text-align: right;\">\n",
              "      <th></th>\n",
              "      <th>Emp Name</th>\n",
              "      <th>Emp id</th>\n",
              "      <th>Salary</th>\n",
              "    </tr>\n",
              "  </thead>\n",
              "  <tbody>\n",
              "    <tr>\n",
              "      <th>0</th>\n",
              "      <td>Ganesh</td>\n",
              "      <td>1001</td>\n",
              "      <td>25000</td>\n",
              "    </tr>\n",
              "    <tr>\n",
              "      <th>1</th>\n",
              "      <td>Kartik</td>\n",
              "      <td>1002</td>\n",
              "      <td>40000</td>\n",
              "    </tr>\n",
              "    <tr>\n",
              "      <th>2</th>\n",
              "      <td>Veera</td>\n",
              "      <td>1003</td>\n",
              "      <td>80000</td>\n",
              "    </tr>\n",
              "    <tr>\n",
              "      <th>3</th>\n",
              "      <td>Sanskruti</td>\n",
              "      <td>1004</td>\n",
              "      <td>60000</td>\n",
              "    </tr>\n",
              "    <tr>\n",
              "      <th>4</th>\n",
              "      <td>Archana</td>\n",
              "      <td>1005</td>\n",
              "      <td>50000</td>\n",
              "    </tr>\n",
              "    <tr>\n",
              "      <th>5</th>\n",
              "      <td>Aradhana</td>\n",
              "      <td>1006</td>\n",
              "      <td>30000</td>\n",
              "    </tr>\n",
              "    <tr>\n",
              "      <th>6</th>\n",
              "      <td>Pratham</td>\n",
              "      <td>1007</td>\n",
              "      <td>15000</td>\n",
              "    </tr>\n",
              "    <tr>\n",
              "      <th>7</th>\n",
              "      <td>Sayali</td>\n",
              "      <td>1008</td>\n",
              "      <td>55000</td>\n",
              "    </tr>\n",
              "    <tr>\n",
              "      <th>8</th>\n",
              "      <td>Smruti</td>\n",
              "      <td>1009</td>\n",
              "      <td>80000</td>\n",
              "    </tr>\n",
              "    <tr>\n",
              "      <th>9</th>\n",
              "      <td>Vijay</td>\n",
              "      <td>1010</td>\n",
              "      <td>100000</td>\n",
              "    </tr>\n",
              "  </tbody>\n",
              "</table>\n",
              "</div>\n",
              "      <button class=\"colab-df-convert\" onclick=\"convertToInteractive('df-ca667962-c4d4-4cd7-abcb-f8e1ece005fe')\"\n",
              "              title=\"Convert this dataframe to an interactive table.\"\n",
              "              style=\"display:none;\">\n",
              "        \n",
              "  <svg xmlns=\"http://www.w3.org/2000/svg\" height=\"24px\"viewBox=\"0 0 24 24\"\n",
              "       width=\"24px\">\n",
              "    <path d=\"M0 0h24v24H0V0z\" fill=\"none\"/>\n",
              "    <path d=\"M18.56 5.44l.94 2.06.94-2.06 2.06-.94-2.06-.94-.94-2.06-.94 2.06-2.06.94zm-11 1L8.5 8.5l.94-2.06 2.06-.94-2.06-.94L8.5 2.5l-.94 2.06-2.06.94zm10 10l.94 2.06.94-2.06 2.06-.94-2.06-.94-.94-2.06-.94 2.06-2.06.94z\"/><path d=\"M17.41 7.96l-1.37-1.37c-.4-.4-.92-.59-1.43-.59-.52 0-1.04.2-1.43.59L10.3 9.45l-7.72 7.72c-.78.78-.78 2.05 0 2.83L4 21.41c.39.39.9.59 1.41.59.51 0 1.02-.2 1.41-.59l7.78-7.78 2.81-2.81c.8-.78.8-2.07 0-2.86zM5.41 20L4 18.59l7.72-7.72 1.47 1.35L5.41 20z\"/>\n",
              "  </svg>\n",
              "      </button>\n",
              "      \n",
              "  <style>\n",
              "    .colab-df-container {\n",
              "      display:flex;\n",
              "      flex-wrap:wrap;\n",
              "      gap: 12px;\n",
              "    }\n",
              "\n",
              "    .colab-df-convert {\n",
              "      background-color: #E8F0FE;\n",
              "      border: none;\n",
              "      border-radius: 50%;\n",
              "      cursor: pointer;\n",
              "      display: none;\n",
              "      fill: #1967D2;\n",
              "      height: 32px;\n",
              "      padding: 0 0 0 0;\n",
              "      width: 32px;\n",
              "    }\n",
              "\n",
              "    .colab-df-convert:hover {\n",
              "      background-color: #E2EBFA;\n",
              "      box-shadow: 0px 1px 2px rgba(60, 64, 67, 0.3), 0px 1px 3px 1px rgba(60, 64, 67, 0.15);\n",
              "      fill: #174EA6;\n",
              "    }\n",
              "\n",
              "    [theme=dark] .colab-df-convert {\n",
              "      background-color: #3B4455;\n",
              "      fill: #D2E3FC;\n",
              "    }\n",
              "\n",
              "    [theme=dark] .colab-df-convert:hover {\n",
              "      background-color: #434B5C;\n",
              "      box-shadow: 0px 1px 3px 1px rgba(0, 0, 0, 0.15);\n",
              "      filter: drop-shadow(0px 1px 2px rgba(0, 0, 0, 0.3));\n",
              "      fill: #FFFFFF;\n",
              "    }\n",
              "  </style>\n",
              "\n",
              "      <script>\n",
              "        const buttonEl =\n",
              "          document.querySelector('#df-ca667962-c4d4-4cd7-abcb-f8e1ece005fe button.colab-df-convert');\n",
              "        buttonEl.style.display =\n",
              "          google.colab.kernel.accessAllowed ? 'block' : 'none';\n",
              "\n",
              "        async function convertToInteractive(key) {\n",
              "          const element = document.querySelector('#df-ca667962-c4d4-4cd7-abcb-f8e1ece005fe');\n",
              "          const dataTable =\n",
              "            await google.colab.kernel.invokeFunction('convertToInteractive',\n",
              "                                                     [key], {});\n",
              "          if (!dataTable) return;\n",
              "\n",
              "          const docLinkHtml = 'Like what you see? Visit the ' +\n",
              "            '<a target=\"_blank\" href=https://colab.research.google.com/notebooks/data_table.ipynb>data table notebook</a>'\n",
              "            + ' to learn more about interactive tables.';\n",
              "          element.innerHTML = '';\n",
              "          dataTable['output_type'] = 'display_data';\n",
              "          await google.colab.output.renderOutput(dataTable, element);\n",
              "          const docLink = document.createElement('div');\n",
              "          docLink.innerHTML = docLinkHtml;\n",
              "          element.appendChild(docLink);\n",
              "        }\n",
              "      </script>\n",
              "    </div>\n",
              "  </div>\n",
              "  "
            ],
            "text/plain": [
              "    Emp Name  Emp id  Salary\n",
              "0    Ganesh     1001   25000\n",
              "1     Kartik    1002   40000\n",
              "2      Veera    1003   80000\n",
              "3  Sanskruti    1004   60000\n",
              "4    Archana    1005   50000\n",
              "5   Aradhana    1006   30000\n",
              "6    Pratham    1007   15000\n",
              "7     Sayali    1008   55000\n",
              "8     Smruti    1009   80000\n",
              "9      Vijay    1010  100000"
            ]
          },
          "metadata": {},
          "output_type": "display_data"
        }
      ],
      "source": [
        "display(df,df1)"
      ]
    },
    {
      "cell_type": "code",
      "execution_count": null,
      "metadata": {
        "colab": {
          "base_uri": "https://localhost:8080/",
          "height": 182
        },
        "id": "xC4DAtmvkmPP",
        "outputId": "fb9d8490-ef29-47ab-a051-3cdf8a59bca4"
      },
      "outputs": [
        {
          "ename": "NameError",
          "evalue": "ignored",
          "output_type": "error",
          "traceback": [
            "\u001b[0;31m---------------------------------------------------------------------------\u001b[0m",
            "\u001b[0;31mNameError\u001b[0m                                 Traceback (most recent call last)",
            "\u001b[0;32m<ipython-input-19-98df070c061d>\u001b[0m in \u001b[0;36m<cell line: 1>\u001b[0;34m()\u001b[0m\n\u001b[0;32m----> 1\u001b[0;31m \u001b[0mdf3\u001b[0m \u001b[0;34m==\u001b[0m \u001b[0mpd\u001b[0m\u001b[0;34m.\u001b[0m\u001b[0mmerge\u001b[0m\u001b[0;34m(\u001b[0m\u001b[0mdf\u001b[0m\u001b[0;34m,\u001b[0m\u001b[0mdf1\u001b[0m\u001b[0;34m)\u001b[0m\u001b[0;34m\u001b[0m\u001b[0;34m\u001b[0m\u001b[0m\n\u001b[0m\u001b[1;32m      2\u001b[0m \u001b[0mdf3\u001b[0m\u001b[0;34m\u001b[0m\u001b[0;34m\u001b[0m\u001b[0m\n",
            "\u001b[0;31mNameError\u001b[0m: name 'df3' is not defined"
          ]
        }
      ],
      "source": [
        "df3 = pd.merge(df,df1)\n",
        "df3"
      ]
    },
    {
      "cell_type": "code",
      "execution_count": null,
      "metadata": {
        "id": "30lHUtHJnUIm"
      },
      "outputs": [],
      "source": [
        "def sal():\n",
        "  import pandas as pd\n",
        "  a = df1.sort_values(by=['Salary'],ascending=False)\n",
        "  g = a.nlargest(5,'Salary','first')\n",
        "  print(g)\n",
        "  sal()"
      ]
    },
    {
      "cell_type": "code",
      "execution_count": null,
      "metadata": {
        "colab": {
          "base_uri": "https://localhost:8080/"
        },
        "id": "BOhZnB2eKzPo",
        "outputId": "85bdbd11-fed7-4847-90b9-b225849f9209"
      },
      "outputs": [
        {
          "name": "stdout",
          "output_type": "stream",
          "text": [
            "(10, 20, 30, 'python', 15.17)\n",
            "(80.86, 21, 'atharva')\n"
          ]
        }
      ],
      "source": [
        "#tupple operators\n",
        "t1 = (10,20,30,\"python\",15.17)\n",
        "t2 = (80.86,21,\"atharva\")\n",
        "print(t1)\n",
        "print(t2)"
      ]
    },
    {
      "cell_type": "code",
      "execution_count": null,
      "metadata": {
        "colab": {
          "base_uri": "https://localhost:8080/"
        },
        "id": "ZSfC9ujXMm2i",
        "outputId": "b1013789-2d39-47b1-c740-f89b6374f6a6"
      },
      "outputs": [
        {
          "name": "stdout",
          "output_type": "stream",
          "text": [
            "10\n"
          ]
        }
      ],
      "source": [
        "#accessing tupple elements using indexing\n",
        "print(t1[0])"
      ]
    },
    {
      "cell_type": "code",
      "execution_count": null,
      "metadata": {
        "colab": {
          "base_uri": "https://localhost:8080/"
        },
        "id": "xbhHQGr8MuJp",
        "outputId": "8a5cb592-3838-4b74-d8c2-9333fdb63273"
      },
      "outputs": [
        {
          "name": "stdout",
          "output_type": "stream",
          "text": [
            "15.17\n",
            "21\n"
          ]
        }
      ],
      "source": [
        "#navigate tupple index\n",
        "print(t1[-1])\n",
        "print(t2[-2])"
      ]
    },
    {
      "cell_type": "code",
      "execution_count": null,
      "metadata": {
        "colab": {
          "base_uri": "https://localhost:8080/"
        },
        "id": "e86hOEkcM3H8",
        "outputId": "9e7c5da0-d777-4797-e07c-56ab72fc13a1"
      },
      "outputs": [
        {
          "name": "stdout",
          "output_type": "stream",
          "text": [
            "10\n",
            "20\n",
            "30\n",
            "python\n",
            "15.17\n"
          ]
        }
      ],
      "source": [
        "#itirating through tupples\n",
        "for i in t1:\n",
        "  print(i)"
      ]
    },
    {
      "cell_type": "code",
      "execution_count": null,
      "metadata": {
        "colab": {
          "base_uri": "https://localhost:8080/"
        },
        "id": "cZX2j61RNgeW",
        "outputId": "40514789-bf60-4b03-decb-5a7ac743d32c"
      },
      "outputs": [
        {
          "name": "stdout",
          "output_type": "stream",
          "text": [
            "(20, 30, 'python')\n"
          ]
        }
      ],
      "source": [
        "#slicing tuples\n",
        "st1 = t1[1:4]\n",
        "print(st1)"
      ]
    },
    {
      "cell_type": "code",
      "execution_count": null,
      "metadata": {
        "colab": {
          "base_uri": "https://localhost:8080/"
        },
        "id": "g5mVi2jWNqLy",
        "outputId": "4bc9e51e-d7b3-4386-e188-0e2a192bcdb7"
      },
      "outputs": [
        {
          "name": "stdout",
          "output_type": "stream",
          "text": [
            "(10, 20, 30, 'python', 15.17, 50, 60)\n"
          ]
        }
      ],
      "source": [
        "#tupples are immutable\n",
        "str2 = t1 +(50,60)\n",
        "print(str2)"
      ]
    },
    {
      "cell_type": "code",
      "execution_count": null,
      "metadata": {
        "colab": {
          "base_uri": "https://localhost:8080/"
        },
        "id": "M3y4IkKjOPl8",
        "outputId": "39d92d26-6fad-4bf8-bf99-40e76eede42e"
      },
      "outputs": [
        {
          "name": "stdout",
          "output_type": "stream",
          "text": [
            "5\n"
          ]
        }
      ],
      "source": [
        "#finding length of tupple\n",
        "str3 = t1.__len__()\n",
        "print(str3)"
      ]
    },
    {
      "cell_type": "code",
      "execution_count": null,
      "metadata": {
        "colab": {
          "base_uri": "https://localhost:8080/"
        },
        "id": "ku7CIFcsPUeO",
        "outputId": "ed9b86d4-1759-414e-e69c-57d5d0474aa5"
      },
      "outputs": [
        {
          "name": "stdout",
          "output_type": "stream",
          "text": [
            "True\n",
            "False\n"
          ]
        }
      ],
      "source": [
        "#membership operators\n",
        "print(10 in t1)\n",
        "print(10 not in t1)"
      ]
    },
    {
      "cell_type": "code",
      "execution_count": null,
      "metadata": {
        "colab": {
          "base_uri": "https://localhost:8080/"
        },
        "id": "ek6ORXO3P-wf",
        "outputId": "663ab06e-2ac5-42e6-c6e7-c5a502bf583a"
      },
      "outputs": [
        {
          "name": "stdout",
          "output_type": "stream",
          "text": [
            "(10, 20, 30, 'python', 15.17, 80.86, 21, 'atharva')\n"
          ]
        }
      ],
      "source": [
        "#concatinate tuple\n",
        "t3 = t1 + t2\n",
        "print(t3)"
      ]
    },
    {
      "cell_type": "code",
      "execution_count": null,
      "metadata": {
        "colab": {
          "base_uri": "https://localhost:8080/"
        },
        "id": "60_TQVtmQNNc",
        "outputId": "4acbfccb-7f45-4ea9-8669-e21ba9de9700"
      },
      "outputs": [
        {
          "name": "stdout",
          "output_type": "stream",
          "text": [
            "(10, 20, 30, 'python', 15.17, 10, 20, 30, 'python', 15.17, 10, 20, 30, 'python', 15.17)\n"
          ]
        }
      ],
      "source": [
        "#multiplying tuple\n",
        "t4 = t1*3\n",
        "print(t4)"
      ]
    },
    {
      "cell_type": "code",
      "execution_count": null,
      "metadata": {
        "id": "3KwcezhrS9KV"
      },
      "outputs": [],
      "source": [
        "#deleting tupple\n",
        "del t1"
      ]
    },
    {
      "cell_type": "code",
      "execution_count": null,
      "metadata": {
        "colab": {
          "base_uri": "https://localhost:8080/"
        },
        "id": "vnz2RT1dVAZ8",
        "outputId": "40e53b77-28a5-408e-8adb-18eea86fcad4"
      },
      "outputs": [
        {
          "name": "stdout",
          "output_type": "stream",
          "text": [
            "username=atharva\n",
            "password=1234\n",
            "you are now logged in// good to see you again //\n"
          ]
        }
      ],
      "source": [
        "T = \"// try again //\"\n",
        "W = \"// good to see you again //\"\n",
        "name = input(\"username=\")\n",
        "password = input(\"password=\")\n",
        "if password == \"1234\":\n",
        "  if name == \"atharva\":\n",
        "    print(\"you are now logged in\"+W)\n",
        "  else:print(\"INVALID USERNAME\"+T)\n",
        "else:print(\"INVALID PASSWORD\"+T)"
      ]
    },
    {
      "cell_type": "code",
      "execution_count": null,
      "metadata": {
        "id": "_G3aSZEqaBXl"
      },
      "outputs": [],
      "source": [
        "# Dictionary operations\n",
        "dict1 = {\"ABD\":12345,\"EFG\":69}"
      ]
    },
    {
      "cell_type": "code",
      "execution_count": null,
      "metadata": {
        "colab": {
          "base_uri": "https://localhost:8080/"
        },
        "id": "5aOaunphakrd",
        "outputId": "1de14696-0028-4068-9702-b20aac35e9ea"
      },
      "outputs": [
        {
          "name": "stdout",
          "output_type": "stream",
          "text": [
            "{'ABD': 12345, 'EFG': 69}\n"
          ]
        }
      ],
      "source": [
        "# print ictionary\n",
        "print(dict1)"
      ]
    },
    {
      "cell_type": "code",
      "execution_count": null,
      "metadata": {
        "colab": {
          "base_uri": "https://localhost:8080/"
        },
        "id": "Z5ZJwq_BawmS",
        "outputId": "78353e2a-64c7-468a-c61d-dcc45455a7a7"
      },
      "outputs": [
        {
          "name": "stdout",
          "output_type": "stream",
          "text": [
            "dict_keys(['ABD', 'EFG'])\n"
          ]
        }
      ],
      "source": [
        "#reteriving keys from dictionary\n",
        "print(dict1.keys())"
      ]
    },
    {
      "cell_type": "code",
      "execution_count": null,
      "metadata": {
        "colab": {
          "base_uri": "https://localhost:8080/"
        },
        "id": "JvXvqHPxbF0-",
        "outputId": "aefd3993-77e7-498b-f33b-62adef226d9c"
      },
      "outputs": [
        {
          "name": "stdout",
          "output_type": "stream",
          "text": [
            "dict_values([12345, 69])\n"
          ]
        }
      ],
      "source": [
        "#reteriving values from dicitonary\n",
        "print(dict1.values())"
      ]
    },
    {
      "cell_type": "code",
      "execution_count": null,
      "metadata": {
        "colab": {
          "base_uri": "https://localhost:8080/"
        },
        "id": "73Llf5iUbQSF",
        "outputId": "2164c05a-b59b-4a14-e02f-405ed2096f99"
      },
      "outputs": [
        {
          "name": "stdout",
          "output_type": "stream",
          "text": [
            "{'ABD': 12345, 'EFG': 69, 'XYZ': -2003}\n"
          ]
        }
      ],
      "source": [
        "#update dictionary\n",
        "dict1.update({\"XYZ\":5-4-2004})\n",
        "print(dict1)"
      ]
    },
    {
      "cell_type": "code",
      "execution_count": null,
      "metadata": {
        "colab": {
          "base_uri": "https://localhost:8080/"
        },
        "id": "JhfH0re0cdgD",
        "outputId": "b2eb8e70-3962-4e9c-f5e4-13d284f92103"
      },
      "outputs": [
        {
          "name": "stdout",
          "output_type": "stream",
          "text": [
            "3\n"
          ]
        }
      ],
      "source": [
        "#find length of dictionary\n",
        "a = dict1.__len__()\n",
        "print(a)"
      ]
    },
    {
      "cell_type": "code",
      "execution_count": null,
      "metadata": {
        "colab": {
          "base_uri": "https://localhost:8080/"
        },
        "id": "FPkqBI5vc05D",
        "outputId": "cc336584-1f56-42b6-e130-de8984b97d9d"
      },
      "outputs": [
        {
          "name": "stdout",
          "output_type": "stream",
          "text": [
            "{}\n"
          ]
        }
      ],
      "source": [
        "dict1.pop(\"EFG\")\n",
        "print(dict1)"
      ]
    },
    {
      "cell_type": "code",
      "execution_count": null,
      "metadata": {
        "colab": {
          "base_uri": "https://localhost:8080/"
        },
        "id": "3HqY2LPFep9o",
        "outputId": "58f39409-e08a-4157-bb9d-42aadbc5db39"
      },
      "outputs": [
        {
          "name": "stdout",
          "output_type": "stream",
          "text": [
            "[['PLIER', 'SS001', 150, 80, 1234, nan], ['SCREW DRIVER', 'SS002', 230, 70, 2234, nan], ['NUT BOLTS', 'SS003', 145, 69, 1233, nan], ['WASHERS', 'SS004', 134, 79, 1245, nan], ['FILE', 'SS005', 123, 58, 123, nan], ['TESTERS', 'SS006', 253, 78, 123, nan], ['L KEYS', 'SS007', 123, 80, 133, nan], ['GRINDERS', 'SS008', 124, 90, 1333, nan], ['DRILL', 'SS009', 124, 80, 1223, nan], ['SCREWS', 'SS010', 123, 57, 2344, nan], ['SAFETY KIT', 'SS011', 134, 125, 3444, nan], ['SAND PAPER', 'SS012', 242, 180, 323, nan], ['FILTER PAPER', 'SS013', 123, 56, 23, nan], ['DRILL BITS', 'SS014', 113, 80, 123, nan], ['SQUARE NUTS', 'SS015', 134, 90, 1112, nan], ['FOIL', 'SS016', 133, 80, 1123, nan], ['CARDSHEET', 'SS017', 342, 90, 1331, nan], ['COLLECTOR', 'SS018', 134, 90, 2345, nan], ['FLASHLIGHTS', 'SS019', 70, 50, 3444, nan]]\n"
          ]
        }
      ],
      "source": [
        "import pandas as pd\n",
        "df = pd.read_csv('/content/Book1.csv')\n",
        "print(df.values.tolist())"
      ]
    },
    {
      "cell_type": "code",
      "execution_count": null,
      "metadata": {
        "colab": {
          "base_uri": "https://localhost:8080/"
        },
        "id": "ZwUbgYXAq_Qw",
        "outputId": "6bbe2887-2da6-4185-d19d-9ca80718d3c4"
      },
      "outputs": [
        {
          "name": "stdout",
          "output_type": "stream",
          "text": [
            "10\n",
            "20\n",
            "30\n"
          ]
        }
      ],
      "source": [
        " #set theory\n",
        " s1 = {10,20,30}\n",
        " for i in s1:\n",
        "  print(i)"
      ]
    },
    {
      "cell_type": "code",
      "execution_count": null,
      "metadata": {
        "colab": {
          "base_uri": "https://localhost:8080/"
        },
        "id": "mM1cd235L3IV",
        "outputId": "213271dc-e94f-4955-d3ef-1a02c8bbce37"
      },
      "outputs": [
        {
          "name": "stdout",
          "output_type": "stream",
          "text": [
            "{10, 20, 5, 30}\n"
          ]
        }
      ],
      "source": [
        "s1 = {10,20,30}\n",
        "s1.add(5)\n",
        "print(s1)"
      ]
    },
    {
      "cell_type": "code",
      "execution_count": null,
      "metadata": {
        "colab": {
          "base_uri": "https://localhost:8080/"
        },
        "id": "ZGmfIfH1MMZ-",
        "outputId": "2d8def24-19dd-46cf-e2fd-abc9c0668c27"
      },
      "outputs": [
        {
          "name": "stdout",
          "output_type": "stream",
          "text": [
            "{1, 3, 20, 7, 10, 30}\n"
          ]
        }
      ],
      "source": [
        "s1 = {10,20,30}\n",
        "s1.update({1,3,7})\n",
        "print(s1)"
      ]
    },
    {
      "cell_type": "code",
      "execution_count": null,
      "metadata": {
        "colab": {
          "base_uri": "https://localhost:8080/"
        },
        "id": "vt-V5MzMMfn8",
        "outputId": "ac1be7a8-eec5-4720-c029-3bec30200d64"
      },
      "outputs": [
        {
          "name": "stdout",
          "output_type": "stream",
          "text": [
            "{1, 3, 20, 10, 30}\n"
          ]
        }
      ],
      "source": [
        "s1.discard(7)\n",
        "print(s1)"
      ]
    },
    {
      "cell_type": "code",
      "execution_count": null,
      "metadata": {
        "colab": {
          "base_uri": "https://localhost:8080/"
        },
        "id": "M1t58F2RMuNs",
        "outputId": "fed74b77-bb78-4456-f6e8-d04496862580"
      },
      "outputs": [
        {
          "name": "stdout",
          "output_type": "stream",
          "text": [
            "{1, 2, 3, 4, 5, 6, 7, 8, 9}\n"
          ]
        }
      ],
      "source": [
        "a={1,2,3,4,5}\n",
        "b={5,6,7,8,9}\n",
        "c=a|b\n",
        "print(c)"
      ]
    },
    {
      "cell_type": "code",
      "execution_count": null,
      "metadata": {
        "colab": {
          "base_uri": "https://localhost:8080/"
        },
        "id": "6HHJepPbNXvK",
        "outputId": "828102e5-21e3-4016-828b-f7bc1954a302"
      },
      "outputs": [
        {
          "name": "stdout",
          "output_type": "stream",
          "text": [
            "{5}\n"
          ]
        }
      ],
      "source": [
        "i = a & b\n",
        "print(i)"
      ]
    },
    {
      "cell_type": "code",
      "execution_count": null,
      "metadata": {
        "colab": {
          "base_uri": "https://localhost:8080/"
        },
        "id": "qLbtQ7GDNxPI",
        "outputId": "5539b39b-d6ff-406d-cd81-8434fa7f2a65"
      },
      "outputs": [
        {
          "name": "stdout",
          "output_type": "stream",
          "text": [
            "{1, 2, 3, 4}\n"
          ]
        }
      ],
      "source": [
        "i = a - b\n",
        "print(i)"
      ]
    },
    {
      "cell_type": "code",
      "execution_count": null,
      "metadata": {
        "colab": {
          "base_uri": "https://localhost:8080/"
        },
        "id": "qaTBb6lzOGKH",
        "outputId": "cd435203-edcd-44ce-a05e-526d21de74e8"
      },
      "outputs": [
        {
          "name": "stdout",
          "output_type": "stream",
          "text": [
            "{80, 20, 40, 60}\n"
          ]
        }
      ],
      "source": [
        "a = {10,20,30,50,80}\n",
        "b = {10,30,40,50,60}\n",
        "i = a ^ b\n",
        "print(i)"
      ]
    },
    {
      "cell_type": "code",
      "execution_count": null,
      "metadata": {
        "colab": {
          "base_uri": "https://localhost:8080/"
        },
        "id": "2LMohBj6OtyV",
        "outputId": "050b9341-fdf4-47dc-f105-51b152c7bb29"
      },
      "outputs": [
        {
          "name": "stdout",
          "output_type": "stream",
          "text": [
            "set()\n"
          ]
        }
      ],
      "source": [
        "s = {2,4,6,8,10}\n",
        "s.clear()\n",
        "print(s)"
      ]
    },
    {
      "cell_type": "code",
      "execution_count": null,
      "metadata": {
        "colab": {
          "base_uri": "https://localhost:8080/"
        },
        "id": "kJzfpvM3OyLp",
        "outputId": "bb740bcb-cb2d-4ead-be60-44ac8521adef"
      },
      "outputs": [
        {
          "name": "stdout",
          "output_type": "stream",
          "text": [
            "[45 42  3  4  5]\n",
            "[1 2 3 4 5]\n",
            "[45 42  3  4  5]\n"
          ]
        }
      ],
      "source": [
        "import numpy as np\n",
        "arr = np.array([1,2,3,4,5])\n",
        "x = arr.copy()\n",
        "y = arr.view()\n",
        "arr[1] = 42\n",
        "arr[0] = 45\n",
        "print(arr)\n",
        "print(x)\n",
        "print(y)"
      ]
    },
    {
      "cell_type": "code",
      "execution_count": null,
      "metadata": {
        "colab": {
          "base_uri": "https://localhost:8080/"
        },
        "id": "A_GsUDS3krPQ",
        "outputId": "81d8b971-f2f0-4f71-95a7-64e65fda023b"
      },
      "outputs": [
        {
          "name": "stdout",
          "output_type": "stream",
          "text": [
            "addition of matrix\n",
            "[[11 11]\n",
            " [ 3  5]]\n",
            "subctraction of matrix\n",
            "[[-1 -3]\n",
            " [ 1  1]]\n"
          ]
        }
      ],
      "source": [
        "import numpy as np\n",
        "x = np.array([[5,4],[2,3]])\n",
        "y = np.array([[6,7],[1,2]])\n",
        "\n",
        "print(\"addition of matrix\")\n",
        "print(np.add(x,y))\n",
        "\n",
        "print(\"subctraction of matrix\")\n",
        "print(np.subtract(x,y))"
      ]
    },
    {
      "cell_type": "code",
      "execution_count": null,
      "metadata": {
        "colab": {
          "base_uri": "https://localhost:8080/"
        },
        "id": "iRTPmVJZqidJ",
        "outputId": "484766c1-1f75-486c-97bf-4c316b322eeb"
      },
      "outputs": [
        {
          "name": "stdout",
          "output_type": "stream",
          "text": [
            "[[1 2 3]\n",
            " [4 5 6]\n",
            " [7 8 9]]\n"
          ]
        }
      ],
      "source": [
        "l1 = np.matrix('1,2,3 ; 4,5,6 ; 7,8,9')\n",
        "a = np.array(l1)\n",
        "print(a)"
      ]
    },
    {
      "cell_type": "code",
      "execution_count": null,
      "metadata": {
        "colab": {
          "base_uri": "https://localhost:8080/"
        },
        "id": "dBSUG0hKrAOm",
        "outputId": "4bff088a-77ae-46ee-ba6d-31b0d1da54a8"
      },
      "outputs": [
        {
          "name": "stdout",
          "output_type": "stream",
          "text": [
            "[[1 4 7]\n",
            " [2 5 8]\n",
            " [3 6 9]]\n"
          ]
        }
      ],
      "source": [
        "print(a.T)"
      ]
    },
    {
      "cell_type": "code",
      "execution_count": null,
      "metadata": {
        "colab": {
          "base_uri": "https://localhost:8080/"
        },
        "id": "25QT9LEJrF3g",
        "outputId": "1921fed2-4639-4aa4-92ea-0cc1eaaa5a19"
      },
      "outputs": [
        {
          "name": "stdout",
          "output_type": "stream",
          "text": [
            "{'erp': 'you', 9: 'erp', 8.9: 'python'}\n"
          ]
        }
      ],
      "source": [
        "import json\n",
        "emp_dict={ 'erp':\"you\",9:\"erp\",8.9:\"python\"}\n",
        "print(emp_dict)"
      ]
    },
    {
      "cell_type": "code",
      "execution_count": null,
      "metadata": {
        "id": "LedNR95ursGH"
      },
      "outputs": [],
      "source": [
        "def outer():\n",
        "  print (\"outer function\")\n",
        "\n",
        "  def inner():\n",
        "    print(\"inner function\")\n",
        "\n",
        "    inner()\n",
        "\n",
        "  outer()"
      ]
    },
    {
      "cell_type": "code",
      "execution_count": null,
      "metadata": {
        "colab": {
          "base_uri": "https://localhost:8080/"
        },
        "id": "PDXd25Vxsn9X",
        "outputId": "275071f2-9263-4483-847b-0d8c85aba8de"
      },
      "outputs": [
        {
          "name": "stdout",
          "output_type": "stream",
          "text": [
            "Enter your daily water intake goal (in liters): 40\n",
            "Enter your water intake for the day (in liters): 50\n",
            "Congratulations! You have reached your daily water intake goal of 40 liters.\n",
            "Your total water intake for the day was 50 liters.\n",
            "You have completed 125.00% of your daily water intake goal.\n"
          ]
        }
      ],
      "source": [
        "daily_goal = int(input(\"Enter your daily water intake goal (in liters): \"))\n",
        "\n",
        "total_intake = 0\n",
        "\n",
        "while total_intake < daily_goal:\n",
        "\n",
        "    intake = int(input(\"Enter your water intake for the day (in liters): \"))\n",
        "\n",
        "    total_intake += intake\n",
        "\n",
        "    if total_intake < daily_goal:\n",
        "        print(\"Don't forget to drink more water throughout the day!\")\n",
        "\n",
        "percent_complete = (total_intake / daily_goal)*100\n",
        "\n",
        "print(\"Congratulations! You have reached your daily water intake goal of {0} liters.\".format(daily_goal))\n",
        "print(\"Your total water intake for the day was {0} liters.\".format(total_intake))\n",
        "print(\"You have completed {0:.2f}% of your daily water intake goal.\".format(percent_complete))"
      ]
    },
    {
      "cell_type": "code",
      "execution_count": null,
      "metadata": {
        "colab": {
          "base_uri": "https://localhost:8080/"
        },
        "id": "RJm8b0nqdEbX",
        "outputId": "9c6d8646-5327-4937-b4d1-3108258c6739"
      },
      "outputs": [
        {
          "name": "stdout",
          "output_type": "stream",
          "text": [
            "[1, 3, 5, 7, 9]\n",
            "[2, 4, 6, 8, 10]\n"
          ]
        }
      ],
      "source": [
        "list1 = [1,2,3,4,5,6,7,8,9,10]\n",
        "alternate = list1[::2]\n",
        "even = list1[1:10:2]\n",
        "print(alternate)\n",
        "print(even)"
      ]
    },
    {
      "cell_type": "code",
      "execution_count": null,
      "metadata": {
        "colab": {
          "base_uri": "https://localhost:8080/"
        },
        "id": "tMoKSKI6lpV0",
        "outputId": "4f2fb5e5-24cc-4f09-faa6-2135641c4abd"
      },
      "outputs": [
        {
          "name": "stdout",
          "output_type": "stream",
          "text": [
            "2023-05-02\n"
          ]
        }
      ],
      "source": [
        "from datetime import date\n",
        "today = date.today()\n",
        "print (today)"
      ]
    },
    {
      "cell_type": "code",
      "execution_count": null,
      "metadata": {
        "colab": {
          "base_uri": "https://localhost:8080/"
        },
        "id": "E7R_bSbOmG2e",
        "outputId": "f4220e63-bec9-425f-b139-88ca11453b45"
      },
      "outputs": [
        {
          "name": "stdout",
          "output_type": "stream",
          "text": [
            "the atributes of now( are : \n",
            "year:2023\n",
            "month:5\n",
            "day:2\n"
          ]
        }
      ],
      "source": [
        "import datetime\n",
        "current_time = datetime.datetime.now()\n",
        "print(\"the atributes of now( are : \")\n",
        "\n",
        "print(\"year:\",end = \"\")\n",
        "print(current_time.year)\n",
        "\n",
        "print(\"month:\",end = \"\")\n",
        "print(current_time.month)\n",
        "\n",
        "print(\"day:\",end =\"\")\n",
        "print(current_time.day)"
      ]
    },
    {
      "cell_type": "code",
      "execution_count": null,
      "metadata": {
        "id": "8XuiHTiPnz8z"
      },
      "outputs": [],
      "source": [
        "  from datetime import date\n",
        "  def calculate(dob)\n",
        "  today = date.today()\n"
      ]
    },
    {
      "attachments": {},
      "cell_type": "markdown",
      "metadata": {
        "id": "FUexfaZexV7F"
      },
      "source": [
        "total_water = 0\n",
        "water_ml = int(input(\"enter amount of water consumed in mililiters:\"))\n",
        "total_water += water_ml/1000\n",
        "print(\"you have consumed\",total_water,\"liters of water today\")"
      ]
    },
    {
      "cell_type": "code",
      "execution_count": null,
      "metadata": {
        "colab": {
          "base_uri": "https://localhost:8080/"
        },
        "id": "-1cYumNjlSua",
        "outputId": "fea45a9b-cdfa-40c4-960f-fe1269c5c239"
      },
      "outputs": [
        {
          "name": "stdout",
          "output_type": "stream",
          "text": [
            "x and y are not equal\n"
          ]
        }
      ],
      "source": [
        "x = 3\n",
        "y = 5\n",
        "\n",
        "if x == y:\n",
        "    print(\"x and y are equal\")\n",
        "else:\n",
        "    print(\"x and y are not equal\")"
      ]
    },
    {
      "cell_type": "code",
      "execution_count": null,
      "metadata": {
        "colab": {
          "base_uri": "https://localhost:8080/"
        },
        "id": "x63gzSsKmX7I",
        "outputId": "25ea2094-936c-4273-ed9d-84b2f21bd1e7"
      },
      "outputs": [
        {
          "name": "stdout",
          "output_type": "stream",
          "text": [
            "x and y are not equal\n"
          ]
        }
      ],
      "source": [
        "x = 6\n",
        "y = 7\n",
        "\n",
        "if x != y:\n",
        "    print(\"x and y are not equal\")\n",
        "else:\n",
        "    print(\"x and y are equal\")"
      ]
    },
    {
      "cell_type": "code",
      "execution_count": null,
      "metadata": {
        "colab": {
          "base_uri": "https://localhost:8080/"
        },
        "id": "FqVFcPb_sHwU",
        "outputId": "3b62ee75-37c9-469b-972b-5a0ed7e844ad"
      },
      "outputs": [
        {
          "name": "stdout",
          "output_type": "stream",
          "text": [
            "30\n"
          ]
        }
      ],
      "source": [
        "a = 10\n",
        "b = 20\n",
        "c = a + b\n",
        "print (c)"
      ]
    },
    {
      "cell_type": "code",
      "execution_count": null,
      "metadata": {
        "colab": {
          "base_uri": "https://localhost:8080/"
        },
        "id": "gBqoGix8s3Pm",
        "outputId": "6240ba02-c011-4a92-8d62-a1955197f412"
      },
      "outputs": [
        {
          "name": "stdout",
          "output_type": "stream",
          "text": [
            "-10\n"
          ]
        }
      ],
      "source": [
        "a = 10\n",
        "b = 20\n",
        "c = a-b\n",
        "print(c)"
      ]
    },
    {
      "cell_type": "code",
      "execution_count": null,
      "metadata": {
        "colab": {
          "base_uri": "https://localhost:8080/"
        },
        "id": "RVFz63GItPN8",
        "outputId": "7922cc81-339a-4d3c-bdf3-71b3c2d639f7"
      },
      "outputs": [
        {
          "name": "stdout",
          "output_type": "stream",
          "text": [
            "8\n"
          ]
        }
      ],
      "source": [
        "a = 2\n",
        "b = 4\n",
        "c = a*b\n",
        "print(c)"
      ]
    },
    {
      "cell_type": "code",
      "execution_count": null,
      "metadata": {
        "colab": {
          "base_uri": "https://localhost:8080/"
        },
        "id": "6DwRb3_ptglN",
        "outputId": "98c9d942-4fb8-45d2-f4b8-37c29aae018a"
      },
      "outputs": [
        {
          "name": "stdout",
          "output_type": "stream",
          "text": [
            "0.5\n"
          ]
        }
      ],
      "source": [
        "a = 4\n",
        "b = 2\n",
        "c = b/a\n",
        "print(c)"
      ]
    },
    {
      "cell_type": "code",
      "execution_count": null,
      "metadata": {
        "colab": {
          "base_uri": "https://localhost:8080/"
        },
        "id": "FqEuKJoityD_",
        "outputId": "23962519-7f1a-403d-dc92-11159a366cc3"
      },
      "outputs": [
        {
          "name": "stdout",
          "output_type": "stream",
          "text": [
            "[['Sr no.', 'Emp Name', 'Emp id', 'Date', 'Leaves'], [1, 'Ganesh ', 1001, datetime.datetime(2023, 1, 21, 0, 0), 2], [2, 'Kartik', 1002, datetime.datetime(2023, 1, 22, 0, 0), 4], [3, 'Veera', 1003, datetime.datetime(2023, 1, 23, 0, 0), 8], [4, 'Sanskruti', 1004, datetime.datetime(2023, 1, 24, 0, 0), 6], [5, 'Archana', 1005, datetime.datetime(2023, 1, 25, 0, 0), 1], [6, 'Aradhana', 1006, datetime.datetime(2023, 1, 26, 0, 0), 2], [7, 'Pratham', 1007, datetime.datetime(2023, 1, 27, 0, 0), 3], [8, 'Sayali', 1008, datetime.datetime(2023, 1, 28, 0, 0), 5], [9, 'Smruti', 1009, datetime.datetime(2023, 1, 29, 0, 0), 9], [10, 'Vijay', 1010, datetime.datetime(2023, 1, 30, 0, 0), 7]]\n"
          ]
        }
      ],
      "source": [
        "import pandas as pd\n",
        "df=pd.read_excel('/content/EDS Excel Employe (118).xlsx')\n",
        "a = df\n",
        "\n",
        "print(a.values.tolist())\n",
        "\n",
        "df1 = pd.read_excel(r'/content/(116) Salary emp.xlsx')\n",
        "l = list(df1.itertuples(index=False))\n",
        "\n",
        "t1 = [tuple(x) for x in df1.values]\n",
        "\n",
        "d1 = df.to_dict()\n",
        "\n",
        "def freq(l):\n",
        "  counter = 0\n",
        "  num = l[0]\n",
        "  for i in l:\n",
        "    cf = l.count(i)\n",
        "    counter = cf\n",
        "    num = i\n",
        "    return 0\n",
        "    print(freq(l))"
      ]
    },
    {
      "cell_type": "code",
      "execution_count": null,
      "metadata": {
        "colab": {
          "base_uri": "https://localhost:8080/"
        },
        "id": "-u8b5ES6N5Zn",
        "outputId": "343d21b1-34e7-4542-f506-33068372325c"
      },
      "outputs": [
        {
          "name": "stdout",
          "output_type": "stream",
          "text": [
            "40353607.0\n"
          ]
        }
      ],
      "source": [
        "import math\n",
        "print(math.pow(7,9))"
      ]
    },
    {
      "cell_type": "code",
      "execution_count": null,
      "metadata": {
        "colab": {
          "base_uri": "https://localhost:8080/"
        },
        "id": "NnUdiKiJXUdd",
        "outputId": "46ac3ff7-f81f-4d57-c9cc-1d30d6237dfc"
      },
      "outputs": [
        {
          "name": "stdout",
          "output_type": "stream",
          "text": [
            "5\n",
            "8\n"
          ]
        }
      ],
      "source": [
        "from itertools import count\n",
        "\n",
        "for number in count(start=5, step=3):\n",
        "    if number > 10:\n",
        "       break\n",
        "    print(number)"
      ]
    },
    {
      "cell_type": "code",
      "execution_count": null,
      "metadata": {
        "colab": {
          "base_uri": "https://localhost:8080/"
        },
        "id": "rgDjVpVuZFoS",
        "outputId": "c8609cfe-6caf-4ce9-d9e8-bdf018b53214"
      },
      "outputs": [
        {
          "name": "stdout",
          "output_type": "stream",
          "text": [
            "3\n",
            "4\n",
            "5\n",
            "6\n",
            "7\n",
            "8\n",
            "9\n"
          ]
        }
      ],
      "source": [
        "x = range(3,10)\n",
        "for n in x:\n",
        "  print(n)"
      ]
    },
    {
      "cell_type": "code",
      "execution_count": null,
      "metadata": {
        "colab": {
          "base_uri": "https://localhost:8080/"
        },
        "id": "hVCqOjT3ZRje",
        "outputId": "71c7a194-0307-4011-9437-bfe04aa7570c"
      },
      "outputs": [
        {
          "name": "stdout",
          "output_type": "stream",
          "text": [
            "4\n",
            "81/7\n",
            "23/17\n"
          ]
        }
      ],
      "source": [
        "from fractions import Fraction\n",
        "\n",
        "print(Fraction(84,21))\n",
        "\n",
        "print(Fraction(81,7))\n",
        "\n",
        "print(Fraction(23,17))"
      ]
    },
    {
      "cell_type": "code",
      "execution_count": null,
      "metadata": {
        "colab": {
          "base_uri": "https://localhost:8080/"
        },
        "id": "qe8ah9X8aDVk",
        "outputId": "b9313d46-4057-43f1-eb42-2c522b321321"
      },
      "outputs": [
        {
          "name": "stdout",
          "output_type": "stream",
          "text": [
            "Result for float division of 4 by 3:\n",
            "3.142857142857143\n",
            "Result for decimal division of 4 by 3:\n",
            "3.142857142857142857142857143\n"
          ]
        }
      ],
      "source": [
        "import decimal\n",
        "float_division=22/7\n",
        "decimal_division=decimal.Decimal(22)/decimal.Decimal(7)\n",
        "print(\"Result for float division of 4 by 3:\")\n",
        "print(float_division)\n",
        "print(\"Result for decimal division of 4 by 3:\")\n",
        "print(decimal_division)"
      ]
    },
    {
      "cell_type": "code",
      "execution_count": null,
      "metadata": {
        "colab": {
          "base_uri": "https://localhost:8080/",
          "height": 397
        },
        "id": "i2dqNhInhR4-",
        "outputId": "fb01adaa-25f2-4c7c-91d9-b72f5f1fa844"
      },
      "outputs": [
        {
          "ename": "FileNotFoundError",
          "evalue": "ignored",
          "output_type": "error",
          "traceback": [
            "\u001b[0;31m---------------------------------------------------------------------------\u001b[0m",
            "\u001b[0;31mFileNotFoundError\u001b[0m                         Traceback (most recent call last)",
            "\u001b[0;32m<ipython-input-15-f41567e5098b>\u001b[0m in \u001b[0;36m<cell line: 4>\u001b[0;34m()\u001b[0m\n\u001b[1;32m      2\u001b[0m \u001b[0;32mimport\u001b[0m \u001b[0mnumpy\u001b[0m \u001b[0;32mas\u001b[0m \u001b[0mnp\u001b[0m\u001b[0;34m\u001b[0m\u001b[0;34m\u001b[0m\u001b[0m\n\u001b[1;32m      3\u001b[0m \u001b[0;34m\u001b[0m\u001b[0m\n\u001b[0;32m----> 4\u001b[0;31m \u001b[0mdf\u001b[0m \u001b[0;34m=\u001b[0m \u001b[0mpd\u001b[0m\u001b[0;34m.\u001b[0m\u001b[0mread_excel\u001b[0m\u001b[0;34m(\u001b[0m\u001b[0;34m'/content/Sales (1).xlsx'\u001b[0m\u001b[0;34m,\u001b[0m\u001b[0mheader\u001b[0m\u001b[0;34m=\u001b[0m\u001b[0;32mNone\u001b[0m\u001b[0;34m)\u001b[0m\u001b[0;34m\u001b[0m\u001b[0;34m\u001b[0m\u001b[0m\n\u001b[0m\u001b[1;32m      5\u001b[0m \u001b[0mdf1\u001b[0m \u001b[0;34m=\u001b[0m \u001b[0mpd\u001b[0m\u001b[0;34m.\u001b[0m\u001b[0mread_excel\u001b[0m\u001b[0;34m(\u001b[0m\u001b[0;34m'/content/Sales (1).xlsx'\u001b[0m\u001b[0;34m,\u001b[0m\u001b[0mheader\u001b[0m\u001b[0;34m=\u001b[0m\u001b[0;32mNone\u001b[0m\u001b[0;34m)\u001b[0m\u001b[0;34m\u001b[0m\u001b[0;34m\u001b[0m\u001b[0m\n\u001b[1;32m      6\u001b[0m \u001b[0;34m\u001b[0m\u001b[0m\n",
            "\u001b[0;32m/usr/local/lib/python3.10/dist-packages/pandas/util/_decorators.py\u001b[0m in \u001b[0;36mwrapper\u001b[0;34m(*args, **kwargs)\u001b[0m\n\u001b[1;32m    209\u001b[0m                 \u001b[0;32melse\u001b[0m\u001b[0;34m:\u001b[0m\u001b[0;34m\u001b[0m\u001b[0;34m\u001b[0m\u001b[0m\n\u001b[1;32m    210\u001b[0m                     \u001b[0mkwargs\u001b[0m\u001b[0;34m[\u001b[0m\u001b[0mnew_arg_name\u001b[0m\u001b[0;34m]\u001b[0m \u001b[0;34m=\u001b[0m \u001b[0mnew_arg_value\u001b[0m\u001b[0;34m\u001b[0m\u001b[0;34m\u001b[0m\u001b[0m\n\u001b[0;32m--> 211\u001b[0;31m             \u001b[0;32mreturn\u001b[0m \u001b[0mfunc\u001b[0m\u001b[0;34m(\u001b[0m\u001b[0;34m*\u001b[0m\u001b[0margs\u001b[0m\u001b[0;34m,\u001b[0m \u001b[0;34m**\u001b[0m\u001b[0mkwargs\u001b[0m\u001b[0;34m)\u001b[0m\u001b[0;34m\u001b[0m\u001b[0;34m\u001b[0m\u001b[0m\n\u001b[0m\u001b[1;32m    212\u001b[0m \u001b[0;34m\u001b[0m\u001b[0m\n\u001b[1;32m    213\u001b[0m         \u001b[0;32mreturn\u001b[0m \u001b[0mcast\u001b[0m\u001b[0;34m(\u001b[0m\u001b[0mF\u001b[0m\u001b[0;34m,\u001b[0m \u001b[0mwrapper\u001b[0m\u001b[0;34m)\u001b[0m\u001b[0;34m\u001b[0m\u001b[0;34m\u001b[0m\u001b[0m\n",
            "\u001b[0;32m/usr/local/lib/python3.10/dist-packages/pandas/util/_decorators.py\u001b[0m in \u001b[0;36mwrapper\u001b[0;34m(*args, **kwargs)\u001b[0m\n\u001b[1;32m    329\u001b[0m                     \u001b[0mstacklevel\u001b[0m\u001b[0;34m=\u001b[0m\u001b[0mfind_stack_level\u001b[0m\u001b[0;34m(\u001b[0m\u001b[0;34m)\u001b[0m\u001b[0;34m,\u001b[0m\u001b[0;34m\u001b[0m\u001b[0;34m\u001b[0m\u001b[0m\n\u001b[1;32m    330\u001b[0m                 )\n\u001b[0;32m--> 331\u001b[0;31m             \u001b[0;32mreturn\u001b[0m \u001b[0mfunc\u001b[0m\u001b[0;34m(\u001b[0m\u001b[0;34m*\u001b[0m\u001b[0margs\u001b[0m\u001b[0;34m,\u001b[0m \u001b[0;34m**\u001b[0m\u001b[0mkwargs\u001b[0m\u001b[0;34m)\u001b[0m\u001b[0;34m\u001b[0m\u001b[0;34m\u001b[0m\u001b[0m\n\u001b[0m\u001b[1;32m    332\u001b[0m \u001b[0;34m\u001b[0m\u001b[0m\n\u001b[1;32m    333\u001b[0m         \u001b[0;31m# error: \"Callable[[VarArg(Any), KwArg(Any)], Any]\" has no\u001b[0m\u001b[0;34m\u001b[0m\u001b[0;34m\u001b[0m\u001b[0m\n",
            "\u001b[0;32m/usr/local/lib/python3.10/dist-packages/pandas/io/excel/_base.py\u001b[0m in \u001b[0;36mread_excel\u001b[0;34m(io, sheet_name, header, names, index_col, usecols, squeeze, dtype, engine, converters, true_values, false_values, skiprows, nrows, na_values, keep_default_na, na_filter, verbose, parse_dates, date_parser, thousands, decimal, comment, skipfooter, convert_float, mangle_dupe_cols, storage_options)\u001b[0m\n\u001b[1;32m    480\u001b[0m     \u001b[0;32mif\u001b[0m \u001b[0;32mnot\u001b[0m \u001b[0misinstance\u001b[0m\u001b[0;34m(\u001b[0m\u001b[0mio\u001b[0m\u001b[0;34m,\u001b[0m \u001b[0mExcelFile\u001b[0m\u001b[0;34m)\u001b[0m\u001b[0;34m:\u001b[0m\u001b[0;34m\u001b[0m\u001b[0;34m\u001b[0m\u001b[0m\n\u001b[1;32m    481\u001b[0m         \u001b[0mshould_close\u001b[0m \u001b[0;34m=\u001b[0m \u001b[0;32mTrue\u001b[0m\u001b[0;34m\u001b[0m\u001b[0;34m\u001b[0m\u001b[0m\n\u001b[0;32m--> 482\u001b[0;31m         \u001b[0mio\u001b[0m \u001b[0;34m=\u001b[0m \u001b[0mExcelFile\u001b[0m\u001b[0;34m(\u001b[0m\u001b[0mio\u001b[0m\u001b[0;34m,\u001b[0m \u001b[0mstorage_options\u001b[0m\u001b[0;34m=\u001b[0m\u001b[0mstorage_options\u001b[0m\u001b[0;34m,\u001b[0m \u001b[0mengine\u001b[0m\u001b[0;34m=\u001b[0m\u001b[0mengine\u001b[0m\u001b[0;34m)\u001b[0m\u001b[0;34m\u001b[0m\u001b[0;34m\u001b[0m\u001b[0m\n\u001b[0m\u001b[1;32m    483\u001b[0m     \u001b[0;32melif\u001b[0m \u001b[0mengine\u001b[0m \u001b[0;32mand\u001b[0m \u001b[0mengine\u001b[0m \u001b[0;34m!=\u001b[0m \u001b[0mio\u001b[0m\u001b[0;34m.\u001b[0m\u001b[0mengine\u001b[0m\u001b[0;34m:\u001b[0m\u001b[0;34m\u001b[0m\u001b[0;34m\u001b[0m\u001b[0m\n\u001b[1;32m    484\u001b[0m         raise ValueError(\n",
            "\u001b[0;32m/usr/local/lib/python3.10/dist-packages/pandas/io/excel/_base.py\u001b[0m in \u001b[0;36m__init__\u001b[0;34m(self, path_or_buffer, engine, storage_options)\u001b[0m\n\u001b[1;32m   1650\u001b[0m                 \u001b[0mext\u001b[0m \u001b[0;34m=\u001b[0m \u001b[0;34m\"xls\"\u001b[0m\u001b[0;34m\u001b[0m\u001b[0;34m\u001b[0m\u001b[0m\n\u001b[1;32m   1651\u001b[0m             \u001b[0;32melse\u001b[0m\u001b[0;34m:\u001b[0m\u001b[0;34m\u001b[0m\u001b[0;34m\u001b[0m\u001b[0m\n\u001b[0;32m-> 1652\u001b[0;31m                 ext = inspect_excel_format(\n\u001b[0m\u001b[1;32m   1653\u001b[0m                     \u001b[0mcontent_or_path\u001b[0m\u001b[0;34m=\u001b[0m\u001b[0mpath_or_buffer\u001b[0m\u001b[0;34m,\u001b[0m \u001b[0mstorage_options\u001b[0m\u001b[0;34m=\u001b[0m\u001b[0mstorage_options\u001b[0m\u001b[0;34m\u001b[0m\u001b[0;34m\u001b[0m\u001b[0m\n\u001b[1;32m   1654\u001b[0m                 )\n",
            "\u001b[0;32m/usr/local/lib/python3.10/dist-packages/pandas/io/excel/_base.py\u001b[0m in \u001b[0;36minspect_excel_format\u001b[0;34m(content_or_path, storage_options)\u001b[0m\n\u001b[1;32m   1523\u001b[0m         \u001b[0mcontent_or_path\u001b[0m \u001b[0;34m=\u001b[0m \u001b[0mBytesIO\u001b[0m\u001b[0;34m(\u001b[0m\u001b[0mcontent_or_path\u001b[0m\u001b[0;34m)\u001b[0m\u001b[0;34m\u001b[0m\u001b[0;34m\u001b[0m\u001b[0m\n\u001b[1;32m   1524\u001b[0m \u001b[0;34m\u001b[0m\u001b[0m\n\u001b[0;32m-> 1525\u001b[0;31m     with get_handle(\n\u001b[0m\u001b[1;32m   1526\u001b[0m         \u001b[0mcontent_or_path\u001b[0m\u001b[0;34m,\u001b[0m \u001b[0;34m\"rb\"\u001b[0m\u001b[0;34m,\u001b[0m \u001b[0mstorage_options\u001b[0m\u001b[0;34m=\u001b[0m\u001b[0mstorage_options\u001b[0m\u001b[0;34m,\u001b[0m \u001b[0mis_text\u001b[0m\u001b[0;34m=\u001b[0m\u001b[0;32mFalse\u001b[0m\u001b[0;34m\u001b[0m\u001b[0;34m\u001b[0m\u001b[0m\n\u001b[1;32m   1527\u001b[0m     ) as handle:\n",
            "\u001b[0;32m/usr/local/lib/python3.10/dist-packages/pandas/io/common.py\u001b[0m in \u001b[0;36mget_handle\u001b[0;34m(path_or_buf, mode, encoding, compression, memory_map, is_text, errors, storage_options)\u001b[0m\n\u001b[1;32m    863\u001b[0m         \u001b[0;32melse\u001b[0m\u001b[0;34m:\u001b[0m\u001b[0;34m\u001b[0m\u001b[0;34m\u001b[0m\u001b[0m\n\u001b[1;32m    864\u001b[0m             \u001b[0;31m# Binary mode\u001b[0m\u001b[0;34m\u001b[0m\u001b[0;34m\u001b[0m\u001b[0m\n\u001b[0;32m--> 865\u001b[0;31m             \u001b[0mhandle\u001b[0m \u001b[0;34m=\u001b[0m \u001b[0mopen\u001b[0m\u001b[0;34m(\u001b[0m\u001b[0mhandle\u001b[0m\u001b[0;34m,\u001b[0m \u001b[0mioargs\u001b[0m\u001b[0;34m.\u001b[0m\u001b[0mmode\u001b[0m\u001b[0;34m)\u001b[0m\u001b[0;34m\u001b[0m\u001b[0;34m\u001b[0m\u001b[0m\n\u001b[0m\u001b[1;32m    866\u001b[0m         \u001b[0mhandles\u001b[0m\u001b[0;34m.\u001b[0m\u001b[0mappend\u001b[0m\u001b[0;34m(\u001b[0m\u001b[0mhandle\u001b[0m\u001b[0;34m)\u001b[0m\u001b[0;34m\u001b[0m\u001b[0;34m\u001b[0m\u001b[0m\n\u001b[1;32m    867\u001b[0m \u001b[0;34m\u001b[0m\u001b[0m\n",
            "\u001b[0;31mFileNotFoundError\u001b[0m: [Errno 2] No such file or directory: '/content/Sales (1).xlsx'"
          ]
        }
      ],
      "source": [
        " import pandas as pd\n",
        " import numpy as np\n",
        "\n",
        " df = pd.read_excel('/content/Sales (1).xlsx',header=None)\n",
        " df1 = pd.read_excel('/content/Sales (1).xlsx',header=None)\n",
        "\n",
        " array = df.to_numpy()\n",
        " array1 = df1.to_numpy()\n",
        "\n",
        " print(array)\n",
        " print(array1)"
      ]
    },
    {
      "cell_type": "code",
      "execution_count": null,
      "metadata": {
        "colab": {
          "base_uri": "https://localhost:8080/"
        },
        "id": "EA8ZBMoSu-Rc",
        "outputId": "5eceb903-e031-4d39-e0ca-aed9f66c468b"
      },
      "outputs": [
        {
          "name": "stdout",
          "output_type": "stream",
          "text": [
            "addition of matrix\n",
            "[['Product IDProduct ID' 'Product detailsProduct details'\n",
            "  'Supplier DetailsSupplier Details' 'Customer DetailsCustomer Details'\n",
            "  'GenderGender']\n",
            " ['P00001P00001' 'Lenovo LaptopLenovo Laptop' 'Raka Ele.Raka Ele.'\n",
            "  'Kaustubh MahajanKaustubh Mahajan' 'MaleMale']\n",
            " ['P00002P00002' 'Samsung M31Samsung M31' 'Vijay SalesVijay Sales'\n",
            "  'Siddhi KiwaleSiddhi Kiwale' 'FemaleFemale']\n",
            " ['P00003P00003' 'Realmi 10proRealmi 10pro' 'Gada Ele.Gada Ele.'\n",
            "  'Sanket KandalkarSanket Kandalkar' 'MaleMale']\n",
            " ['P00004P00004' 'Oppo F21Oppo F21' 'Surya Ele.Surya Ele.'\n",
            "  'Yash MaliYash Mali' 'MaleMale']\n",
            " ['P00005P00005' 'Lenovo LaptopLenovo Laptop' 'Raka Ele.Raka Ele.'\n",
            "  'Yash BagulYash Bagul' 'MaleMale']\n",
            " ['P00006P00006' 'Samsung M31Samsung M31' 'Gada Ele.Gada Ele.'\n",
            "  'Siddhi KiwaleSiddhi Kiwale' 'FemaleFemale']\n",
            " ['P00007P00007' 'LG TV 32\"LG TV 32\"' 'Vijay SalesVijay Sales'\n",
            "  'Sanket KandalkarSanket Kandalkar' 'MaleMale']\n",
            " ['P00008P00008' 'Oppo F21Oppo F21' 'Surya Ele.Surya Ele.'\n",
            "  'Kaustubh MahajanKaustubh Mahajan' 'MaleMale']\n",
            " ['P00009P00009' 'Lenovo LaptopLenovo Laptop' 'Raka Ele.Raka Ele.'\n",
            "  'Yash MaliYash Mali' 'MaleMale']\n",
            " ['P00010P00010' 'Samsung M31Samsung M31' 'Gada Ele.Gada Ele.'\n",
            "  'Siddhi KiwaleSiddhi Kiwale' 'FemaleFemale']\n",
            " ['P00011P00011' 'LG TV 32\"LG TV 32\"' 'Surya Ele.Surya Ele.'\n",
            "  'Sanket KandalkarSanket Kandalkar' 'MaleMale']\n",
            " ['P00012P00012' 'Lenovo LaptopLenovo Laptop' 'Raka Ele.Raka Ele.'\n",
            "  'Kaustubh MahajanKaustubh Mahajan' 'MaleMale']\n",
            " ['P00013P00013' 'Samsung M31Samsung M31' 'Surya Ele.Surya Ele.'\n",
            "  'Yash MaliYash Mali' 'MaleMale']\n",
            " ['P00014P00014' 'Realmi 10proRealmi 10pro' 'Raka Ele.Raka Ele.'\n",
            "  'Siddhi KiwaleSiddhi Kiwale' 'FemaleFemale']\n",
            " ['P00015P00015' 'Lenovo LaptopLenovo Laptop' 'Gada Ele.Gada Ele.'\n",
            "  'Tanuja MaliTanuja Mali' 'FemaleFemale']\n",
            " ['P00016P00016' 'Oppo F21Oppo F21' 'Vijay SalesVijay Sales'\n",
            "  'Kaustubh MahajanKaustubh Mahajan' 'MaleMale']\n",
            " ['P00017P00017' 'LG TV 32\"LG TV 32\"' 'Deshmukh salesDeshmukh sales'\n",
            "  'Sanket KandalkarSanket Kandalkar' 'MaleMale']\n",
            " ['P00018P00018' 'Lenovo LaptopLenovo Laptop' 'Raka Ele.Raka Ele.'\n",
            "  'Siddhi KiwaleSiddhi Kiwale' 'FemaleFemale']\n",
            " ['P00019P00019' 'Samsung M31Samsung M31' 'Deshmukh salesDeshmukh sales'\n",
            "  'Kaustubh MahajanKaustubh Mahajan' 'MaleMale']\n",
            " ['P00020P00020' 'LG TV 32\"LG TV 32\"' 'Gada Ele.Gada Ele.'\n",
            "  'Yash MaliYash Mali' 'MaleMale']]\n"
          ]
        }
      ],
      "source": [
        "print(\"addition of matrix\")\n",
        "print(np.add(array,array1))"
      ]
    },
    {
      "cell_type": "code",
      "execution_count": null,
      "metadata": {
        "colab": {
          "base_uri": "https://localhost:8080/"
        },
        "id": "Fw8BE8vnvxJr",
        "outputId": "653505f0-4fe8-44c3-d6d2-c6184702c5f0"
      },
      "outputs": [
        {
          "name": "stdout",
          "output_type": "stream",
          "text": [
            "21\n"
          ]
        }
      ],
      "source": [
        "matrix_length = len(array)\n",
        "print(matrix_length)"
      ]
    },
    {
      "cell_type": "code",
      "execution_count": null,
      "metadata": {
        "colab": {
          "base_uri": "https://localhost:8080/"
        },
        "id": "71UnByDZv-5n",
        "outputId": "26397baf-667f-48a4-f430-0248d535ca15"
      },
      "outputs": [
        {
          "name": "stdout",
          "output_type": "stream",
          "text": [
            "0\n",
            "1\n",
            "2\n",
            "3\n",
            "4\n",
            "5\n",
            "6\n",
            "7\n",
            "8\n",
            "9\n",
            "10\n",
            "11\n",
            "12\n",
            "13\n",
            "14\n",
            "15\n",
            "16\n",
            "17\n",
            "18\n",
            "19\n",
            "20\n"
          ]
        }
      ],
      "source": [
        "for i in range (matrix_length):\n",
        "  print([i][-1])"
      ]
    },
    {
      "cell_type": "code",
      "execution_count": null,
      "metadata": {
        "colab": {
          "base_uri": "https://localhost:8080/"
        },
        "id": "PAGTzMe2wTKO",
        "outputId": "616ae790-dd56-4118-878e-f021e6d087dd"
      },
      "outputs": [
        {
          "name": "stdout",
          "output_type": "stream",
          "text": [
            "[['Product ID' 'P00001' 'P00002' 'P00003' 'P00004' 'P00005' 'P00006'\n",
            "  'P00007' 'P00008' 'P00009' 'P00010' 'P00011' 'P00012' 'P00013' 'P00014'\n",
            "  'P00015' 'P00016' 'P00017' 'P00018' 'P00019' 'P00020']\n",
            " ['Product details' 'Lenovo Laptop' 'Samsung M31' 'Realmi 10pro'\n",
            "  'Oppo F21' 'Lenovo Laptop' 'Samsung M31' 'LG TV 32\"' 'Oppo F21'\n",
            "  'Lenovo Laptop' 'Samsung M31' 'LG TV 32\"' 'Lenovo Laptop' 'Samsung M31'\n",
            "  'Realmi 10pro' 'Lenovo Laptop' 'Oppo F21' 'LG TV 32\"' 'Lenovo Laptop'\n",
            "  'Samsung M31' 'LG TV 32\"']\n",
            " ['Supplier Details' 'Raka Ele.' 'Vijay Sales' 'Gada Ele.' 'Surya Ele.'\n",
            "  'Raka Ele.' 'Gada Ele.' 'Vijay Sales' 'Surya Ele.' 'Raka Ele.'\n",
            "  'Gada Ele.' 'Surya Ele.' 'Raka Ele.' 'Surya Ele.' 'Raka Ele.'\n",
            "  'Gada Ele.' 'Vijay Sales' 'Deshmukh sales' 'Raka Ele.' 'Deshmukh sales'\n",
            "  'Gada Ele.']\n",
            " ['Customer Details' 'Kaustubh Mahajan' 'Siddhi Kiwale'\n",
            "  'Sanket Kandalkar' 'Yash Mali' 'Yash Bagul' 'Siddhi Kiwale'\n",
            "  'Sanket Kandalkar' 'Kaustubh Mahajan' 'Yash Mali' 'Siddhi Kiwale'\n",
            "  'Sanket Kandalkar' 'Kaustubh Mahajan' 'Yash Mali' 'Siddhi Kiwale'\n",
            "  'Tanuja Mali' 'Kaustubh Mahajan' 'Sanket Kandalkar' 'Siddhi Kiwale'\n",
            "  'Kaustubh Mahajan' 'Yash Mali']\n",
            " ['Gender' 'Male' 'Female' 'Male' 'Male' 'Male' 'Female' 'Male' 'Male'\n",
            "  'Male' 'Female' 'Male' 'Male' 'Male' 'Female' 'Female' 'Male' 'Male'\n",
            "  'Female' 'Male' 'Male']]\n"
          ]
        }
      ],
      "source": [
        "print(array.T)"
      ]
    },
    {
      "cell_type": "code",
      "execution_count": null,
      "metadata": {
        "colab": {
          "base_uri": "https://localhost:8080/"
        },
        "id": "u6VhCf4vwnuz",
        "outputId": "fc5b616e-6ef1-430b-b34a-1815ea60bd5d"
      },
      "outputs": [
        {
          "name": "stdout",
          "output_type": "stream",
          "text": [
            "[['Customer Details' 'Gender' 'Product ID' 'Product details'\n",
            "  'Supplier Details']\n",
            " ['Kaustubh Mahajan' 'Male' 'P00001' 'Lenovo Laptop' 'Raka Ele.']\n",
            " ['Siddhi Kiwale' 'Female' 'P00002' 'Samsung M31' 'Vijay Sales']\n",
            " ['Sanket Kandalkar' 'Male' 'P00003' 'Realmi 10pro' 'Gada Ele.']\n",
            " ['Yash Mali' 'Male' 'P00004' 'Oppo F21' 'Surya Ele.']\n",
            " ['Yash Bagul' 'Male' 'P00005' 'Lenovo Laptop' 'Raka Ele.']\n",
            " ['Siddhi Kiwale' 'Female' 'P00006' 'Samsung M31' 'Gada Ele.']\n",
            " ['Sanket Kandalkar' 'Male' 'P00007' 'LG TV 32\"' 'Vijay Sales']\n",
            " ['Kaustubh Mahajan' 'Male' 'P00008' 'Oppo F21' 'Surya Ele.']\n",
            " ['Yash Mali' 'Male' 'P00009' 'Lenovo Laptop' 'Raka Ele.']\n",
            " ['Siddhi Kiwale' 'Female' 'P00010' 'Samsung M31' 'Gada Ele.']\n",
            " ['Sanket Kandalkar' 'Male' 'P00011' 'LG TV 32\"' 'Surya Ele.']\n",
            " ['Kaustubh Mahajan' 'Male' 'P00012' 'Lenovo Laptop' 'Raka Ele.']\n",
            " ['Yash Mali' 'Male' 'P00013' 'Samsung M31' 'Surya Ele.']\n",
            " ['Siddhi Kiwale' 'Female' 'P00014' 'Realmi 10pro' 'Raka Ele.']\n",
            " ['Tanuja Mali' 'Female' 'P00015' 'Lenovo Laptop' 'Gada Ele.']\n",
            " ['Kaustubh Mahajan' 'Male' 'P00016' 'Oppo F21' 'Vijay Sales']\n",
            " ['Sanket Kandalkar' 'Male' 'P00017' 'LG TV 32\"' 'Deshmukh sales']\n",
            " ['Siddhi Kiwale' 'Female' 'P00018' 'Lenovo Laptop' 'Raka Ele.']\n",
            " ['Kaustubh Mahajan' 'Male' 'P00019' 'Samsung M31' 'Deshmukh sales']\n",
            " ['Yash Mali' 'Male' 'P00020' 'LG TV 32\"' 'Gada Ele.']]\n"
          ]
        }
      ],
      "source": [
        "array = array[:,array[0,:].argsort()]\n",
        "print(array)"
      ]
    },
    {
      "cell_type": "code",
      "execution_count": null,
      "metadata": {
        "colab": {
          "base_uri": "https://localhost:8080/"
        },
        "id": "2ODZj_v-yjHR",
        "outputId": "e6eae47a-1d70-4e33-bbe2-5dfc775dda33"
      },
      "outputs": [
        {
          "name": "stdout",
          "output_type": "stream",
          "text": [
            "[['Product ID' 'Product details' 'Supplier Details' 'Customer Details'\n",
            "  'Gender']\n",
            " ['P00001' 'Lenovo Laptop' 'Raka Ele.' 'Kaustubh Mahajan' 'Male']\n",
            " ['P00002' 'Samsung M31' 'Vijay Sales' 'Siddhi Kiwale' 'Female']\n",
            " ['P00003' 'Realmi 10pro' 'Gada Ele.' 'Sanket Kandalkar' 'Male']\n",
            " ['P00004' 'Oppo F21' 'Surya Ele.' 'Yash Mali' 'Male']\n",
            " ['P00005' 'Lenovo Laptop' 'Raka Ele.' 'Yash Bagul' 'Male']\n",
            " ['P00006' 'Samsung M31' 'Gada Ele.' 'Siddhi Kiwale' 'Female']\n",
            " ['P00007' 'LG TV 32\"' 'Vijay Sales' 'Sanket Kandalkar' 'Male']\n",
            " ['P00008' 'Oppo F21' 'Surya Ele.' 'Kaustubh Mahajan' 'Male']\n",
            " ['P00009' 'Lenovo Laptop' 'Raka Ele.' 'Yash Mali' 'Male']\n",
            " ['P00010' 'Samsung M31' 'Gada Ele.' 'Siddhi Kiwale' 'Female']\n",
            " ['P00011' 'LG TV 32\"' 'Surya Ele.' 'Sanket Kandalkar' 'Male']\n",
            " ['P00012' 'Lenovo Laptop' 'Raka Ele.' 'Kaustubh Mahajan' 'Male']\n",
            " ['P00013' 'Samsung M31' 'Surya Ele.' 'Yash Mali' 'Male']\n",
            " ['P00014' 'Realmi 10pro' 'Raka Ele.' 'Siddhi Kiwale' 'Female']\n",
            " ['P00015' 'Lenovo Laptop' 'Gada Ele.' 'Tanuja Mali' 'Female']\n",
            " ['P00016' 'Oppo F21' 'Vijay Sales' 'Kaustubh Mahajan' 'Male']\n",
            " ['P00017' 'LG TV 32\"' 'Deshmukh sales' 'Sanket Kandalkar' 'Male']\n",
            " ['P00018' 'Lenovo Laptop' 'Raka Ele.' 'Siddhi Kiwale' 'Female']\n",
            " ['P00019' 'Samsung M31' 'Deshmukh sales' 'Kaustubh Mahajan' 'Male']\n",
            " ['P00020' 'LG TV 32\"' 'Gada Ele.' 'Yash Mali' 'Male']]\n"
          ]
        }
      ],
      "source": [
        "array2 = array1.copy()\n",
        "print(array2)"
      ]
    },
    {
      "cell_type": "code",
      "execution_count": null,
      "metadata": {
        "colab": {
          "base_uri": "https://localhost:8080/"
        },
        "id": "_cVZho35y1Nl",
        "outputId": "e1d6630d-9735-4755-d231-2e7c736cbf64"
      },
      "outputs": [
        {
          "name": "stdout",
          "output_type": "stream",
          "text": [
            "[['Product ID' 'Product details' 'Supplier Details' 'Customer Details'\n",
            "  'Gender']\n",
            " ['P00001' 'Lenovo Laptop' 'Raka Ele.' 'Kaustubh Mahajan' 'Male']\n",
            " ['P00002' 'Samsung M31' 'Vijay Sales' 'Siddhi Kiwale' 'Female']\n",
            " ['P00003' 'Realmi 10pro' 'Gada Ele.' 'Sanket Kandalkar' 'Male']\n",
            " ['P00004' 'Oppo F21' 'Surya Ele.' 'Yash Mali' 'Male']\n",
            " ['P00005' 'Lenovo Laptop' 'Raka Ele.' 'Yash Bagul' 'Male']\n",
            " ['P00006' 'Samsung M31' 'Gada Ele.' 'Siddhi Kiwale' 'Female']\n",
            " ['P00007' 'LG TV 32\"' 'Vijay Sales' 'Sanket Kandalkar' 'Male']\n",
            " ['P00008' 'Oppo F21' 'Surya Ele.' 'Kaustubh Mahajan' 'Male']\n",
            " ['P00009' 'Lenovo Laptop' 'Raka Ele.' 'Yash Mali' 'Male']\n",
            " ['P00010' 'Samsung M31' 'Gada Ele.' 'Siddhi Kiwale' 'Female']\n",
            " ['P00011' 'LG TV 32\"' 'Surya Ele.' 'Sanket Kandalkar' 'Male']\n",
            " ['P00012' 'Lenovo Laptop' 'Raka Ele.' 'Kaustubh Mahajan' 'Male']\n",
            " ['P00013' 'Samsung M31' 'Surya Ele.' 'Yash Mali' 'Male']\n",
            " ['P00014' 'Realmi 10pro' 'Raka Ele.' 'Siddhi Kiwale' 'Female']\n",
            " ['P00015' 'Lenovo Laptop' 'Gada Ele.' 'Tanuja Mali' 'Female']\n",
            " ['P00016' 'Oppo F21' 'Vijay Sales' 'Kaustubh Mahajan' 'Male']\n",
            " ['P00017' 'LG TV 32\"' 'Deshmukh sales' 'Sanket Kandalkar' 'Male']\n",
            " ['P00018' 'Lenovo Laptop' 'Raka Ele.' 'Siddhi Kiwale' 'Female']\n",
            " ['P00019' 'Samsung M31' 'Deshmukh sales' 'Kaustubh Mahajan' 'Male']\n",
            " ['P00020' 'LG TV 32\"' 'Gada Ele.' 'Yash Mali' 'Male']]\n"
          ]
        }
      ],
      "source": [
        "array3 = array1.view()\n",
        "print(array3)"
      ]
    },
    {
      "cell_type": "code",
      "execution_count": null,
      "metadata": {
        "colab": {
          "base_uri": "https://localhost:8080/"
        },
        "id": "gQqqwTVsyVg5",
        "outputId": "de536158-6b17-455e-d355-32767a6c3f35"
      },
      "outputs": [
        {
          "name": "stdout",
          "output_type": "stream",
          "text": [
            "You cannot buy daily needs.\n"
          ]
        }
      ],
      "source": [
        "def buy_groceries(budget, price):\n",
        "    if budget <= 500:\n",
        "        if price <= budget/3:\n",
        "            return \"You can buy all three items.\"\n",
        "        else:\n",
        "            return \"You cannot buy daily needs.\"\n",
        "    else:\n",
        "        if price <= 500/3:\n",
        "            return \"You can buy all three items.\"\n",
        "        else:\n",
        "            return \"You cannot buy daily needs.\"\n",
        "\n",
        "budget = 500\n",
        "price = 200\n",
        "\n",
        "result = buy_groceries(budget, price)\n",
        "print(result)"
      ]
    },
    {
      "cell_type": "code",
      "execution_count": null,
      "metadata": {
        "colab": {
          "base_uri": "https://localhost:8080/",
          "height": 305
        },
        "id": "oiRH2WMh29MO",
        "outputId": "4b256804-8b5f-450b-e3f1-243dfeb5b625"
      },
      "outputs": [
        {
          "name": "stdout",
          "output_type": "stream",
          "text": [
            "username=atharva\n",
            "password=1233\n",
            "INVALID PASSWORD// try again //\n",
            "Enter your daily water intake goal (in liters): \n"
          ]
        },
        {
          "ename": "ValueError",
          "evalue": "ignored",
          "output_type": "error",
          "traceback": [
            "\u001b[0;31m---------------------------------------------------------------------------\u001b[0m",
            "\u001b[0;31mValueError\u001b[0m                                Traceback (most recent call last)",
            "\u001b[0;32m<ipython-input-12-130c113f354c>\u001b[0m in \u001b[0;36m<cell line: 11>\u001b[0;34m()\u001b[0m\n\u001b[1;32m      9\u001b[0m \u001b[0;32melse\u001b[0m\u001b[0;34m:\u001b[0m\u001b[0mprint\u001b[0m\u001b[0;34m(\u001b[0m\u001b[0;34m\"INVALID PASSWORD\"\u001b[0m\u001b[0;34m+\u001b[0m\u001b[0mT\u001b[0m\u001b[0;34m)\u001b[0m\u001b[0;34m\u001b[0m\u001b[0;34m\u001b[0m\u001b[0m\n\u001b[1;32m     10\u001b[0m \u001b[0;34m\u001b[0m\u001b[0m\n\u001b[0;32m---> 11\u001b[0;31m \u001b[0mdaily_goal\u001b[0m \u001b[0;34m=\u001b[0m \u001b[0mint\u001b[0m\u001b[0;34m(\u001b[0m\u001b[0minput\u001b[0m\u001b[0;34m(\u001b[0m\u001b[0;34m\"Enter your daily water intake goal (in liters): \"\u001b[0m\u001b[0;34m)\u001b[0m\u001b[0;34m)\u001b[0m\u001b[0;34m\u001b[0m\u001b[0;34m\u001b[0m\u001b[0m\n\u001b[0m\u001b[1;32m     12\u001b[0m \u001b[0;34m\u001b[0m\u001b[0m\n\u001b[1;32m     13\u001b[0m \u001b[0mtotal_intake\u001b[0m \u001b[0;34m=\u001b[0m \u001b[0;36m0\u001b[0m\u001b[0;34m\u001b[0m\u001b[0;34m\u001b[0m\u001b[0m\n",
            "\u001b[0;31mValueError\u001b[0m: invalid literal for int() with base 10: ''"
          ]
        }
      ],
      "source": [
        "T = \"// try again //\"\n",
        "W = \"// good to see you again //\"\n",
        "name = input(\"username=\")\n",
        "password = input(\"password=\")\n",
        "if password == \"1234\":\n",
        "  if name == \"atharva\":\n",
        "    print(\"you are now logged in\"+W)\n",
        "  else:print(\"INVALID USERNAME\"+T)\n",
        "else:print(\"INVALID PASSWORD\"+T)\n",
        "\n",
        "daily_goal = int(input(\"Enter your daily water intake goal (in liters): \"))\n",
        "\n",
        "total_intake = 0\n",
        "\n",
        "while total_intake < daily_goal:\n",
        "\n",
        "    intake = int(input(\"Enter your water intake for the day (in liters): \"))\n",
        "\n",
        "    total_intake += intake\n",
        "\n",
        "    percent_complete = (total_intake / daily_goal) * 100\n",
        "\n",
        "    print(\"You have completed {0:.2f}% of your daily water intake goal.\".format(percent_complete))\n",
        "\n",
        "    if total_intake < daily_goal:\n",
        "        print(\"Don't forget to drink more water throughout the day!\")\n",
        "\n",
        "print(\"Congratulations! You have reached your daily water intake goal of {0} liters.\".format(daily_goal))\n",
        "print(\"Your total water intake for the day was {0} liters.\".format(total_intake))"
      ]
    },
    {
      "cell_type": "code",
      "execution_count": null,
      "metadata": {
        "colab": {
          "base_uri": "https://localhost:8080/",
          "height": 1000
        },
        "id": "s65-Y071d_YO",
        "outputId": "78dd5f51-59ef-4485-f2db-324bed43a0c4"
      },
      "outputs": [
        {
          "name": "stdout",
          "output_type": "stream",
          "text": [
            "    Sr No.    POLITICIAN NAMES   AGE PLACE OF BIRTH  PHONE NUMBER  \\\n",
            "0      1.0       Shubash singh  20.0          Nagar  6.963877e+09   \n",
            "1      2.0       Charan Shetty  22.0           Pune  7.547931e+09   \n",
            "2      3.0        Yogesh Reddy  34.0           Pune  8.983968e+09   \n",
            "3      4.0           Raj Patil  35.0           Pune  9.869579e+09   \n",
            "4      5.0       Shivraj Dubey  28.0             UP  9.897938e+09   \n",
            "5      6.0         Rajeev Kale  42.0           Pune  8.697671e+09   \n",
            "6      7.0       Tanmay Gaware  27.0           Pune  7.487608e+09   \n",
            "7      8.0     Atharva Dhamane  29.0       Kolhapur  6.847834e+09   \n",
            "8      9.0  Prathamesh Galande  32.0          Nagar  8.407605e+09   \n",
            "9     10.0      Samarth Shinde  36.0        Solapur  4.648710e+09   \n",
            "10    11.0       Narendra Modi  40.0         Gujrat  8.440978e+09   \n",
            "11     1.0       Udhav Thakrey  47.0          Surat  5.309808e+09   \n",
            "12    12.0       Rakesh Thorat  50.0         Satara  4.849868e+09   \n",
            "13    13.0    Suyash Choudhary  22.0           Khed  6.983761e+09   \n",
            "14    14.0     Sandeep Waghere  24.0          Thane  8.758780e+09   \n",
            "15    15.0          Deep Patil  25.0         Jaipur  5.027979e+09   \n",
            "16    16.0      Pratik Morbale  33.0           Pune  7.468977e+09   \n",
            "17    17.0        Sahil Musale  34.0          Ravet  4.587579e+09   \n",
            "18    18.0     Bupendra Pilley  44.0          Latur  5.890751e+09   \n",
            "19    19.0         Sagar Deore  24.0         Nashik  8.809689e+09   \n",
            "20    20.0  Shantanu Bhaleroao  20.0           Pune  8.069867e+09   \n",
            "21     NaN                 NaN   NaN            NaN           NaN   \n",
            "\n",
            "   MARRIED STATUS  \n",
            "0             yes  \n",
            "1              no  \n",
            "2              no  \n",
            "3              no  \n",
            "4             yes  \n",
            "5             yes  \n",
            "6              no  \n",
            "7              no  \n",
            "8              no  \n",
            "9             yes  \n",
            "10             no  \n",
            "11            yes  \n",
            "12            yes  \n",
            "13            yes  \n",
            "14             no  \n",
            "15             no  \n",
            "16           yes   \n",
            "17             no  \n",
            "18             no  \n",
            "19            yes  \n",
            "20             no  \n",
            "21            NaN  \n"
          ]
        },
        {
          "data": {
            "text/html": [
              "\n",
              "  <div id=\"df-cb22ebd0-6cab-4425-a5d6-7b5d271be8bc\">\n",
              "    <div class=\"colab-df-container\">\n",
              "      <div>\n",
              "<style scoped>\n",
              "    .dataframe tbody tr th:only-of-type {\n",
              "        vertical-align: middle;\n",
              "    }\n",
              "\n",
              "    .dataframe tbody tr th {\n",
              "        vertical-align: top;\n",
              "    }\n",
              "\n",
              "    .dataframe thead th {\n",
              "        text-align: right;\n",
              "    }\n",
              "</style>\n",
              "<table border=\"1\" class=\"dataframe\">\n",
              "  <thead>\n",
              "    <tr style=\"text-align: right;\">\n",
              "      <th></th>\n",
              "      <th>Sr No.</th>\n",
              "      <th>POLITICIAN NAMES</th>\n",
              "      <th>AGE</th>\n",
              "      <th>PLACE OF BIRTH</th>\n",
              "      <th>PHONE NUMBER</th>\n",
              "      <th>MARRIED STATUS</th>\n",
              "    </tr>\n",
              "  </thead>\n",
              "  <tbody>\n",
              "    <tr>\n",
              "      <th>12</th>\n",
              "      <td>12.0</td>\n",
              "      <td>Rakesh Thorat</td>\n",
              "      <td>50.0</td>\n",
              "      <td>Satara</td>\n",
              "      <td>4.849868e+09</td>\n",
              "      <td>yes</td>\n",
              "    </tr>\n",
              "    <tr>\n",
              "      <th>11</th>\n",
              "      <td>1.0</td>\n",
              "      <td>Udhav Thakrey</td>\n",
              "      <td>47.0</td>\n",
              "      <td>Surat</td>\n",
              "      <td>5.309808e+09</td>\n",
              "      <td>yes</td>\n",
              "    </tr>\n",
              "    <tr>\n",
              "      <th>18</th>\n",
              "      <td>18.0</td>\n",
              "      <td>Bupendra Pilley</td>\n",
              "      <td>44.0</td>\n",
              "      <td>Latur</td>\n",
              "      <td>5.890751e+09</td>\n",
              "      <td>no</td>\n",
              "    </tr>\n",
              "    <tr>\n",
              "      <th>5</th>\n",
              "      <td>6.0</td>\n",
              "      <td>Rajeev Kale</td>\n",
              "      <td>42.0</td>\n",
              "      <td>Pune</td>\n",
              "      <td>8.697671e+09</td>\n",
              "      <td>yes</td>\n",
              "    </tr>\n",
              "    <tr>\n",
              "      <th>10</th>\n",
              "      <td>11.0</td>\n",
              "      <td>Narendra Modi</td>\n",
              "      <td>40.0</td>\n",
              "      <td>Gujrat</td>\n",
              "      <td>8.440978e+09</td>\n",
              "      <td>no</td>\n",
              "    </tr>\n",
              "    <tr>\n",
              "      <th>9</th>\n",
              "      <td>10.0</td>\n",
              "      <td>Samarth Shinde</td>\n",
              "      <td>36.0</td>\n",
              "      <td>Solapur</td>\n",
              "      <td>4.648710e+09</td>\n",
              "      <td>yes</td>\n",
              "    </tr>\n",
              "    <tr>\n",
              "      <th>3</th>\n",
              "      <td>4.0</td>\n",
              "      <td>Raj Patil</td>\n",
              "      <td>35.0</td>\n",
              "      <td>Pune</td>\n",
              "      <td>9.869579e+09</td>\n",
              "      <td>no</td>\n",
              "    </tr>\n",
              "    <tr>\n",
              "      <th>2</th>\n",
              "      <td>3.0</td>\n",
              "      <td>Yogesh Reddy</td>\n",
              "      <td>34.0</td>\n",
              "      <td>Pune</td>\n",
              "      <td>8.983968e+09</td>\n",
              "      <td>no</td>\n",
              "    </tr>\n",
              "    <tr>\n",
              "      <th>17</th>\n",
              "      <td>17.0</td>\n",
              "      <td>Sahil Musale</td>\n",
              "      <td>34.0</td>\n",
              "      <td>Ravet</td>\n",
              "      <td>4.587579e+09</td>\n",
              "      <td>no</td>\n",
              "    </tr>\n",
              "    <tr>\n",
              "      <th>16</th>\n",
              "      <td>16.0</td>\n",
              "      <td>Pratik Morbale</td>\n",
              "      <td>33.0</td>\n",
              "      <td>Pune</td>\n",
              "      <td>7.468977e+09</td>\n",
              "      <td>yes</td>\n",
              "    </tr>\n",
              "    <tr>\n",
              "      <th>8</th>\n",
              "      <td>9.0</td>\n",
              "      <td>Prathamesh Galande</td>\n",
              "      <td>32.0</td>\n",
              "      <td>Nagar</td>\n",
              "      <td>8.407605e+09</td>\n",
              "      <td>no</td>\n",
              "    </tr>\n",
              "    <tr>\n",
              "      <th>7</th>\n",
              "      <td>8.0</td>\n",
              "      <td>Atharva Dhamane</td>\n",
              "      <td>29.0</td>\n",
              "      <td>Kolhapur</td>\n",
              "      <td>6.847834e+09</td>\n",
              "      <td>no</td>\n",
              "    </tr>\n",
              "    <tr>\n",
              "      <th>4</th>\n",
              "      <td>5.0</td>\n",
              "      <td>Shivraj Dubey</td>\n",
              "      <td>28.0</td>\n",
              "      <td>UP</td>\n",
              "      <td>9.897938e+09</td>\n",
              "      <td>yes</td>\n",
              "    </tr>\n",
              "    <tr>\n",
              "      <th>6</th>\n",
              "      <td>7.0</td>\n",
              "      <td>Tanmay Gaware</td>\n",
              "      <td>27.0</td>\n",
              "      <td>Pune</td>\n",
              "      <td>7.487608e+09</td>\n",
              "      <td>no</td>\n",
              "    </tr>\n",
              "    <tr>\n",
              "      <th>15</th>\n",
              "      <td>15.0</td>\n",
              "      <td>Deep Patil</td>\n",
              "      <td>25.0</td>\n",
              "      <td>Jaipur</td>\n",
              "      <td>5.027979e+09</td>\n",
              "      <td>no</td>\n",
              "    </tr>\n",
              "    <tr>\n",
              "      <th>19</th>\n",
              "      <td>19.0</td>\n",
              "      <td>Sagar Deore</td>\n",
              "      <td>24.0</td>\n",
              "      <td>Nashik</td>\n",
              "      <td>8.809689e+09</td>\n",
              "      <td>yes</td>\n",
              "    </tr>\n",
              "    <tr>\n",
              "      <th>14</th>\n",
              "      <td>14.0</td>\n",
              "      <td>Sandeep Waghere</td>\n",
              "      <td>24.0</td>\n",
              "      <td>Thane</td>\n",
              "      <td>8.758780e+09</td>\n",
              "      <td>no</td>\n",
              "    </tr>\n",
              "    <tr>\n",
              "      <th>1</th>\n",
              "      <td>2.0</td>\n",
              "      <td>Charan Shetty</td>\n",
              "      <td>22.0</td>\n",
              "      <td>Pune</td>\n",
              "      <td>7.547931e+09</td>\n",
              "      <td>no</td>\n",
              "    </tr>\n",
              "    <tr>\n",
              "      <th>13</th>\n",
              "      <td>13.0</td>\n",
              "      <td>Suyash Choudhary</td>\n",
              "      <td>22.0</td>\n",
              "      <td>Khed</td>\n",
              "      <td>6.983761e+09</td>\n",
              "      <td>yes</td>\n",
              "    </tr>\n",
              "    <tr>\n",
              "      <th>0</th>\n",
              "      <td>1.0</td>\n",
              "      <td>Shubash singh</td>\n",
              "      <td>20.0</td>\n",
              "      <td>Nagar</td>\n",
              "      <td>6.963877e+09</td>\n",
              "      <td>yes</td>\n",
              "    </tr>\n",
              "    <tr>\n",
              "      <th>20</th>\n",
              "      <td>20.0</td>\n",
              "      <td>Shantanu Bhaleroao</td>\n",
              "      <td>20.0</td>\n",
              "      <td>Pune</td>\n",
              "      <td>8.069867e+09</td>\n",
              "      <td>no</td>\n",
              "    </tr>\n",
              "    <tr>\n",
              "      <th>21</th>\n",
              "      <td>NaN</td>\n",
              "      <td>NaN</td>\n",
              "      <td>NaN</td>\n",
              "      <td>NaN</td>\n",
              "      <td>NaN</td>\n",
              "      <td>NaN</td>\n",
              "    </tr>\n",
              "  </tbody>\n",
              "</table>\n",
              "</div>\n",
              "      <button class=\"colab-df-convert\" onclick=\"convertToInteractive('df-cb22ebd0-6cab-4425-a5d6-7b5d271be8bc')\"\n",
              "              title=\"Convert this dataframe to an interactive table.\"\n",
              "              style=\"display:none;\">\n",
              "        \n",
              "  <svg xmlns=\"http://www.w3.org/2000/svg\" height=\"24px\"viewBox=\"0 0 24 24\"\n",
              "       width=\"24px\">\n",
              "    <path d=\"M0 0h24v24H0V0z\" fill=\"none\"/>\n",
              "    <path d=\"M18.56 5.44l.94 2.06.94-2.06 2.06-.94-2.06-.94-.94-2.06-.94 2.06-2.06.94zm-11 1L8.5 8.5l.94-2.06 2.06-.94-2.06-.94L8.5 2.5l-.94 2.06-2.06.94zm10 10l.94 2.06.94-2.06 2.06-.94-2.06-.94-.94-2.06-.94 2.06-2.06.94z\"/><path d=\"M17.41 7.96l-1.37-1.37c-.4-.4-.92-.59-1.43-.59-.52 0-1.04.2-1.43.59L10.3 9.45l-7.72 7.72c-.78.78-.78 2.05 0 2.83L4 21.41c.39.39.9.59 1.41.59.51 0 1.02-.2 1.41-.59l7.78-7.78 2.81-2.81c.8-.78.8-2.07 0-2.86zM5.41 20L4 18.59l7.72-7.72 1.47 1.35L5.41 20z\"/>\n",
              "  </svg>\n",
              "      </button>\n",
              "      \n",
              "  <style>\n",
              "    .colab-df-container {\n",
              "      display:flex;\n",
              "      flex-wrap:wrap;\n",
              "      gap: 12px;\n",
              "    }\n",
              "\n",
              "    .colab-df-convert {\n",
              "      background-color: #E8F0FE;\n",
              "      border: none;\n",
              "      border-radius: 50%;\n",
              "      cursor: pointer;\n",
              "      display: none;\n",
              "      fill: #1967D2;\n",
              "      height: 32px;\n",
              "      padding: 0 0 0 0;\n",
              "      width: 32px;\n",
              "    }\n",
              "\n",
              "    .colab-df-convert:hover {\n",
              "      background-color: #E2EBFA;\n",
              "      box-shadow: 0px 1px 2px rgba(60, 64, 67, 0.3), 0px 1px 3px 1px rgba(60, 64, 67, 0.15);\n",
              "      fill: #174EA6;\n",
              "    }\n",
              "\n",
              "    [theme=dark] .colab-df-convert {\n",
              "      background-color: #3B4455;\n",
              "      fill: #D2E3FC;\n",
              "    }\n",
              "\n",
              "    [theme=dark] .colab-df-convert:hover {\n",
              "      background-color: #434B5C;\n",
              "      box-shadow: 0px 1px 3px 1px rgba(0, 0, 0, 0.15);\n",
              "      filter: drop-shadow(0px 1px 2px rgba(0, 0, 0, 0.3));\n",
              "      fill: #FFFFFF;\n",
              "    }\n",
              "  </style>\n",
              "\n",
              "      <script>\n",
              "        const buttonEl =\n",
              "          document.querySelector('#df-cb22ebd0-6cab-4425-a5d6-7b5d271be8bc button.colab-df-convert');\n",
              "        buttonEl.style.display =\n",
              "          google.colab.kernel.accessAllowed ? 'block' : 'none';\n",
              "\n",
              "        async function convertToInteractive(key) {\n",
              "          const element = document.querySelector('#df-cb22ebd0-6cab-4425-a5d6-7b5d271be8bc');\n",
              "          const dataTable =\n",
              "            await google.colab.kernel.invokeFunction('convertToInteractive',\n",
              "                                                     [key], {});\n",
              "          if (!dataTable) return;\n",
              "\n",
              "          const docLinkHtml = 'Like what you see? Visit the ' +\n",
              "            '<a target=\"_blank\" href=https://colab.research.google.com/notebooks/data_table.ipynb>data table notebook</a>'\n",
              "            + ' to learn more about interactive tables.';\n",
              "          element.innerHTML = '';\n",
              "          dataTable['output_type'] = 'display_data';\n",
              "          await google.colab.output.renderOutput(dataTable, element);\n",
              "          const docLink = document.createElement('div');\n",
              "          docLink.innerHTML = docLinkHtml;\n",
              "          element.appendChild(docLink);\n",
              "        }\n",
              "      </script>\n",
              "    </div>\n",
              "  </div>\n",
              "  "
            ],
            "text/plain": [
              "    Sr No.    POLITICIAN NAMES   AGE PLACE OF BIRTH  PHONE NUMBER  \\\n",
              "12    12.0       Rakesh Thorat  50.0         Satara  4.849868e+09   \n",
              "11     1.0       Udhav Thakrey  47.0          Surat  5.309808e+09   \n",
              "18    18.0     Bupendra Pilley  44.0          Latur  5.890751e+09   \n",
              "5      6.0         Rajeev Kale  42.0           Pune  8.697671e+09   \n",
              "10    11.0       Narendra Modi  40.0         Gujrat  8.440978e+09   \n",
              "9     10.0      Samarth Shinde  36.0        Solapur  4.648710e+09   \n",
              "3      4.0           Raj Patil  35.0           Pune  9.869579e+09   \n",
              "2      3.0        Yogesh Reddy  34.0           Pune  8.983968e+09   \n",
              "17    17.0        Sahil Musale  34.0          Ravet  4.587579e+09   \n",
              "16    16.0      Pratik Morbale  33.0           Pune  7.468977e+09   \n",
              "8      9.0  Prathamesh Galande  32.0          Nagar  8.407605e+09   \n",
              "7      8.0     Atharva Dhamane  29.0       Kolhapur  6.847834e+09   \n",
              "4      5.0       Shivraj Dubey  28.0             UP  9.897938e+09   \n",
              "6      7.0       Tanmay Gaware  27.0           Pune  7.487608e+09   \n",
              "15    15.0          Deep Patil  25.0         Jaipur  5.027979e+09   \n",
              "19    19.0         Sagar Deore  24.0         Nashik  8.809689e+09   \n",
              "14    14.0     Sandeep Waghere  24.0          Thane  8.758780e+09   \n",
              "1      2.0       Charan Shetty  22.0           Pune  7.547931e+09   \n",
              "13    13.0    Suyash Choudhary  22.0           Khed  6.983761e+09   \n",
              "0      1.0       Shubash singh  20.0          Nagar  6.963877e+09   \n",
              "20    20.0  Shantanu Bhaleroao  20.0           Pune  8.069867e+09   \n",
              "21     NaN                 NaN   NaN            NaN           NaN   \n",
              "\n",
              "   MARRIED STATUS  \n",
              "12            yes  \n",
              "11            yes  \n",
              "18             no  \n",
              "5             yes  \n",
              "10             no  \n",
              "9             yes  \n",
              "3              no  \n",
              "2              no  \n",
              "17             no  \n",
              "16           yes   \n",
              "8              no  \n",
              "7              no  \n",
              "4             yes  \n",
              "6              no  \n",
              "15             no  \n",
              "19            yes  \n",
              "14             no  \n",
              "1              no  \n",
              "13            yes  \n",
              "0             yes  \n",
              "20             no  \n",
              "21            NaN  "
            ]
          },
          "execution_count": 9,
          "metadata": {},
          "output_type": "execute_result"
        }
      ],
      "source": [
        "#Atharva Dhamane\n",
        "#112 PRN- 202201090001\n",
        "#A-1\n",
        "\n",
        "# FETCH DETAILS\n",
        "df = pd.read_csv('/content/Book1.csv')\n",
        "print(df)\n",
        "\n",
        "# DISPLAY DATA INASCENDING ORDER WITH RESPECT TO AGE\n",
        "df.sort_values(by=['AGE'],ascending=False)"
      ]
    },
    {
      "cell_type": "code",
      "execution_count": null,
      "metadata": {
        "colab": {
          "base_uri": "https://localhost:8080/"
        },
        "id": "RnwaS5pvnTtk",
        "outputId": "8f2fbc13-f316-449c-8f89-e73816f5bae7"
      },
      "outputs": [
        {
          "name": "stdout",
          "output_type": "stream",
          "text": [
            "[['Sr No.' 'POLITICIAN NAMES' 'AGE' 'PLACE OF BIRTH' 'PHONE NUMBER'\n",
            "  'MARRIED STATUS']\n",
            " ['1' 'Shubash singh' '20' 'Nagar' '6963876784' 'yes']\n",
            " ['2' 'Charan Shetty' '22' 'Pune' '7547930967' 'no']\n",
            " ['3' 'Yogesh Reddy' '34' 'Pune' '8983968088' 'no']\n",
            " ['4' 'Raj Patil' '35' 'Pune' '9869578695' 'no']\n",
            " ['5' 'Shivraj Dubey' '28' 'UP' '9897937853' 'yes']\n",
            " ['6' 'Rajeev Kale' '42' 'Pune' '8697670709' 'yes']\n",
            " ['7' 'Tanmay Gaware' '27' 'Pune' '7487607889' 'no']\n",
            " ['8' 'Atharva Dhamane' '29' 'Kolhapur' '6847834070' 'no']\n",
            " ['9' 'Prathamesh Galande' '32' 'Nagar' '8407604790' 'no']\n",
            " ['10' 'Samarth Shinde' '36' 'Solapur' '4648709898' 'yes']\n",
            " ['11' 'Narendra Modi' '40' 'Gujrat' '8440978457' 'no']\n",
            " ['1' 'Udhav Thakrey' '47' 'Surat' '5309808087' 'yes']\n",
            " ['12' 'Rakesh Thorat' '50' 'Satara' '4849867897' 'yes']\n",
            " ['13' 'Suyash Choudhary' '22' 'Khed' '6983760789' 'yes']\n",
            " ['14' 'Sandeep Waghere' '24' 'Thane' '8758779754' 'no']\n",
            " ['15' 'Deep Patil' '25' 'Jaipur' '5027978954' 'no']\n",
            " ['16' 'Pratik Morbale' '33' 'Pune' '7468976989' 'yes ']\n",
            " ['17' 'Sahil Musale' '34' 'Ravet' '4587578798' 'no']\n",
            " ['18' 'Bupendra Pilley' '44' 'Latur' '5890750794' 'no']\n",
            " ['19' 'Sagar Deore' '24' 'Nashik' '8809689478' 'yes']\n",
            " ['20' 'Shantanu Bhaleroao' '20' 'Pune' '8069867438' 'no']\n",
            " [nan nan nan nan nan nan]]\n"
          ]
        }
      ],
      "source": [
        "#CONVERT TO ARRAY\n",
        "import pandas as pd\n",
        "import numpy as np\n",
        "\n",
        "df1 = pd.read_csv('/content/Book1.csv',header=None)\n",
        "\n",
        "array = df1.to_numpy()\n",
        "\n",
        "print(array)"
      ]
    },
    {
      "cell_type": "code",
      "execution_count": null,
      "metadata": {
        "colab": {
          "base_uri": "https://localhost:8080/"
        },
        "id": "h5gynvEtrgQs",
        "outputId": "0a0ecc8d-81db-4da3-b22c-22ed287ef157"
      },
      "outputs": [
        {
          "name": "stdout",
          "output_type": "stream",
          "text": [
            "23\n"
          ]
        }
      ],
      "source": [
        "matrix_length = len(array)\n",
        "print(matrix_length)"
      ]
    },
    {
      "cell_type": "code",
      "execution_count": null,
      "metadata": {
        "colab": {
          "base_uri": "https://localhost:8080/"
        },
        "id": "zhvp5BOvrsFt",
        "outputId": "c05cad2e-cc1a-4f51-ce99-e1c9fb9de054"
      },
      "outputs": [
        {
          "name": "stdout",
          "output_type": "stream",
          "text": [
            "0\n",
            "1\n",
            "2\n",
            "3\n",
            "4\n",
            "5\n",
            "6\n",
            "7\n",
            "8\n",
            "9\n",
            "10\n",
            "11\n",
            "12\n",
            "13\n",
            "14\n",
            "15\n",
            "16\n",
            "17\n",
            "18\n",
            "19\n",
            "20\n",
            "21\n",
            "22\n"
          ]
        }
      ],
      "source": [
        "for i in range (matrix_length):\n",
        "  print([i][-1])"
      ]
    },
    {
      "cell_type": "code",
      "execution_count": null,
      "metadata": {
        "colab": {
          "base_uri": "https://localhost:8080/"
        },
        "id": "-f9cpKA9r5ue",
        "outputId": "744f548c-52f0-48d0-c455-68428a8fa739"
      },
      "outputs": [
        {
          "name": "stdout",
          "output_type": "stream",
          "text": [
            "[['Sr No.' '1' '2' '3' '4' '5' '6' '7' '8' '9' '10' '11' '1' '12' '13'\n",
            "  '14' '15' '16' '17' '18' '19' '20' nan]\n",
            " ['POLITICIAN NAMES' 'Shubash singh' 'Charan Shetty' 'Yogesh Reddy'\n",
            "  'Raj Patil' 'Shivraj Dubey' 'Rajeev Kale' 'Tanmay Gaware'\n",
            "  'Atharva Dhamane' 'Prathamesh Galande' 'Samarth Shinde' 'Narendra Modi'\n",
            "  'Udhav Thakrey' 'Rakesh Thorat' 'Suyash Choudhary' 'Sandeep Waghere'\n",
            "  'Deep Patil' 'Pratik Morbale' 'Sahil Musale' 'Bupendra Pilley'\n",
            "  'Sagar Deore' 'Shantanu Bhaleroao' nan]\n",
            " ['AGE' '20' '22' '34' '35' '28' '42' '27' '29' '32' '36' '40' '47' '50'\n",
            "  '22' '24' '25' '33' '34' '44' '24' '20' nan]\n",
            " ['PLACE OF BIRTH' 'Nagar' 'Pune' 'Pune' 'Pune' 'UP' 'Pune' 'Pune'\n",
            "  'Kolhapur' 'Nagar' 'Solapur' 'Gujrat' 'Surat' 'Satara' 'Khed' 'Thane'\n",
            "  'Jaipur' 'Pune' 'Ravet' 'Latur' 'Nashik' 'Pune' nan]\n",
            " ['PHONE NUMBER' '6963876784' '7547930967' '8983968088' '9869578695'\n",
            "  '9897937853' '8697670709' '7487607889' '6847834070' '8407604790'\n",
            "  '4648709898' '8440978457' '5309808087' '4849867897' '6983760789'\n",
            "  '8758779754' '5027978954' '7468976989' '4587578798' '5890750794'\n",
            "  '8809689478' '8069867438' nan]\n",
            " ['MARRIED STATUS' 'yes' 'no' 'no' 'no' 'yes' 'yes' 'no' 'no' 'no' 'yes'\n",
            "  'no' 'yes' 'yes' 'yes' 'no' 'no' 'yes ' 'no' 'no' 'yes' 'no' nan]]\n"
          ]
        }
      ],
      "source": [
        "print(array.T)"
      ]
    },
    {
      "cell_type": "code",
      "execution_count": null,
      "metadata": {
        "colab": {
          "base_uri": "https://localhost:8080/",
          "height": 183
        },
        "id": "spdI5DTPr70N",
        "outputId": "3848d033-c4b8-45d9-e538-3528a8b386a7"
      },
      "outputs": [
        {
          "ename": "NameError",
          "evalue": "ignored",
          "output_type": "error",
          "traceback": [
            "\u001b[0;31m---------------------------------------------------------------------------\u001b[0m",
            "\u001b[0;31mNameError\u001b[0m                                 Traceback (most recent call last)",
            "\u001b[0;32m<ipython-input-1-28a669e7683a>\u001b[0m in \u001b[0;36m<cell line: 1>\u001b[0;34m()\u001b[0m\n\u001b[0;32m----> 1\u001b[0;31m \u001b[0marray\u001b[0m \u001b[0;34m=\u001b[0m \u001b[0marray\u001b[0m\u001b[0;34m[\u001b[0m\u001b[0;34m:\u001b[0m\u001b[0;34m,\u001b[0m\u001b[0marray\u001b[0m\u001b[0;34m[\u001b[0m\u001b[0;36m0\u001b[0m\u001b[0;34m,\u001b[0m\u001b[0;34m:\u001b[0m\u001b[0;34m]\u001b[0m\u001b[0;34m.\u001b[0m\u001b[0margsort\u001b[0m\u001b[0;34m(\u001b[0m\u001b[0;34m)\u001b[0m\u001b[0;34m]\u001b[0m\u001b[0;34m\u001b[0m\u001b[0;34m\u001b[0m\u001b[0m\n\u001b[0m\u001b[1;32m      2\u001b[0m \u001b[0mprint\u001b[0m\u001b[0;34m(\u001b[0m\u001b[0marray\u001b[0m\u001b[0;34m)\u001b[0m\u001b[0;34m\u001b[0m\u001b[0;34m\u001b[0m\u001b[0m\n",
            "\u001b[0;31mNameError\u001b[0m: name 'array' is not defined"
          ]
        }
      ],
      "source": [
        "array = array[:,array[0,:].argsort()]\n",
        "print(array)"
      ]
    },
    {
      "cell_type": "code",
      "execution_count": null,
      "metadata": {
        "colab": {
          "base_uri": "https://localhost:8080/"
        },
        "id": "hR1xH7o50iiT",
        "outputId": "9949ad27-f7bd-4303-bb5e-d4b4605560a4"
      },
      "outputs": [
        {
          "name": "stdout",
          "output_type": "stream",
          "text": [
            "   SR NO. NAME TYPE OF SWIMMER  AGE  EXPERIENCE(YEARS)\n",
            "0       1   AA       Freestyle   17                  2\n",
            "1       2   BB      Backstroke   14                  3\n",
            "2       3   CC         Gliding   15                  4\n",
            "3       4   DD      Sidestroke   18                  6\n",
            "4       5   EE       Butterfly   19                  5\n",
            "5       6   FF      Individual   11                  1\n",
            "6       7   GG      Dolfinkick   12                  1\n",
            "7       8   HH  Treading water   13                  2\n",
            "8       9   II      Elementary   16                  3\n",
            "9      10   JJ    Professional   20                  7\n"
          ]
        }
      ],
      "source": [
        "import pandas as pd\n",
        "df = pd.read_csv('/content/Hobby.csv')\n",
        "b = pd.DataFrame(df)\n",
        "print(b)"
      ]
    },
    {
      "cell_type": "code",
      "execution_count": null,
      "metadata": {
        "colab": {
          "base_uri": "https://localhost:8080/"
        },
        "id": "Ur7Qm_8v1XDs",
        "outputId": "20adb291-e6d3-4fa5-fe17-43c62b1e2838"
      },
      "outputs": [
        {
          "name": "stdout",
          "output_type": "stream",
          "text": [
            "0         Freestyle\n",
            "1        Backstroke\n",
            "2           Gliding\n",
            "3        Sidestroke\n",
            "4         Butterfly\n",
            "5        Individual\n",
            "6        Dolfinkick\n",
            "7    Treading water\n",
            "8        Elementary\n",
            "9      Professional\n",
            "Name: TYPE OF SWIMMER, dtype: object\n"
          ]
        }
      ],
      "source": [
        "a = df['TYPE OF SWIMMER']\n",
        "print(a)"
      ]
    },
    {
      "cell_type": "code",
      "execution_count": null,
      "metadata": {
        "colab": {
          "base_uri": "https://localhost:8080/"
        },
        "id": "e86dbm8B1qWm",
        "outputId": "900d4e03-b16f-4a58-d9d0-46814a63a1c0"
      },
      "outputs": [
        {
          "name": "stdout",
          "output_type": "stream",
          "text": [
            "  NAME  AGE\n",
            "0   AA   17\n",
            "1   BB   14\n",
            "2   CC   15\n",
            "3   DD   18\n",
            "4   EE   19\n",
            "5   FF   11\n",
            "6   GG   12\n",
            "7   HH   13\n",
            "8   II   16\n",
            "9   JJ   20\n",
            "['SR NO.', 'NAME', 'TYPE OF SWIMMER', 'AGE', 'EXPERIENCE(YEARS)']\n"
          ]
        }
      ],
      "source": [
        "print(b[['NAME','AGE']])\n",
        "g = df.columns.tolist()\n",
        "print(g)"
      ]
    },
    {
      "cell_type": "code",
      "execution_count": null,
      "metadata": {
        "colab": {
          "base_uri": "https://localhost:8080/"
        },
        "id": "in4D3yLy2BzI",
        "outputId": "367dd1d3-a75d-473b-8a67-b1d00ffcb967"
      },
      "outputs": [
        {
          "name": "stdout",
          "output_type": "stream",
          "text": [
            "AA    1\n",
            "BB    1\n",
            "CC    1\n",
            "DD    1\n",
            "EE    1\n",
            "FF    1\n",
            "GG    1\n",
            "HH    1\n",
            "II    1\n",
            "JJ    1\n",
            "Name: NAME, dtype: int64\n"
          ]
        }
      ],
      "source": [
        "z = df['NAME'].value_counts()\n",
        "print(z)"
      ]
    },
    {
      "cell_type": "code",
      "execution_count": null,
      "metadata": {
        "colab": {
          "base_uri": "https://localhost:8080/"
        },
        "id": "m9_P5YN92c63",
        "outputId": "3c017f64-9177-4141-abc7-9f7fc93e9e95"
      },
      "outputs": [
        {
          "name": "stdout",
          "output_type": "stream",
          "text": [
            "1\n"
          ]
        }
      ],
      "source": [
        "x = df['SR NO.'].value_counts()[1]\n",
        "print(x)"
      ]
    },
    {
      "cell_type": "code",
      "execution_count": null,
      "metadata": {
        "colab": {
          "base_uri": "https://localhost:8080/"
        },
        "id": "Eoj5prv_29ny",
        "outputId": "7d3f013d-b0d8-48ea-a77b-f9b39e0d06f7"
      },
      "outputs": [
        {
          "name": "stdout",
          "output_type": "stream",
          "text": [
            "   SR NO. NAME TYPE OF SWIMMER  AGE  EXPERIENCE(YEARS)\n",
            "5       6   FF      Individual   11                  1\n",
            "6       7   GG      Dolfinkick   12                  1\n",
            "0       1   AA       Freestyle   17                  2\n",
            "7       8   HH  Treading water   13                  2\n",
            "1       2   BB      Backstroke   14                  3\n",
            "8       9   II      Elementary   16                  3\n",
            "2       3   CC         Gliding   15                  4\n",
            "4       5   EE       Butterfly   19                  5\n",
            "3       4   DD      Sidestroke   18                  6\n",
            "9      10   JJ    Professional   20                  7\n"
          ]
        }
      ],
      "source": [
        "s = df.sort_values(by = 'EXPERIENCE(YEARS)',ascending=True)\n",
        "print(s)"
      ]
    },
    {
      "cell_type": "code",
      "execution_count": null,
      "metadata": {
        "colab": {
          "base_uri": "https://localhost:8080/",
          "height": 709
        },
        "id": "gYmWBZjx5DZM",
        "outputId": "2f4ab8bd-3229-408a-836e-91855012d42a"
      },
      "outputs": [
        {
          "data": {
            "text/html": [
              "\n",
              "  <div id=\"df-5cd60a06-eb32-4bb9-9905-a2d8f6606cbe\">\n",
              "    <div class=\"colab-df-container\">\n",
              "      <div>\n",
              "<style scoped>\n",
              "    .dataframe tbody tr th:only-of-type {\n",
              "        vertical-align: middle;\n",
              "    }\n",
              "\n",
              "    .dataframe tbody tr th {\n",
              "        vertical-align: top;\n",
              "    }\n",
              "\n",
              "    .dataframe thead th {\n",
              "        text-align: right;\n",
              "    }\n",
              "</style>\n",
              "<table border=\"1\" class=\"dataframe\">\n",
              "  <thead>\n",
              "    <tr style=\"text-align: right;\">\n",
              "      <th></th>\n",
              "      <th>SR NO.</th>\n",
              "      <th>NAME</th>\n",
              "      <th>TYPE OF SWIMMER</th>\n",
              "      <th>AGE</th>\n",
              "      <th>EXPERIENCE(YEARS)</th>\n",
              "    </tr>\n",
              "  </thead>\n",
              "  <tbody>\n",
              "    <tr>\n",
              "      <th>0</th>\n",
              "      <td>1</td>\n",
              "      <td>AA</td>\n",
              "      <td>Freestyle</td>\n",
              "      <td>17</td>\n",
              "      <td>2</td>\n",
              "    </tr>\n",
              "    <tr>\n",
              "      <th>1</th>\n",
              "      <td>2</td>\n",
              "      <td>BB</td>\n",
              "      <td>Backstroke</td>\n",
              "      <td>14</td>\n",
              "      <td>3</td>\n",
              "    </tr>\n",
              "    <tr>\n",
              "      <th>2</th>\n",
              "      <td>3</td>\n",
              "      <td>CC</td>\n",
              "      <td>Gliding</td>\n",
              "      <td>15</td>\n",
              "      <td>4</td>\n",
              "    </tr>\n",
              "    <tr>\n",
              "      <th>3</th>\n",
              "      <td>4</td>\n",
              "      <td>DD</td>\n",
              "      <td>Sidestroke</td>\n",
              "      <td>18</td>\n",
              "      <td>6</td>\n",
              "    </tr>\n",
              "    <tr>\n",
              "      <th>4</th>\n",
              "      <td>5</td>\n",
              "      <td>EE</td>\n",
              "      <td>Butterfly</td>\n",
              "      <td>19</td>\n",
              "      <td>5</td>\n",
              "    </tr>\n",
              "    <tr>\n",
              "      <th>5</th>\n",
              "      <td>6</td>\n",
              "      <td>FF</td>\n",
              "      <td>Individual</td>\n",
              "      <td>11</td>\n",
              "      <td>1</td>\n",
              "    </tr>\n",
              "    <tr>\n",
              "      <th>6</th>\n",
              "      <td>7</td>\n",
              "      <td>GG</td>\n",
              "      <td>Dolfinkick</td>\n",
              "      <td>12</td>\n",
              "      <td>1</td>\n",
              "    </tr>\n",
              "    <tr>\n",
              "      <th>7</th>\n",
              "      <td>8</td>\n",
              "      <td>HH</td>\n",
              "      <td>Treading water</td>\n",
              "      <td>13</td>\n",
              "      <td>2</td>\n",
              "    </tr>\n",
              "    <tr>\n",
              "      <th>8</th>\n",
              "      <td>9</td>\n",
              "      <td>II</td>\n",
              "      <td>Elementary</td>\n",
              "      <td>16</td>\n",
              "      <td>3</td>\n",
              "    </tr>\n",
              "    <tr>\n",
              "      <th>9</th>\n",
              "      <td>10</td>\n",
              "      <td>JJ</td>\n",
              "      <td>Professional</td>\n",
              "      <td>20</td>\n",
              "      <td>7</td>\n",
              "    </tr>\n",
              "  </tbody>\n",
              "</table>\n",
              "</div>\n",
              "      <button class=\"colab-df-convert\" onclick=\"convertToInteractive('df-5cd60a06-eb32-4bb9-9905-a2d8f6606cbe')\"\n",
              "              title=\"Convert this dataframe to an interactive table.\"\n",
              "              style=\"display:none;\">\n",
              "        \n",
              "  <svg xmlns=\"http://www.w3.org/2000/svg\" height=\"24px\"viewBox=\"0 0 24 24\"\n",
              "       width=\"24px\">\n",
              "    <path d=\"M0 0h24v24H0V0z\" fill=\"none\"/>\n",
              "    <path d=\"M18.56 5.44l.94 2.06.94-2.06 2.06-.94-2.06-.94-.94-2.06-.94 2.06-2.06.94zm-11 1L8.5 8.5l.94-2.06 2.06-.94-2.06-.94L8.5 2.5l-.94 2.06-2.06.94zm10 10l.94 2.06.94-2.06 2.06-.94-2.06-.94-.94-2.06-.94 2.06-2.06.94z\"/><path d=\"M17.41 7.96l-1.37-1.37c-.4-.4-.92-.59-1.43-.59-.52 0-1.04.2-1.43.59L10.3 9.45l-7.72 7.72c-.78.78-.78 2.05 0 2.83L4 21.41c.39.39.9.59 1.41.59.51 0 1.02-.2 1.41-.59l7.78-7.78 2.81-2.81c.8-.78.8-2.07 0-2.86zM5.41 20L4 18.59l7.72-7.72 1.47 1.35L5.41 20z\"/>\n",
              "  </svg>\n",
              "      </button>\n",
              "      \n",
              "  <style>\n",
              "    .colab-df-container {\n",
              "      display:flex;\n",
              "      flex-wrap:wrap;\n",
              "      gap: 12px;\n",
              "    }\n",
              "\n",
              "    .colab-df-convert {\n",
              "      background-color: #E8F0FE;\n",
              "      border: none;\n",
              "      border-radius: 50%;\n",
              "      cursor: pointer;\n",
              "      display: none;\n",
              "      fill: #1967D2;\n",
              "      height: 32px;\n",
              "      padding: 0 0 0 0;\n",
              "      width: 32px;\n",
              "    }\n",
              "\n",
              "    .colab-df-convert:hover {\n",
              "      background-color: #E2EBFA;\n",
              "      box-shadow: 0px 1px 2px rgba(60, 64, 67, 0.3), 0px 1px 3px 1px rgba(60, 64, 67, 0.15);\n",
              "      fill: #174EA6;\n",
              "    }\n",
              "\n",
              "    [theme=dark] .colab-df-convert {\n",
              "      background-color: #3B4455;\n",
              "      fill: #D2E3FC;\n",
              "    }\n",
              "\n",
              "    [theme=dark] .colab-df-convert:hover {\n",
              "      background-color: #434B5C;\n",
              "      box-shadow: 0px 1px 3px 1px rgba(0, 0, 0, 0.15);\n",
              "      filter: drop-shadow(0px 1px 2px rgba(0, 0, 0, 0.3));\n",
              "      fill: #FFFFFF;\n",
              "    }\n",
              "  </style>\n",
              "\n",
              "      <script>\n",
              "        const buttonEl =\n",
              "          document.querySelector('#df-5cd60a06-eb32-4bb9-9905-a2d8f6606cbe button.colab-df-convert');\n",
              "        buttonEl.style.display =\n",
              "          google.colab.kernel.accessAllowed ? 'block' : 'none';\n",
              "\n",
              "        async function convertToInteractive(key) {\n",
              "          const element = document.querySelector('#df-5cd60a06-eb32-4bb9-9905-a2d8f6606cbe');\n",
              "          const dataTable =\n",
              "            await google.colab.kernel.invokeFunction('convertToInteractive',\n",
              "                                                     [key], {});\n",
              "          if (!dataTable) return;\n",
              "\n",
              "          const docLinkHtml = 'Like what you see? Visit the ' +\n",
              "            '<a target=\"_blank\" href=https://colab.research.google.com/notebooks/data_table.ipynb>data table notebook</a>'\n",
              "            + ' to learn more about interactive tables.';\n",
              "          element.innerHTML = '';\n",
              "          dataTable['output_type'] = 'display_data';\n",
              "          await google.colab.output.renderOutput(dataTable, element);\n",
              "          const docLink = document.createElement('div');\n",
              "          docLink.innerHTML = docLinkHtml;\n",
              "          element.appendChild(docLink);\n",
              "        }\n",
              "      </script>\n",
              "    </div>\n",
              "  </div>\n",
              "  "
            ],
            "text/plain": [
              "   SR NO. NAME TYPE OF SWIMMER  AGE  EXPERIENCE(YEARS)\n",
              "0       1   AA       Freestyle   17                  2\n",
              "1       2   BB      Backstroke   14                  3\n",
              "2       3   CC         Gliding   15                  4\n",
              "3       4   DD      Sidestroke   18                  6\n",
              "4       5   EE       Butterfly   19                  5\n",
              "5       6   FF      Individual   11                  1\n",
              "6       7   GG      Dolfinkick   12                  1\n",
              "7       8   HH  Treading water   13                  2\n",
              "8       9   II      Elementary   16                  3\n",
              "9      10   JJ    Professional   20                  7"
            ]
          },
          "metadata": {},
          "output_type": "display_data"
        },
        {
          "data": {
            "text/html": [
              "\n",
              "  <div id=\"df-dbe01296-d453-4bed-a941-b63f706c2c81\">\n",
              "    <div class=\"colab-df-container\">\n",
              "      <div>\n",
              "<style scoped>\n",
              "    .dataframe tbody tr th:only-of-type {\n",
              "        vertical-align: middle;\n",
              "    }\n",
              "\n",
              "    .dataframe tbody tr th {\n",
              "        vertical-align: top;\n",
              "    }\n",
              "\n",
              "    .dataframe thead th {\n",
              "        text-align: right;\n",
              "    }\n",
              "</style>\n",
              "<table border=\"1\" class=\"dataframe\">\n",
              "  <thead>\n",
              "    <tr style=\"text-align: right;\">\n",
              "      <th></th>\n",
              "      <th>SR NO</th>\n",
              "      <th>NAME</th>\n",
              "      <th>PHONE NO.</th>\n",
              "    </tr>\n",
              "  </thead>\n",
              "  <tbody>\n",
              "    <tr>\n",
              "      <th>0</th>\n",
              "      <td>1</td>\n",
              "      <td>AA</td>\n",
              "      <td>8673847096</td>\n",
              "    </tr>\n",
              "    <tr>\n",
              "      <th>1</th>\n",
              "      <td>2</td>\n",
              "      <td>BB</td>\n",
              "      <td>7039709309</td>\n",
              "    </tr>\n",
              "    <tr>\n",
              "      <th>2</th>\n",
              "      <td>3</td>\n",
              "      <td>CC</td>\n",
              "      <td>8474876094</td>\n",
              "    </tr>\n",
              "    <tr>\n",
              "      <th>3</th>\n",
              "      <td>4</td>\n",
              "      <td>DD</td>\n",
              "      <td>9679868656</td>\n",
              "    </tr>\n",
              "    <tr>\n",
              "      <th>4</th>\n",
              "      <td>5</td>\n",
              "      <td>EE</td>\n",
              "      <td>3885993797</td>\n",
              "    </tr>\n",
              "    <tr>\n",
              "      <th>5</th>\n",
              "      <td>6</td>\n",
              "      <td>FF</td>\n",
              "      <td>4598656987</td>\n",
              "    </tr>\n",
              "    <tr>\n",
              "      <th>6</th>\n",
              "      <td>7</td>\n",
              "      <td>GG</td>\n",
              "      <td>3984637473</td>\n",
              "    </tr>\n",
              "    <tr>\n",
              "      <th>7</th>\n",
              "      <td>8</td>\n",
              "      <td>HH</td>\n",
              "      <td>6487259764</td>\n",
              "    </tr>\n",
              "    <tr>\n",
              "      <th>8</th>\n",
              "      <td>9</td>\n",
              "      <td>II</td>\n",
              "      <td>7468764984</td>\n",
              "    </tr>\n",
              "    <tr>\n",
              "      <th>9</th>\n",
              "      <td>10</td>\n",
              "      <td>JJ</td>\n",
              "      <td>7584372974</td>\n",
              "    </tr>\n",
              "  </tbody>\n",
              "</table>\n",
              "</div>\n",
              "      <button class=\"colab-df-convert\" onclick=\"convertToInteractive('df-dbe01296-d453-4bed-a941-b63f706c2c81')\"\n",
              "              title=\"Convert this dataframe to an interactive table.\"\n",
              "              style=\"display:none;\">\n",
              "        \n",
              "  <svg xmlns=\"http://www.w3.org/2000/svg\" height=\"24px\"viewBox=\"0 0 24 24\"\n",
              "       width=\"24px\">\n",
              "    <path d=\"M0 0h24v24H0V0z\" fill=\"none\"/>\n",
              "    <path d=\"M18.56 5.44l.94 2.06.94-2.06 2.06-.94-2.06-.94-.94-2.06-.94 2.06-2.06.94zm-11 1L8.5 8.5l.94-2.06 2.06-.94-2.06-.94L8.5 2.5l-.94 2.06-2.06.94zm10 10l.94 2.06.94-2.06 2.06-.94-2.06-.94-.94-2.06-.94 2.06-2.06.94z\"/><path d=\"M17.41 7.96l-1.37-1.37c-.4-.4-.92-.59-1.43-.59-.52 0-1.04.2-1.43.59L10.3 9.45l-7.72 7.72c-.78.78-.78 2.05 0 2.83L4 21.41c.39.39.9.59 1.41.59.51 0 1.02-.2 1.41-.59l7.78-7.78 2.81-2.81c.8-.78.8-2.07 0-2.86zM5.41 20L4 18.59l7.72-7.72 1.47 1.35L5.41 20z\"/>\n",
              "  </svg>\n",
              "      </button>\n",
              "      \n",
              "  <style>\n",
              "    .colab-df-container {\n",
              "      display:flex;\n",
              "      flex-wrap:wrap;\n",
              "      gap: 12px;\n",
              "    }\n",
              "\n",
              "    .colab-df-convert {\n",
              "      background-color: #E8F0FE;\n",
              "      border: none;\n",
              "      border-radius: 50%;\n",
              "      cursor: pointer;\n",
              "      display: none;\n",
              "      fill: #1967D2;\n",
              "      height: 32px;\n",
              "      padding: 0 0 0 0;\n",
              "      width: 32px;\n",
              "    }\n",
              "\n",
              "    .colab-df-convert:hover {\n",
              "      background-color: #E2EBFA;\n",
              "      box-shadow: 0px 1px 2px rgba(60, 64, 67, 0.3), 0px 1px 3px 1px rgba(60, 64, 67, 0.15);\n",
              "      fill: #174EA6;\n",
              "    }\n",
              "\n",
              "    [theme=dark] .colab-df-convert {\n",
              "      background-color: #3B4455;\n",
              "      fill: #D2E3FC;\n",
              "    }\n",
              "\n",
              "    [theme=dark] .colab-df-convert:hover {\n",
              "      background-color: #434B5C;\n",
              "      box-shadow: 0px 1px 3px 1px rgba(0, 0, 0, 0.15);\n",
              "      filter: drop-shadow(0px 1px 2px rgba(0, 0, 0, 0.3));\n",
              "      fill: #FFFFFF;\n",
              "    }\n",
              "  </style>\n",
              "\n",
              "      <script>\n",
              "        const buttonEl =\n",
              "          document.querySelector('#df-dbe01296-d453-4bed-a941-b63f706c2c81 button.colab-df-convert');\n",
              "        buttonEl.style.display =\n",
              "          google.colab.kernel.accessAllowed ? 'block' : 'none';\n",
              "\n",
              "        async function convertToInteractive(key) {\n",
              "          const element = document.querySelector('#df-dbe01296-d453-4bed-a941-b63f706c2c81');\n",
              "          const dataTable =\n",
              "            await google.colab.kernel.invokeFunction('convertToInteractive',\n",
              "                                                     [key], {});\n",
              "          if (!dataTable) return;\n",
              "\n",
              "          const docLinkHtml = 'Like what you see? Visit the ' +\n",
              "            '<a target=\"_blank\" href=https://colab.research.google.com/notebooks/data_table.ipynb>data table notebook</a>'\n",
              "            + ' to learn more about interactive tables.';\n",
              "          element.innerHTML = '';\n",
              "          dataTable['output_type'] = 'display_data';\n",
              "          await google.colab.output.renderOutput(dataTable, element);\n",
              "          const docLink = document.createElement('div');\n",
              "          docLink.innerHTML = docLinkHtml;\n",
              "          element.appendChild(docLink);\n",
              "        }\n",
              "      </script>\n",
              "    </div>\n",
              "  </div>\n",
              "  "
            ],
            "text/plain": [
              "   SR NO NAME   PHONE NO.\n",
              "0      1   AA  8673847096\n",
              "1      2   BB  7039709309\n",
              "2      3   CC  8474876094\n",
              "3      4   DD  9679868656\n",
              "4      5   EE  3885993797\n",
              "5      6   FF  4598656987\n",
              "6      7   GG  3984637473\n",
              "7      8   HH  6487259764\n",
              "8      9   II  7468764984\n",
              "9     10   JJ  7584372974"
            ]
          },
          "metadata": {},
          "output_type": "display_data"
        }
      ],
      "source": [
        "import pandas as pd\n",
        "df = pd.read_csv('/content/Hobby.csv')\n",
        "display(df)\n",
        "df1 = pd.read_csv('/content/Hobby2.csv')\n",
        "display(df1)"
      ]
    },
    {
      "cell_type": "code",
      "execution_count": null,
      "metadata": {
        "colab": {
          "base_uri": "https://localhost:8080/"
        },
        "id": "OvLWSmME7onl",
        "outputId": "30a3d3d2-0b4a-42f5-bf6c-77f6f774d52c"
      },
      "outputs": [
        {
          "name": "stdout",
          "output_type": "stream",
          "text": [
            "[[1, 'AA', 8673847096], [2, 'BB', 7039709309], [3, 'CC', 8474876094], [4, 'DD', 9679868656], [5, 'EE', 3885993797], [6, 'FF', 4598656987], [7, 'GG', 3984637473], [8, 'HH', 6487259764], [9, 'II', 7468764984], [10, 'JJ', 7584372974]]\n"
          ]
        }
      ],
      "source": [
        "import pandas as pd\n",
        "df = pd.read_csv('/content/Hobby2.csv')\n",
        "print(df.values.tolist())"
      ]
    },
    {
      "cell_type": "code",
      "execution_count": null,
      "metadata": {
        "colab": {
          "base_uri": "https://localhost:8080/",
          "height": 363
        },
        "id": "Y0A26MvL5Wsk",
        "outputId": "41e47d45-a156-4c0a-ecbd-c9efff54f584"
      },
      "outputs": [
        {
          "data": {
            "text/html": [
              "\n",
              "  <div id=\"df-a942d45f-9e37-4d8b-b341-85eeb0e4af96\">\n",
              "    <div class=\"colab-df-container\">\n",
              "      <div>\n",
              "<style scoped>\n",
              "    .dataframe tbody tr th:only-of-type {\n",
              "        vertical-align: middle;\n",
              "    }\n",
              "\n",
              "    .dataframe tbody tr th {\n",
              "        vertical-align: top;\n",
              "    }\n",
              "\n",
              "    .dataframe thead th {\n",
              "        text-align: right;\n",
              "    }\n",
              "</style>\n",
              "<table border=\"1\" class=\"dataframe\">\n",
              "  <thead>\n",
              "    <tr style=\"text-align: right;\">\n",
              "      <th></th>\n",
              "      <th>SR NO.</th>\n",
              "      <th>NAME</th>\n",
              "      <th>TYPE OF SWIMMER</th>\n",
              "      <th>AGE</th>\n",
              "      <th>EXPERIENCE(YEARS)</th>\n",
              "      <th>SR NO</th>\n",
              "      <th>PHONE NO.</th>\n",
              "    </tr>\n",
              "  </thead>\n",
              "  <tbody>\n",
              "    <tr>\n",
              "      <th>0</th>\n",
              "      <td>1</td>\n",
              "      <td>AA</td>\n",
              "      <td>Freestyle</td>\n",
              "      <td>17</td>\n",
              "      <td>2</td>\n",
              "      <td>1</td>\n",
              "      <td>8673847096</td>\n",
              "    </tr>\n",
              "    <tr>\n",
              "      <th>1</th>\n",
              "      <td>2</td>\n",
              "      <td>BB</td>\n",
              "      <td>Backstroke</td>\n",
              "      <td>14</td>\n",
              "      <td>3</td>\n",
              "      <td>2</td>\n",
              "      <td>7039709309</td>\n",
              "    </tr>\n",
              "    <tr>\n",
              "      <th>2</th>\n",
              "      <td>3</td>\n",
              "      <td>CC</td>\n",
              "      <td>Gliding</td>\n",
              "      <td>15</td>\n",
              "      <td>4</td>\n",
              "      <td>3</td>\n",
              "      <td>8474876094</td>\n",
              "    </tr>\n",
              "    <tr>\n",
              "      <th>3</th>\n",
              "      <td>4</td>\n",
              "      <td>DD</td>\n",
              "      <td>Sidestroke</td>\n",
              "      <td>18</td>\n",
              "      <td>6</td>\n",
              "      <td>4</td>\n",
              "      <td>9679868656</td>\n",
              "    </tr>\n",
              "    <tr>\n",
              "      <th>4</th>\n",
              "      <td>5</td>\n",
              "      <td>EE</td>\n",
              "      <td>Butterfly</td>\n",
              "      <td>19</td>\n",
              "      <td>5</td>\n",
              "      <td>5</td>\n",
              "      <td>3885993797</td>\n",
              "    </tr>\n",
              "    <tr>\n",
              "      <th>5</th>\n",
              "      <td>6</td>\n",
              "      <td>FF</td>\n",
              "      <td>Individual</td>\n",
              "      <td>11</td>\n",
              "      <td>1</td>\n",
              "      <td>6</td>\n",
              "      <td>4598656987</td>\n",
              "    </tr>\n",
              "    <tr>\n",
              "      <th>6</th>\n",
              "      <td>7</td>\n",
              "      <td>GG</td>\n",
              "      <td>Dolfinkick</td>\n",
              "      <td>12</td>\n",
              "      <td>1</td>\n",
              "      <td>7</td>\n",
              "      <td>3984637473</td>\n",
              "    </tr>\n",
              "    <tr>\n",
              "      <th>7</th>\n",
              "      <td>8</td>\n",
              "      <td>HH</td>\n",
              "      <td>Treading water</td>\n",
              "      <td>13</td>\n",
              "      <td>2</td>\n",
              "      <td>8</td>\n",
              "      <td>6487259764</td>\n",
              "    </tr>\n",
              "    <tr>\n",
              "      <th>8</th>\n",
              "      <td>9</td>\n",
              "      <td>II</td>\n",
              "      <td>Elementary</td>\n",
              "      <td>16</td>\n",
              "      <td>3</td>\n",
              "      <td>9</td>\n",
              "      <td>7468764984</td>\n",
              "    </tr>\n",
              "    <tr>\n",
              "      <th>9</th>\n",
              "      <td>10</td>\n",
              "      <td>JJ</td>\n",
              "      <td>Professional</td>\n",
              "      <td>20</td>\n",
              "      <td>7</td>\n",
              "      <td>10</td>\n",
              "      <td>7584372974</td>\n",
              "    </tr>\n",
              "  </tbody>\n",
              "</table>\n",
              "</div>\n",
              "      <button class=\"colab-df-convert\" onclick=\"convertToInteractive('df-a942d45f-9e37-4d8b-b341-85eeb0e4af96')\"\n",
              "              title=\"Convert this dataframe to an interactive table.\"\n",
              "              style=\"display:none;\">\n",
              "        \n",
              "  <svg xmlns=\"http://www.w3.org/2000/svg\" height=\"24px\"viewBox=\"0 0 24 24\"\n",
              "       width=\"24px\">\n",
              "    <path d=\"M0 0h24v24H0V0z\" fill=\"none\"/>\n",
              "    <path d=\"M18.56 5.44l.94 2.06.94-2.06 2.06-.94-2.06-.94-.94-2.06-.94 2.06-2.06.94zm-11 1L8.5 8.5l.94-2.06 2.06-.94-2.06-.94L8.5 2.5l-.94 2.06-2.06.94zm10 10l.94 2.06.94-2.06 2.06-.94-2.06-.94-.94-2.06-.94 2.06-2.06.94z\"/><path d=\"M17.41 7.96l-1.37-1.37c-.4-.4-.92-.59-1.43-.59-.52 0-1.04.2-1.43.59L10.3 9.45l-7.72 7.72c-.78.78-.78 2.05 0 2.83L4 21.41c.39.39.9.59 1.41.59.51 0 1.02-.2 1.41-.59l7.78-7.78 2.81-2.81c.8-.78.8-2.07 0-2.86zM5.41 20L4 18.59l7.72-7.72 1.47 1.35L5.41 20z\"/>\n",
              "  </svg>\n",
              "      </button>\n",
              "      \n",
              "  <style>\n",
              "    .colab-df-container {\n",
              "      display:flex;\n",
              "      flex-wrap:wrap;\n",
              "      gap: 12px;\n",
              "    }\n",
              "\n",
              "    .colab-df-convert {\n",
              "      background-color: #E8F0FE;\n",
              "      border: none;\n",
              "      border-radius: 50%;\n",
              "      cursor: pointer;\n",
              "      display: none;\n",
              "      fill: #1967D2;\n",
              "      height: 32px;\n",
              "      padding: 0 0 0 0;\n",
              "      width: 32px;\n",
              "    }\n",
              "\n",
              "    .colab-df-convert:hover {\n",
              "      background-color: #E2EBFA;\n",
              "      box-shadow: 0px 1px 2px rgba(60, 64, 67, 0.3), 0px 1px 3px 1px rgba(60, 64, 67, 0.15);\n",
              "      fill: #174EA6;\n",
              "    }\n",
              "\n",
              "    [theme=dark] .colab-df-convert {\n",
              "      background-color: #3B4455;\n",
              "      fill: #D2E3FC;\n",
              "    }\n",
              "\n",
              "    [theme=dark] .colab-df-convert:hover {\n",
              "      background-color: #434B5C;\n",
              "      box-shadow: 0px 1px 3px 1px rgba(0, 0, 0, 0.15);\n",
              "      filter: drop-shadow(0px 1px 2px rgba(0, 0, 0, 0.3));\n",
              "      fill: #FFFFFF;\n",
              "    }\n",
              "  </style>\n",
              "\n",
              "      <script>\n",
              "        const buttonEl =\n",
              "          document.querySelector('#df-a942d45f-9e37-4d8b-b341-85eeb0e4af96 button.colab-df-convert');\n",
              "        buttonEl.style.display =\n",
              "          google.colab.kernel.accessAllowed ? 'block' : 'none';\n",
              "\n",
              "        async function convertToInteractive(key) {\n",
              "          const element = document.querySelector('#df-a942d45f-9e37-4d8b-b341-85eeb0e4af96');\n",
              "          const dataTable =\n",
              "            await google.colab.kernel.invokeFunction('convertToInteractive',\n",
              "                                                     [key], {});\n",
              "          if (!dataTable) return;\n",
              "\n",
              "          const docLinkHtml = 'Like what you see? Visit the ' +\n",
              "            '<a target=\"_blank\" href=https://colab.research.google.com/notebooks/data_table.ipynb>data table notebook</a>'\n",
              "            + ' to learn more about interactive tables.';\n",
              "          element.innerHTML = '';\n",
              "          dataTable['output_type'] = 'display_data';\n",
              "          await google.colab.output.renderOutput(dataTable, element);\n",
              "          const docLink = document.createElement('div');\n",
              "          docLink.innerHTML = docLinkHtml;\n",
              "          element.appendChild(docLink);\n",
              "        }\n",
              "      </script>\n",
              "    </div>\n",
              "  </div>\n",
              "  "
            ],
            "text/plain": [
              "   SR NO. NAME TYPE OF SWIMMER  AGE  EXPERIENCE(YEARS)  SR NO   PHONE NO.\n",
              "0       1   AA       Freestyle   17                  2      1  8673847096\n",
              "1       2   BB      Backstroke   14                  3      2  7039709309\n",
              "2       3   CC         Gliding   15                  4      3  8474876094\n",
              "3       4   DD      Sidestroke   18                  6      4  9679868656\n",
              "4       5   EE       Butterfly   19                  5      5  3885993797\n",
              "5       6   FF      Individual   11                  1      6  4598656987\n",
              "6       7   GG      Dolfinkick   12                  1      7  3984637473\n",
              "7       8   HH  Treading water   13                  2      8  6487259764\n",
              "8       9   II      Elementary   16                  3      9  7468764984\n",
              "9      10   JJ    Professional   20                  7     10  7584372974"
            ]
          },
          "metadata": {},
          "output_type": "display_data"
        }
      ],
      "source": [
        "df3 = pd.merge(df,df1)\n",
        "display(df3)"
      ]
    },
    {
      "cell_type": "code",
      "execution_count": null,
      "metadata": {
        "colab": {
          "base_uri": "https://localhost:8080/",
          "height": 363
        },
        "id": "xRmhPFdk6PB6",
        "outputId": "c88c680c-da9b-4666-fd73-868ec569eade"
      },
      "outputs": [
        {
          "data": {
            "text/html": [
              "\n",
              "  <div id=\"df-2c0d7c68-2aa2-49d9-9526-039f40075650\">\n",
              "    <div class=\"colab-df-container\">\n",
              "      <div>\n",
              "<style scoped>\n",
              "    .dataframe tbody tr th:only-of-type {\n",
              "        vertical-align: middle;\n",
              "    }\n",
              "\n",
              "    .dataframe tbody tr th {\n",
              "        vertical-align: top;\n",
              "    }\n",
              "\n",
              "    .dataframe thead th {\n",
              "        text-align: right;\n",
              "    }\n",
              "</style>\n",
              "<table border=\"1\" class=\"dataframe\">\n",
              "  <thead>\n",
              "    <tr style=\"text-align: right;\">\n",
              "      <th></th>\n",
              "      <th>SR NO</th>\n",
              "      <th>NAME</th>\n",
              "      <th>PHONE NO.</th>\n",
              "    </tr>\n",
              "  </thead>\n",
              "  <tbody>\n",
              "    <tr>\n",
              "      <th>4</th>\n",
              "      <td>5</td>\n",
              "      <td>EE</td>\n",
              "      <td>3885993797</td>\n",
              "    </tr>\n",
              "    <tr>\n",
              "      <th>6</th>\n",
              "      <td>7</td>\n",
              "      <td>GG</td>\n",
              "      <td>3984637473</td>\n",
              "    </tr>\n",
              "    <tr>\n",
              "      <th>5</th>\n",
              "      <td>6</td>\n",
              "      <td>FF</td>\n",
              "      <td>4598656987</td>\n",
              "    </tr>\n",
              "    <tr>\n",
              "      <th>7</th>\n",
              "      <td>8</td>\n",
              "      <td>HH</td>\n",
              "      <td>6487259764</td>\n",
              "    </tr>\n",
              "    <tr>\n",
              "      <th>1</th>\n",
              "      <td>2</td>\n",
              "      <td>BB</td>\n",
              "      <td>7039709309</td>\n",
              "    </tr>\n",
              "    <tr>\n",
              "      <th>8</th>\n",
              "      <td>9</td>\n",
              "      <td>II</td>\n",
              "      <td>7468764984</td>\n",
              "    </tr>\n",
              "    <tr>\n",
              "      <th>9</th>\n",
              "      <td>10</td>\n",
              "      <td>JJ</td>\n",
              "      <td>7584372974</td>\n",
              "    </tr>\n",
              "    <tr>\n",
              "      <th>2</th>\n",
              "      <td>3</td>\n",
              "      <td>CC</td>\n",
              "      <td>8474876094</td>\n",
              "    </tr>\n",
              "    <tr>\n",
              "      <th>0</th>\n",
              "      <td>1</td>\n",
              "      <td>AA</td>\n",
              "      <td>8673847096</td>\n",
              "    </tr>\n",
              "    <tr>\n",
              "      <th>3</th>\n",
              "      <td>4</td>\n",
              "      <td>DD</td>\n",
              "      <td>9679868656</td>\n",
              "    </tr>\n",
              "  </tbody>\n",
              "</table>\n",
              "</div>\n",
              "      <button class=\"colab-df-convert\" onclick=\"convertToInteractive('df-2c0d7c68-2aa2-49d9-9526-039f40075650')\"\n",
              "              title=\"Convert this dataframe to an interactive table.\"\n",
              "              style=\"display:none;\">\n",
              "        \n",
              "  <svg xmlns=\"http://www.w3.org/2000/svg\" height=\"24px\"viewBox=\"0 0 24 24\"\n",
              "       width=\"24px\">\n",
              "    <path d=\"M0 0h24v24H0V0z\" fill=\"none\"/>\n",
              "    <path d=\"M18.56 5.44l.94 2.06.94-2.06 2.06-.94-2.06-.94-.94-2.06-.94 2.06-2.06.94zm-11 1L8.5 8.5l.94-2.06 2.06-.94-2.06-.94L8.5 2.5l-.94 2.06-2.06.94zm10 10l.94 2.06.94-2.06 2.06-.94-2.06-.94-.94-2.06-.94 2.06-2.06.94z\"/><path d=\"M17.41 7.96l-1.37-1.37c-.4-.4-.92-.59-1.43-.59-.52 0-1.04.2-1.43.59L10.3 9.45l-7.72 7.72c-.78.78-.78 2.05 0 2.83L4 21.41c.39.39.9.59 1.41.59.51 0 1.02-.2 1.41-.59l7.78-7.78 2.81-2.81c.8-.78.8-2.07 0-2.86zM5.41 20L4 18.59l7.72-7.72 1.47 1.35L5.41 20z\"/>\n",
              "  </svg>\n",
              "      </button>\n",
              "      \n",
              "  <style>\n",
              "    .colab-df-container {\n",
              "      display:flex;\n",
              "      flex-wrap:wrap;\n",
              "      gap: 12px;\n",
              "    }\n",
              "\n",
              "    .colab-df-convert {\n",
              "      background-color: #E8F0FE;\n",
              "      border: none;\n",
              "      border-radius: 50%;\n",
              "      cursor: pointer;\n",
              "      display: none;\n",
              "      fill: #1967D2;\n",
              "      height: 32px;\n",
              "      padding: 0 0 0 0;\n",
              "      width: 32px;\n",
              "    }\n",
              "\n",
              "    .colab-df-convert:hover {\n",
              "      background-color: #E2EBFA;\n",
              "      box-shadow: 0px 1px 2px rgba(60, 64, 67, 0.3), 0px 1px 3px 1px rgba(60, 64, 67, 0.15);\n",
              "      fill: #174EA6;\n",
              "    }\n",
              "\n",
              "    [theme=dark] .colab-df-convert {\n",
              "      background-color: #3B4455;\n",
              "      fill: #D2E3FC;\n",
              "    }\n",
              "\n",
              "    [theme=dark] .colab-df-convert:hover {\n",
              "      background-color: #434B5C;\n",
              "      box-shadow: 0px 1px 3px 1px rgba(0, 0, 0, 0.15);\n",
              "      filter: drop-shadow(0px 1px 2px rgba(0, 0, 0, 0.3));\n",
              "      fill: #FFFFFF;\n",
              "    }\n",
              "  </style>\n",
              "\n",
              "      <script>\n",
              "        const buttonEl =\n",
              "          document.querySelector('#df-2c0d7c68-2aa2-49d9-9526-039f40075650 button.colab-df-convert');\n",
              "        buttonEl.style.display =\n",
              "          google.colab.kernel.accessAllowed ? 'block' : 'none';\n",
              "\n",
              "        async function convertToInteractive(key) {\n",
              "          const element = document.querySelector('#df-2c0d7c68-2aa2-49d9-9526-039f40075650');\n",
              "          const dataTable =\n",
              "            await google.colab.kernel.invokeFunction('convertToInteractive',\n",
              "                                                     [key], {});\n",
              "          if (!dataTable) return;\n",
              "\n",
              "          const docLinkHtml = 'Like what you see? Visit the ' +\n",
              "            '<a target=\"_blank\" href=https://colab.research.google.com/notebooks/data_table.ipynb>data table notebook</a>'\n",
              "            + ' to learn more about interactive tables.';\n",
              "          element.innerHTML = '';\n",
              "          dataTable['output_type'] = 'display_data';\n",
              "          await google.colab.output.renderOutput(dataTable, element);\n",
              "          const docLink = document.createElement('div');\n",
              "          docLink.innerHTML = docLinkHtml;\n",
              "          element.appendChild(docLink);\n",
              "        }\n",
              "      </script>\n",
              "    </div>\n",
              "  </div>\n",
              "  "
            ],
            "text/plain": [
              "   SR NO NAME   PHONE NO.\n",
              "4      5   EE  3885993797\n",
              "6      7   GG  3984637473\n",
              "5      6   FF  4598656987\n",
              "7      8   HH  6487259764\n",
              "1      2   BB  7039709309\n",
              "8      9   II  7468764984\n",
              "9     10   JJ  7584372974\n",
              "2      3   CC  8474876094\n",
              "0      1   AA  8673847096\n",
              "3      4   DD  9679868656"
            ]
          },
          "execution_count": 14,
          "metadata": {},
          "output_type": "execute_result"
        }
      ],
      "source": [
        "df1.sort_values(by=['PHONE NO.'])"
      ]
    },
    {
      "cell_type": "code",
      "execution_count": null,
      "metadata": {
        "colab": {
          "base_uri": "https://localhost:8080/",
          "height": 363
        },
        "id": "icM7c2N17NGN",
        "outputId": "83a5235c-34cd-4bb3-b097-16f06a324738"
      },
      "outputs": [
        {
          "data": {
            "text/html": [
              "\n",
              "  <div id=\"df-7d60fbae-640a-4f95-accb-e626573122b2\">\n",
              "    <div class=\"colab-df-container\">\n",
              "      <div>\n",
              "<style scoped>\n",
              "    .dataframe tbody tr th:only-of-type {\n",
              "        vertical-align: middle;\n",
              "    }\n",
              "\n",
              "    .dataframe tbody tr th {\n",
              "        vertical-align: top;\n",
              "    }\n",
              "\n",
              "    .dataframe thead th {\n",
              "        text-align: right;\n",
              "    }\n",
              "</style>\n",
              "<table border=\"1\" class=\"dataframe\">\n",
              "  <thead>\n",
              "    <tr style=\"text-align: right;\">\n",
              "      <th></th>\n",
              "      <th>SR NO</th>\n",
              "      <th>NAME</th>\n",
              "      <th>PHONE NO.</th>\n",
              "    </tr>\n",
              "  </thead>\n",
              "  <tbody>\n",
              "    <tr>\n",
              "      <th>3</th>\n",
              "      <td>4</td>\n",
              "      <td>DD</td>\n",
              "      <td>9679868656</td>\n",
              "    </tr>\n",
              "    <tr>\n",
              "      <th>0</th>\n",
              "      <td>1</td>\n",
              "      <td>AA</td>\n",
              "      <td>8673847096</td>\n",
              "    </tr>\n",
              "    <tr>\n",
              "      <th>2</th>\n",
              "      <td>3</td>\n",
              "      <td>CC</td>\n",
              "      <td>8474876094</td>\n",
              "    </tr>\n",
              "    <tr>\n",
              "      <th>9</th>\n",
              "      <td>10</td>\n",
              "      <td>JJ</td>\n",
              "      <td>7584372974</td>\n",
              "    </tr>\n",
              "    <tr>\n",
              "      <th>8</th>\n",
              "      <td>9</td>\n",
              "      <td>II</td>\n",
              "      <td>7468764984</td>\n",
              "    </tr>\n",
              "    <tr>\n",
              "      <th>1</th>\n",
              "      <td>2</td>\n",
              "      <td>BB</td>\n",
              "      <td>7039709309</td>\n",
              "    </tr>\n",
              "    <tr>\n",
              "      <th>7</th>\n",
              "      <td>8</td>\n",
              "      <td>HH</td>\n",
              "      <td>6487259764</td>\n",
              "    </tr>\n",
              "    <tr>\n",
              "      <th>5</th>\n",
              "      <td>6</td>\n",
              "      <td>FF</td>\n",
              "      <td>4598656987</td>\n",
              "    </tr>\n",
              "    <tr>\n",
              "      <th>6</th>\n",
              "      <td>7</td>\n",
              "      <td>GG</td>\n",
              "      <td>3984637473</td>\n",
              "    </tr>\n",
              "    <tr>\n",
              "      <th>4</th>\n",
              "      <td>5</td>\n",
              "      <td>EE</td>\n",
              "      <td>3885993797</td>\n",
              "    </tr>\n",
              "  </tbody>\n",
              "</table>\n",
              "</div>\n",
              "      <button class=\"colab-df-convert\" onclick=\"convertToInteractive('df-7d60fbae-640a-4f95-accb-e626573122b2')\"\n",
              "              title=\"Convert this dataframe to an interactive table.\"\n",
              "              style=\"display:none;\">\n",
              "        \n",
              "  <svg xmlns=\"http://www.w3.org/2000/svg\" height=\"24px\"viewBox=\"0 0 24 24\"\n",
              "       width=\"24px\">\n",
              "    <path d=\"M0 0h24v24H0V0z\" fill=\"none\"/>\n",
              "    <path d=\"M18.56 5.44l.94 2.06.94-2.06 2.06-.94-2.06-.94-.94-2.06-.94 2.06-2.06.94zm-11 1L8.5 8.5l.94-2.06 2.06-.94-2.06-.94L8.5 2.5l-.94 2.06-2.06.94zm10 10l.94 2.06.94-2.06 2.06-.94-2.06-.94-.94-2.06-.94 2.06-2.06.94z\"/><path d=\"M17.41 7.96l-1.37-1.37c-.4-.4-.92-.59-1.43-.59-.52 0-1.04.2-1.43.59L10.3 9.45l-7.72 7.72c-.78.78-.78 2.05 0 2.83L4 21.41c.39.39.9.59 1.41.59.51 0 1.02-.2 1.41-.59l7.78-7.78 2.81-2.81c.8-.78.8-2.07 0-2.86zM5.41 20L4 18.59l7.72-7.72 1.47 1.35L5.41 20z\"/>\n",
              "  </svg>\n",
              "      </button>\n",
              "      \n",
              "  <style>\n",
              "    .colab-df-container {\n",
              "      display:flex;\n",
              "      flex-wrap:wrap;\n",
              "      gap: 12px;\n",
              "    }\n",
              "\n",
              "    .colab-df-convert {\n",
              "      background-color: #E8F0FE;\n",
              "      border: none;\n",
              "      border-radius: 50%;\n",
              "      cursor: pointer;\n",
              "      display: none;\n",
              "      fill: #1967D2;\n",
              "      height: 32px;\n",
              "      padding: 0 0 0 0;\n",
              "      width: 32px;\n",
              "    }\n",
              "\n",
              "    .colab-df-convert:hover {\n",
              "      background-color: #E2EBFA;\n",
              "      box-shadow: 0px 1px 2px rgba(60, 64, 67, 0.3), 0px 1px 3px 1px rgba(60, 64, 67, 0.15);\n",
              "      fill: #174EA6;\n",
              "    }\n",
              "\n",
              "    [theme=dark] .colab-df-convert {\n",
              "      background-color: #3B4455;\n",
              "      fill: #D2E3FC;\n",
              "    }\n",
              "\n",
              "    [theme=dark] .colab-df-convert:hover {\n",
              "      background-color: #434B5C;\n",
              "      box-shadow: 0px 1px 3px 1px rgba(0, 0, 0, 0.15);\n",
              "      filter: drop-shadow(0px 1px 2px rgba(0, 0, 0, 0.3));\n",
              "      fill: #FFFFFF;\n",
              "    }\n",
              "  </style>\n",
              "\n",
              "      <script>\n",
              "        const buttonEl =\n",
              "          document.querySelector('#df-7d60fbae-640a-4f95-accb-e626573122b2 button.colab-df-convert');\n",
              "        buttonEl.style.display =\n",
              "          google.colab.kernel.accessAllowed ? 'block' : 'none';\n",
              "\n",
              "        async function convertToInteractive(key) {\n",
              "          const element = document.querySelector('#df-7d60fbae-640a-4f95-accb-e626573122b2');\n",
              "          const dataTable =\n",
              "            await google.colab.kernel.invokeFunction('convertToInteractive',\n",
              "                                                     [key], {});\n",
              "          if (!dataTable) return;\n",
              "\n",
              "          const docLinkHtml = 'Like what you see? Visit the ' +\n",
              "            '<a target=\"_blank\" href=https://colab.research.google.com/notebooks/data_table.ipynb>data table notebook</a>'\n",
              "            + ' to learn more about interactive tables.';\n",
              "          element.innerHTML = '';\n",
              "          dataTable['output_type'] = 'display_data';\n",
              "          await google.colab.output.renderOutput(dataTable, element);\n",
              "          const docLink = document.createElement('div');\n",
              "          docLink.innerHTML = docLinkHtml;\n",
              "          element.appendChild(docLink);\n",
              "        }\n",
              "      </script>\n",
              "    </div>\n",
              "  </div>\n",
              "  "
            ],
            "text/plain": [
              "   SR NO NAME   PHONE NO.\n",
              "3      4   DD  9679868656\n",
              "0      1   AA  8673847096\n",
              "2      3   CC  8474876094\n",
              "9     10   JJ  7584372974\n",
              "8      9   II  7468764984\n",
              "1      2   BB  7039709309\n",
              "7      8   HH  6487259764\n",
              "5      6   FF  4598656987\n",
              "6      7   GG  3984637473\n",
              "4      5   EE  3885993797"
            ]
          },
          "execution_count": 16,
          "metadata": {},
          "output_type": "execute_result"
        }
      ],
      "source": [
        "df1.sort_values(by=['PHONE NO.'],ascending=False)"
      ]
    }
  ],
  "metadata": {
    "colab": {
      "provenance": []
    },
    "gpuClass": "standard",
    "kernelspec": {
      "display_name": "Python 3",
      "name": "python3"
    },
    "language_info": {
      "name": "python"
    }
  },
  "nbformat": 4,
  "nbformat_minor": 0
}
